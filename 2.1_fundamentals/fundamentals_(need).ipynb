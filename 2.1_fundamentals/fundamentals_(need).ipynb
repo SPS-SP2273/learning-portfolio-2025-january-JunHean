{
 "cells": [
  {
   "attachments": {},
   "cell_type": "markdown",
   "id": "123456",
   "metadata": {},
   "source": [
    "<div style=\"text-align:left;font-size:2em\"><span style=\"font-weight:bolder;font-size:1.25em\">SP2273 | Learning Portfolio</span><br><br><span style=\"font-weight:bold;color:darkred\">Fundamentals (Need)</span></div>"
   ]
  },
  {
   "attachments": {},
   "cell_type": "markdown",
   "id": "71be34f0",
   "metadata": {},
   "source": [
    "# What to expect in this chapter"
   ]
  },
  {
   "cell_type": "code",
   "execution_count": 3,
   "id": "244074c7-bad7-43b8-b042-f718b8fa0249",
   "metadata": {},
   "outputs": [
    {
     "name": "stdout",
     "output_type": "stream",
     "text": [
      "Hello WorldHello WorldHello World\n"
     ]
    }
   ],
   "source": [
    "print(\"Hello World\"*3)"
   ]
  },
  {
   "cell_type": "code",
   "execution_count": 9,
   "id": "9449000e-46f5-4785-a2fc-a3cb604b1f74",
   "metadata": {},
   "outputs": [
    {
     "name": "stdout",
     "output_type": "stream",
     "text": [
      "Hello World XXXX dhjaskhd XXXX sjdbaksd---"
     ]
    }
   ],
   "source": [
    "#If I want to `print` text but add separater and endings\n",
    "\n",
    "print (\"Hello World\", \"dhjaskhd\", \"sjdbaksd\", sep = \" XXXX \", end = \"---\")"
   ]
  },
  {
   "cell_type": "code",
   "execution_count": 10,
   "id": "fb68a385-c216-4944-916e-1984eb5bb6f2",
   "metadata": {},
   "outputs": [
    {
     "name": "stdout",
     "output_type": "stream",
     "text": [
      "A\n",
      "B\n",
      "C\n",
      "D\n"
     ]
    }
   ],
   "source": [
    "#If I want to `print` in multiple lines\n",
    "\n",
    "print('A')\n",
    "print('B')\n",
    "print('C')\n",
    "print('D')"
   ]
  },
  {
   "attachments": {},
   "cell_type": "markdown",
   "id": "b8e3b82e",
   "metadata": {},
   "source": [
    "# 1 Functions"
   ]
  },
  {
   "cell_type": "markdown",
   "id": "f67bedcc-db33-4d36-afa4-08506b81955e",
   "metadata": {},
   "source": [
    "## Test 1"
   ]
  },
  {
   "cell_type": "code",
   "execution_count": 13,
   "id": "175e6f81-7128-421a-82fa-625907e58ce9",
   "metadata": {},
   "outputs": [],
   "source": [
    "x=10"
   ]
  },
  {
   "cell_type": "code",
   "execution_count": 12,
   "id": "3b641de8-261c-4b27-9653-d3220da7405f",
   "metadata": {},
   "outputs": [
    {
     "data": {
      "text/plain": [
       "True"
      ]
     },
     "execution_count": 12,
     "metadata": {},
     "output_type": "execute_result"
    }
   ],
   "source": [
    "x==10"
   ]
  },
  {
   "cell_type": "markdown",
   "id": "560e7f7c-b715-43c9-a95a-b0f04f5b58ed",
   "metadata": {},
   "source": [
    "## Test 2"
   ]
  },
  {
   "cell_type": "code",
   "execution_count": 19,
   "id": "7e28a7b6-eb38-4ff2-a408-26c9eb046cf3",
   "metadata": {},
   "outputs": [
    {
     "name": "stdout",
     "output_type": "stream",
     "text": [
      "Equal to 10\n"
     ]
    }
   ],
   "source": [
    "x=10\n",
    "if x ==10:\n",
    "    print(\"Equal to 10\")\n",
    "\n",
    "# doube equal (==) is asking python to test if the subject is true or not\n",
    "# the indentation \"    \" will make the command on top the master command to be fulfiled before the following command can be made"
   ]
  },
  {
   "cell_type": "markdown",
   "id": "71a3dbf2-a2b9-4beb-a38b-91ba4bd668e5",
   "metadata": {},
   "source": [
    "## Test 3"
   ]
  },
  {
   "cell_type": "code",
   "execution_count": 23,
   "id": "3af0c042-cee2-43ab-86f8-150c0f5d0ab2",
   "metadata": {},
   "outputs": [
    {
     "name": "stdout",
     "output_type": "stream",
     "text": [
      "age\n"
     ]
    }
   ],
   "source": [
    "age = 10\n",
    "print('age')"
   ]
  },
  {
   "cell_type": "code",
   "execution_count": 29,
   "id": "28010036-d9fe-48c2-8acb-6b73fef3799c",
   "metadata": {},
   "outputs": [
    {
     "name": "stdout",
     "output_type": "stream",
     "text": [
      "age 10\n"
     ]
    }
   ],
   "source": [
    "age=10\n",
    "print(\"age\", age)\n",
    "\n",
    "#the space does not matter\n",
    "# anything within the (\"\") will be present as it is "
   ]
  },
  {
   "cell_type": "markdown",
   "id": "eef83c59-ed2d-47bc-86dc-771aa24a0b64",
   "metadata": {},
   "source": [
    "## Test 4"
   ]
  },
  {
   "cell_type": "code",
   "execution_count": 35,
   "id": "5003212b-25c3-43ba-89a3-f43b802cea7b",
   "metadata": {},
   "outputs": [
    {
     "data": {
      "text/plain": [
       "2.0"
      ]
     },
     "execution_count": 35,
     "metadata": {},
     "output_type": "execute_result"
    }
   ],
   "source": [
    "# python cannot do a comprehensive task, unless the package is installed\n",
    "\n",
    "import math\n",
    "math.sqrt(4)        #read as _A_._B_ = function B in the package A"
   ]
  },
  {
   "cell_type": "code",
   "execution_count": 57,
   "id": "162bb58e-9b1b-445a-ac27-a708131b6533",
   "metadata": {
    "scrolled": true
   },
   "outputs": [
    {
     "data": {
      "text/plain": [
       "np.float64(2.0)"
      ]
     },
     "execution_count": 57,
     "metadata": {},
     "output_type": "execute_result"
    }
   ],
   "source": [
    "#numpy is another package that can do `sqrt`\n",
    "import numpy\n",
    "numpy.sqrt(4)"
   ]
  },
  {
   "cell_type": "code",
   "execution_count": 70,
   "id": "0adaa366-8a3d-4a78-80e9-20301ea56a92",
   "metadata": {},
   "outputs": [],
   "source": [
    "#np.float just mean the type of data it is stored as \"numpy\" \"float numbers\""
   ]
  },
  {
   "cell_type": "markdown",
   "id": "17e2e2c8-e456-4d8a-bb14-b43f4f9211f9",
   "metadata": {},
   "source": [
    "### Mulitple numbers"
   ]
  },
  {
   "cell_type": "code",
   "execution_count": 40,
   "id": "66556825-5918-4995-8766-c2cd3130014d",
   "metadata": {},
   "outputs": [
    {
     "ename": "TypeError",
     "evalue": "math.sqrt() takes exactly one argument (3 given)",
     "output_type": "error",
     "traceback": [
      "\u001b[1;31m---------------------------------------------------------------------------\u001b[0m",
      "\u001b[1;31mTypeError\u001b[0m                                 Traceback (most recent call last)",
      "Cell \u001b[1;32mIn[40], line 4\u001b[0m\n\u001b[0;32m      1\u001b[0m \u001b[38;5;66;03m# math package is maximised for a single number\u001b[39;00m\n\u001b[0;32m      3\u001b[0m \u001b[38;5;28;01mimport\u001b[39;00m\u001b[38;5;250m \u001b[39m\u001b[38;5;21;01mmath\u001b[39;00m\n\u001b[1;32m----> 4\u001b[0m \u001b[43mmath\u001b[49m\u001b[38;5;241;43m.\u001b[39;49m\u001b[43msqrt\u001b[49m\u001b[43m(\u001b[49m\u001b[38;5;241;43m4\u001b[39;49m\u001b[43m,\u001b[49m\u001b[43m \u001b[49m\u001b[38;5;241;43m9\u001b[39;49m\u001b[43m,\u001b[49m\u001b[43m \u001b[49m\u001b[38;5;241;43m125\u001b[39;49m\u001b[43m)\u001b[49m\n",
      "\u001b[1;31mTypeError\u001b[0m: math.sqrt() takes exactly one argument (3 given)"
     ]
    }
   ],
   "source": [
    "# math package is maximised for a single number\n",
    "\n",
    "import math\n",
    "math.sqrt(4, 9, 125)"
   ]
  },
  {
   "cell_type": "code",
   "execution_count": 59,
   "id": "c47f11ea-1942-4f8c-bca1-8511e857c74b",
   "metadata": {},
   "outputs": [
    {
     "data": {
      "text/plain": [
       "array([ 2.,  3., 12.])"
      ]
     },
     "execution_count": 59,
     "metadata": {},
     "output_type": "execute_result"
    }
   ],
   "source": [
    "import numpy\n",
    "numpy.sqrt([4,9,144])"
   ]
  },
  {
   "cell_type": "markdown",
   "id": "fa16499b-1492-4f57-9a2f-cfc414721c95",
   "metadata": {},
   "source": [
    "### Which is faster?"
   ]
  },
  {
   "cell_type": "code",
   "execution_count": 60,
   "id": "2b105853-2c36-4903-aaaf-ea2c82f44b4a",
   "metadata": {},
   "outputs": [
    {
     "name": "stdout",
     "output_type": "stream",
     "text": [
      "49.4 ns ± 1.19 ns per loop (mean ± std. dev. of 7 runs, 10,000,000 loops each)\n",
      "893 ns ± 36.3 ns per loop (mean ± std. dev. of 7 runs, 1,000,000 loops each)\n"
     ]
    }
   ],
   "source": [
    "%timeit math.sqrt(4)\n",
    "%timeit numpy.sqrt(4)"
   ]
  },
  {
   "cell_type": "markdown",
   "id": "fe251164-b340-4dc2-a205-ecd8c5edf4ea",
   "metadata": {},
   "source": [
    "Math is faster but there is the limitation of the multiple numbers"
   ]
  },
  {
   "cell_type": "markdown",
   "id": "fccd0ead-ec8b-48c2-886c-61a33a56900e",
   "metadata": {},
   "source": [
    "## Test 5"
   ]
  },
  {
   "cell_type": "code",
   "execution_count": 76,
   "id": "c9e22478-0a6b-4495-9a15-dfdc4ba5b45d",
   "metadata": {},
   "outputs": [
    {
     "name": "stdout",
     "output_type": "stream",
     "text": [
      "Not 10\n",
      "Madness\n"
     ]
    }
   ],
   "source": [
    "x=9\n",
    "if x ==10:\n",
    "    print(\"Equal to 10\")\n",
    "else:\n",
    "    print('Not 10')\n",
    "\n",
    "print('Madness') #because it is not indented and not assoc with any other codes, it wil just continue printing"
   ]
  },
  {
   "cell_type": "code",
   "execution_count": 77,
   "id": "0579fef9-941d-4f98-b99c-2f5e612b8dad",
   "metadata": {},
   "outputs": [
    {
     "name": "stdout",
     "output_type": "stream",
     "text": [
      "Not 10\n"
     ]
    }
   ],
   "source": [
    "x=9\n",
    "if x ==10:\n",
    "    print(\"Equal to 10\")\n",
    "    print('Madness')\n",
    "else:\n",
    "    print('Not 10')"
   ]
  },
  {
   "cell_type": "code",
   "execution_count": 78,
   "id": "53207f6c",
   "metadata": {},
   "outputs": [
    {
     "name": "stdout",
     "output_type": "stream",
     "text": [
      "Equal to 10\n",
      "Madness\n"
     ]
    }
   ],
   "source": [
    "x=10\n",
    "if x ==10:\n",
    "    print(\"Equal to 10\")\n",
    "    print('Madness')\n",
    "else:\n",
    "    print('Not 10')"
   ]
  },
  {
   "cell_type": "markdown",
   "id": "7b1340b5-5e81-4f9e-bccb-16473736b1fb",
   "metadata": {},
   "source": [
    "## Test 6"
   ]
  },
  {
   "cell_type": "code",
   "execution_count": 85,
   "id": "11ac733e-8e14-416a-8bb1-6ce016d3cc15",
   "metadata": {},
   "outputs": [
    {
     "data": {
      "text/plain": [
       "False"
      ]
     },
     "execution_count": 85,
     "metadata": {},
     "output_type": "execute_result"
    }
   ],
   "source": [
    "x=10\n",
    "\n",
    "x < 5 and X > 8"
   ]
  },
  {
   "cell_type": "code",
   "execution_count": 86,
   "id": "9974a9ca",
   "metadata": {},
   "outputs": [
    {
     "data": {
      "text/plain": [
       "True"
      ]
     },
     "execution_count": 86,
     "metadata": {},
     "output_type": "execute_result"
    }
   ],
   "source": [
    "x=6\n",
    "\n",
    "x < 8 and x > 5"
   ]
  },
  {
   "cell_type": "markdown",
   "id": "0938a8d1-ef37-45ba-8e7d-59ae142b74e4",
   "metadata": {},
   "source": [
    "## Test 7"
   ]
  },
  {
   "cell_type": "code",
   "execution_count": 87,
   "id": "aff802ae-621d-4987-905b-8019ae95479e",
   "metadata": {},
   "outputs": [
    {
     "data": {
      "text/plain": [
       "True"
      ]
     },
     "execution_count": 87,
     "metadata": {},
     "output_type": "execute_result"
    }
   ],
   "source": [
    "'apple' in ['apple','pear','chocolate']"
   ]
  },
  {
   "cell_type": "code",
   "execution_count": 92,
   "id": "67e48895-3639-45c8-a6c8-25607acc6ae3",
   "metadata": {},
   "outputs": [
    {
     "data": {
      "text/plain": [
       "False"
      ]
     },
     "execution_count": 92,
     "metadata": {},
     "output_type": "execute_result"
    }
   ],
   "source": [
    "'apple' > 'orange'\n",
    "\n",
    "#ans will be False as python will compare the alphabet (a) and (o) which have designated numbers, can be checked with the function `ord`"
   ]
  },
  {
   "cell_type": "code",
   "execution_count": 93,
   "id": "c78c82a4-d86f-4f05-ab24-4da28189f1f6",
   "metadata": {},
   "outputs": [
    {
     "data": {
      "text/plain": [
       "97"
      ]
     },
     "execution_count": 93,
     "metadata": {},
     "output_type": "execute_result"
    }
   ],
   "source": [
    "ord('a')"
   ]
  },
  {
   "cell_type": "code",
   "execution_count": 94,
   "id": "52ceed09-bd24-4690-b308-da65e1d9d57a",
   "metadata": {},
   "outputs": [
    {
     "data": {
      "text/plain": [
       "111"
      ]
     },
     "execution_count": 94,
     "metadata": {},
     "output_type": "execute_result"
    }
   ],
   "source": [
    "ord('o')"
   ]
  },
  {
   "cell_type": "markdown",
   "id": "3113767a-39b5-442c-894a-f93dfb7a81ae",
   "metadata": {},
   "source": [
    "## Replacing of parts of code?"
   ]
  },
  {
   "cell_type": "code",
   "execution_count": null,
   "id": "3e709c91-0b70-401f-bc9f-2984a5758e1a",
   "metadata": {},
   "outputs": [],
   "source": []
  },
  {
   "attachments": {},
   "cell_type": "markdown",
   "id": "c20e4d41",
   "metadata": {},
   "source": [
    "# 2 Python is interpreted"
   ]
  },
  {
   "attachments": {},
   "cell_type": "markdown",
   "id": "3cb4db8e",
   "metadata": {},
   "source": [
    "# 3 Python is sensitive."
   ]
  },
  {
   "attachments": {},
   "cell_type": "markdown",
   "id": "b9a17fed",
   "metadata": {},
   "source": [
    "# 4 Comments"
   ]
  },
  {
   "attachments": {},
   "cell_type": "markdown",
   "id": "5ff93e4b",
   "metadata": {},
   "source": [
    "# 5 = is not the same as =="
   ]
  },
  {
   "attachments": {},
   "cell_type": "markdown",
   "id": "f84379ef",
   "metadata": {},
   "source": [
    "# 6 Use if to make decisions"
   ]
  },
  {
   "attachments": {},
   "cell_type": "markdown",
   "id": "10133cda",
   "metadata": {},
   "source": [
    "# 7 Indentations (spaces) are sooo IMPORTANT!"
   ]
  },
  {
   "attachments": {},
   "cell_type": "markdown",
   "id": "8cd75f01",
   "metadata": {},
   "source": [
    "# 8 ‘age’ is English, age is a variable."
   ]
  },
  {
   "attachments": {},
   "cell_type": "markdown",
   "id": "3186696d",
   "metadata": {},
   "source": [
    "# 9 Brackets"
   ]
  },
  {
   "attachments": {},
   "cell_type": "markdown",
   "id": "755a3007",
   "metadata": {},
   "source": [
    "# 10 Giving Python superpowers with Packages"
   ]
  },
  {
   "attachments": {},
   "cell_type": "markdown",
   "id": "18ea7780",
   "metadata": {},
   "source": [
    "## 10.1 Some Context"
   ]
  },
  {
   "attachments": {},
   "cell_type": "markdown",
   "id": "902fd5ac",
   "metadata": {},
   "source": [
    "## 10.2 Importing the math package"
   ]
  },
  {
   "attachments": {},
   "cell_type": "markdown",
   "id": "ce699866",
   "metadata": {},
   "source": [
    "## 10.3 Importing the numpy package"
   ]
  },
  {
   "attachments": {},
   "cell_type": "markdown",
   "id": "fe456816",
   "metadata": {},
   "source": [
    "## 10.4 Why so many packages?"
   ]
  },
  {
   "attachments": {},
   "cell_type": "markdown",
   "id": "d3cd8583",
   "metadata": {},
   "source": [
    "# 11 The dot (.)"
   ]
  },
  {
   "attachments": {},
   "cell_type": "markdown",
   "id": "94fb19f1",
   "metadata": {},
   "source": [
    "## Footnotes"
   ]
  }
 ],
 "metadata": {
  "kernelspec": {
   "display_name": "Python 3 (ipykernel)",
   "language": "python",
   "name": "python3"
  },
  "language_info": {
   "codemirror_mode": {
    "name": "ipython",
    "version": 3
   },
   "file_extension": ".py",
   "mimetype": "text/x-python",
   "name": "python",
   "nbconvert_exporter": "python",
   "pygments_lexer": "ipython3",
   "version": "3.12.3"
  },
  "toc": {
   "base_numbering": 1,
   "nav_menu": {},
   "number_sections": true,
   "sideBar": true,
   "skip_h1_title": false,
   "title_cell": "Table of Contents",
   "title_sidebar": "Contents",
   "toc_cell": false,
   "toc_position": {},
   "toc_section_display": true,
   "toc_window_display": false
  },
  "vscode": {
   "interpreter": {
    "hash": "31f2aee4e71d21fbe5cf8b01ff0e069b9275f58929596ceb00d14d90e3e16cd6"
   }
  }
 },
 "nbformat": 4,
 "nbformat_minor": 5
}
