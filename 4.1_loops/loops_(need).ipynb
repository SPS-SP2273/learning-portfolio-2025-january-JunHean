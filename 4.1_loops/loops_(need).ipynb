{
 "cells": [
  {
   "attachments": {},
   "cell_type": "markdown",
   "id": "123456",
   "metadata": {},
   "source": [
    "<div style=\"text-align:left;font-size:2em\"><span style=\"font-weight:bolder;font-size:1.25em\">SP2273 | Learning Portfolio</span><br><br><span style=\"font-weight:bold;color:darkred\">Loops (Need)</span></div>"
   ]
  },
  {
   "attachments": {},
   "cell_type": "markdown",
   "id": "44201b14",
   "metadata": {},
   "source": [
    "# What to expect in this chapter"
   ]
  },
  {
   "cell_type": "code",
   "execution_count": 51,
   "id": "c5028bf2-ca67-472c-8026-e07ca2686347",
   "metadata": {},
   "outputs": [],
   "source": [
    "names = [\"Alex\", \"Ben\", \"Charlie\", \"Diana\", \"Emma\", \"Felix\", \"Grace\", \"Hannah\", \"Isaac\", \"Jack\",\n",
    "         \"Katie\", \"Liam\", \"Mia\", \"Nathan\", \"Olivia\", \"Patrick\", \"Quinn\", \"Rachel\", \"Samuel\", \"Tina\"]\n",
    "\n",
    "majors = [\"Biology\", \"Computer Science\", \"Mechanical Engineering\", \"Psychology\", \"Economics\", \"Political Science\", \"Mathematics\",\n",
    "          \"History\", \"Business Administration\", \"Physics\", \"English Literature\", \"Sociology\", \"Chemistry\", \"Philosophy\", \n",
    "          \"Environmental Science\", \"Electrical Engineering\", \"Finance\", \"Art History\", \"Journalism\", \"Anthropology\"]\n",
    "\n",
    "years = [\"1st Year\", \"2nd Year\", \"3rd Year\", \"4th Year\", \"1st Year\", \"2nd Year\", \"3rd Year\", \"4th Year\", \"1st Year\", \"2nd Year\",\n",
    "         \"3rd Year\", \"4th Year\", \"1st Year\", \"2nd Year\", \"3rd Year\", \"4th Year\", \"1st Year\", \"2nd Year\", \"3rd Year\", \"4th Year\"]"
   ]
  },
  {
   "cell_type": "code",
   "execution_count": 23,
   "id": "a6c4c662-c576-461f-b872-4e0cfeb051e0",
   "metadata": {},
   "outputs": [],
   "source": [
    "names_upper = list()     # Creating an empty list\n",
    "\n",
    "for name in names:\n",
    "    names_upper.append(name.upper())"
   ]
  },
  {
   "cell_type": "code",
   "execution_count": 26,
   "id": "e3159034-627a-4744-a970-04dfdb5bf524",
   "metadata": {},
   "outputs": [
    {
     "data": {
      "text/plain": [
       "['Chemistry',\n",
       " 'Pharmacy',\n",
       " 'Pharmacy',\n",
       " 'Life Sciences',\n",
       " 'Pharmacy',\n",
       " 'Pharmacy',\n",
       " 'Life Sciences',\n",
       " 'Life Sciences',\n",
       " 'Pharmacy',\n",
       " 'Pharmacy',\n",
       " 'Business and Psychology',\n",
       " 'Business Real Estate']"
      ]
     },
     "execution_count": 26,
     "metadata": {},
     "output_type": "execute_result"
    }
   ],
   "source": [
    "major = [\"Chem\", \"Pharmacy\", \"Pharmacy\", \"Life Sciences\", \"Pharmacy\",\n",
    "         \"Pharmacy\", \"Life Science\", \"Life Science\", \"Pharmacy\",\n",
    "         \"Pharmacy\", \"Business and Psychology\", \"Biz Real Estate\"]\n",
    "\n",
    "major_cleaned = []\n",
    "for major in major:\n",
    "    if major == \"Chem\":\n",
    "        major_cleaned.append('Chemistry')\n",
    "    elif major == 'Life Science':\n",
    "        major_cleaned.append('Life Sciences')\n",
    "    elif major == 'Biz Real Estate':\n",
    "        major_cleaned.append('Business Real Estate')\n",
    "    else:\n",
    "        major_cleaned.append(major)      \n",
    "\n",
    "major_cleaned"
   ]
  },
  {
   "cell_type": "code",
   "execution_count": 129,
   "id": "a97adf48-14c4-4b84-87f0-507820efa969",
   "metadata": {},
   "outputs": [
    {
     "data": {
      "text/plain": [
       "'Biz Real Estate'"
      ]
     },
     "execution_count": 129,
     "metadata": {},
     "output_type": "execute_result"
    }
   ],
   "source": []
  },
  {
   "cell_type": "code",
   "execution_count": 111,
   "id": "3010539d-1ab6-446c-bae1-fdd422fd6260",
   "metadata": {},
   "outputs": [
    {
     "name": "stdout",
     "output_type": "stream",
     "text": [
      "Ben\n"
     ]
    }
   ],
   "source": [
    "index=1\n",
    "\n",
    "print(names[index])"
   ]
  },
  {
   "cell_type": "code",
   "execution_count": 112,
   "id": "a52cddbc-b6da-4fae-aa1a-8961c2f7970a",
   "metadata": {},
   "outputs": [
    {
     "name": "stdout",
     "output_type": "stream",
     "text": [
      "Name:Alex                , Major:Biology                       ,Year:1st Year  \n"
     ]
    }
   ],
   "source": [
    "# As\n",
    "\n",
    "index=0\n",
    "print(f'Name:{names[index]:<20}, Major:{majors[index]:<30},Year:{years[index]:<10}')"
   ]
  },
  {
   "cell_type": "code",
   "execution_count": 113,
   "id": "2ff70f88-e7ea-458f-9f0f-f23b4d553b81",
   "metadata": {},
   "outputs": [
    {
     "name": "stdout",
     "output_type": "stream",
     "text": [
      "Name:Alex                , Major:Biology                       ,Year:1st Year  \n",
      "Name:Ben                 , Major:Computer Science              ,Year:2nd Year  \n",
      "Name:Charlie             , Major:Mechanical Engineering        ,Year:3rd Year  \n"
     ]
    }
   ],
   "source": [
    "index=0\n",
    "print(f'Name:{names[index]:<20}, Major:{majors[index]:<30},Year:{years[index]:<10}')\n",
    "index=1\n",
    "print(f'Name:{names[index]:<20}, Major:{majors[index]:<30},Year:{years[index]:<10}')\n",
    "index=2\n",
    "print(f'Name:{names[index]:<20}, Major:{majors[index]:<30},Year:{years[index]:<10}')"
   ]
  },
  {
   "cell_type": "code",
   "execution_count": 52,
   "id": "fbce722c-35cc-4697-888b-9067d60ee2f9",
   "metadata": {},
   "outputs": [
    {
     "ename": "NameError",
     "evalue": "name 'year' is not defined",
     "output_type": "error",
     "traceback": [
      "\u001b[1;31m---------------------------------------------------------------------------\u001b[0m",
      "\u001b[1;31mNameError\u001b[0m                                 Traceback (most recent call last)",
      "Cell \u001b[1;32mIn[52], line 3\u001b[0m\n\u001b[0;32m      1\u001b[0m index \u001b[38;5;241m=\u001b[39m \u001b[38;5;241m0\u001b[39m\n\u001b[0;32m      2\u001b[0m \u001b[38;5;28;01mfor\u001b[39;00m name \u001b[38;5;129;01min\u001b[39;00m \u001b[38;5;28mzip\u001b[39m(names, majors, years):\n\u001b[1;32m----> 3\u001b[0m     \u001b[38;5;28mprint\u001b[39m(\u001b[38;5;124mf\u001b[39m\u001b[38;5;124m'\u001b[39m\u001b[38;5;124mName:\u001b[39m\u001b[38;5;132;01m{\u001b[39;00mname[index]\u001b[38;5;132;01m:\u001b[39;00m\u001b[38;5;124m<30\u001b[39m\u001b[38;5;132;01m}\u001b[39;00m\u001b[38;5;124m, Major:\u001b[39m\u001b[38;5;132;01m{\u001b[39;00mmajor[index]\u001b[38;5;132;01m:\u001b[39;00m\u001b[38;5;124m<30\u001b[39m\u001b[38;5;132;01m}\u001b[39;00m\u001b[38;5;124m,Year:\u001b[39m\u001b[38;5;132;01m{\u001b[39;00m\u001b[43myear\u001b[49m[index]\u001b[38;5;132;01m:\u001b[39;00m\u001b[38;5;124m<10\u001b[39m\u001b[38;5;132;01m}\u001b[39;00m\u001b[38;5;124m'\u001b[39m)\n\u001b[0;32m      5\u001b[0m \u001b[38;5;66;03m# Only the names will run the others will not run \u001b[39;00m\n",
      "\u001b[1;31mNameError\u001b[0m: name 'year' is not defined"
     ]
    }
   ],
   "source": [
    "index = 0\n",
    "for name in zip(names, majors, years):\n",
    "    print(f'Name:{name[index]:<30}, Major:{major[index]:<30},Year:{year[index]:<10}')\n",
    "\n",
    "# Only the names will run the others will not run "
   ]
  },
  {
   "cell_type": "code",
   "execution_count": 5,
   "id": "dcc3b3fc-0d0a-46af-b044-6d1b8e814b69",
   "metadata": {},
   "outputs": [
    {
     "data": {
      "text/plain": [
       "[('Alex', 'Biology', '1st Year'),\n",
       " ('Ben', 'Computer Science', '2nd Year'),\n",
       " ('Charlie', 'Mechanical Engineering', '3rd Year'),\n",
       " ('Diana', 'Psychology', '4th Year'),\n",
       " ('Emma', 'Economics', '1st Year'),\n",
       " ('Felix', 'Political Science', '2nd Year'),\n",
       " ('Grace', 'Mathematics', '3rd Year'),\n",
       " ('Hannah', 'History', '4th Year'),\n",
       " ('Isaac', 'Business Administration', '1st Year'),\n",
       " ('Jack', 'Physics', '2nd Year'),\n",
       " ('Katie', 'English Literature', '3rd Year'),\n",
       " ('Liam', 'Sociology', '4th Year'),\n",
       " ('Mia', 'Chemistry', '1st Year'),\n",
       " ('Nathan', 'Philosophy', '2nd Year'),\n",
       " ('Olivia', 'Environmental Science', '3rd Year'),\n",
       " ('Patrick', 'Electrical Engineering', '4th Year'),\n",
       " ('Quinn', 'Finance', '1st Year'),\n",
       " ('Rachel', 'Art History', '2nd Year'),\n",
       " ('Samuel', 'Journalism', '3rd Year'),\n",
       " ('Tina', 'Anthropology', '4th Year')]"
      ]
     },
     "execution_count": 5,
     "metadata": {},
     "output_type": "execute_result"
    }
   ],
   "source": [
    "list(zip(names, majors, years))"
   ]
  },
  {
   "cell_type": "code",
   "execution_count": 53,
   "id": "7c8a3571-0f80-4e59-9e0b-6dd6352976bb",
   "metadata": {},
   "outputs": [
    {
     "name": "stdout",
     "output_type": "stream",
     "text": [
      "Name:Alex      , Major:Biology                       ,Year:1st Year  \n",
      "Name:Ben       , Major:Computer Science              ,Year:2nd Year  \n",
      "Name:Charlie   , Major:Mechanical Engineering        ,Year:3rd Year  \n",
      "Name:Diana     , Major:Psychology                    ,Year:4th Year  \n",
      "Name:Emma      , Major:Economics                     ,Year:1st Year  \n",
      "Name:Felix     , Major:Political Science             ,Year:2nd Year  \n",
      "Name:Grace     , Major:Mathematics                   ,Year:3rd Year  \n",
      "Name:Hannah    , Major:History                       ,Year:4th Year  \n",
      "Name:Isaac     , Major:Business Administration       ,Year:1st Year  \n",
      "Name:Jack      , Major:Physics                       ,Year:2nd Year  \n",
      "Name:Katie     , Major:English Literature            ,Year:3rd Year  \n",
      "Name:Liam      , Major:Sociology                     ,Year:4th Year  \n",
      "Name:Mia       , Major:Chemistry                     ,Year:1st Year  \n",
      "Name:Nathan    , Major:Philosophy                    ,Year:2nd Year  \n",
      "Name:Olivia    , Major:Environmental Science         ,Year:3rd Year  \n",
      "Name:Patrick   , Major:Electrical Engineering        ,Year:4th Year  \n",
      "Name:Quinn     , Major:Finance                       ,Year:1st Year  \n",
      "Name:Rachel    , Major:Art History                   ,Year:2nd Year  \n",
      "Name:Samuel    , Major:Journalism                    ,Year:3rd Year  \n",
      "Name:Tina      , Major:Anthropology                  ,Year:4th Year  \n"
     ]
    }
   ],
   "source": [
    "# index=0\n",
    "for name in zip(names, majors, years):                                                     # zip() groups corresponding index in each list as 1 element\n",
    "    # print(f'Name:{names[index]:<30}, Major:{majors[index]:<30},Year:{years[index]:<10}')\n",
    "    print(f'Name:{name[0]:<10}, Major:{name[1]:<30},Year:{name[2]:<10}')"
   ]
  },
  {
   "cell_type": "code",
   "execution_count": 50,
   "id": "8303322f-f254-4fc1-9b33-74654188848f",
   "metadata": {},
   "outputs": [
    {
     "data": {
      "text/plain": [
       "'Stephen Strange'"
      ]
     },
     "execution_count": 50,
     "metadata": {},
     "output_type": "execute_result"
    }
   ],
   "source": [
    "name"
   ]
  },
  {
   "cell_type": "code",
   "execution_count": 9,
   "id": "c83e7e7d-0fda-4e5b-a647-358e6ec29ada",
   "metadata": {},
   "outputs": [
    {
     "name": "stdout",
     "output_type": "stream",
     "text": [
      "value of x =10\n",
      "Value of x=10\n"
     ]
    }
   ],
   "source": [
    "x = 10\n",
    "print('value of x =' + str(x))\n",
    "print(f'Value of {x=}')"
   ]
  },
  {
   "cell_type": "code",
   "execution_count": 87,
   "id": "39ad2ef0-eaeb-4e4f-be31-56f33f7f3d41",
   "metadata": {},
   "outputs": [
    {
     "name": "stdout",
     "output_type": "stream",
     "text": [
      "4 . Name:Diana               , Major:Psychology                    ,Year:4th Year  \n",
      "8 . Name:Hannah              , Major:History                       ,Year:4th Year  \n",
      "12. Name:Liam                , Major:Sociology                     ,Year:4th Year  \n",
      "16. Name:Patrick             , Major:Electrical Engineering        ,Year:4th Year  \n",
      "20. Name:Tina                , Major:Anthropology                  ,Year:4th Year  \n"
     ]
    }
   ],
   "source": [
    "# print all the '4th year students'\n",
    "\n",
    "for index, name in enumerate(names):          # numbering the names starting with 0\n",
    "    year = years[index]                       # assigning the year as \n",
    "    if year == '4th Year':\n",
    "        print(f'{index+1:<2}. Name:{name:<20}, Major:{majors[index]:<30},Year:{year:<10}')      "
   ]
  },
  {
   "cell_type": "code",
   "execution_count": 86,
   "id": "81484a47-da68-46bb-9a88-4d76fb2915c4",
   "metadata": {},
   "outputs": [
    {
     "name": "stdout",
     "output_type": "stream",
     "text": [
      "1 . Not a fourth year\n",
      "2 . Not a fourth year\n",
      "3 . Not a fourth year\n",
      "4 . Name:Diana               , Major:Psychology                    ,Year:4th Year  \n",
      "5 . Not a fourth year\n",
      "6 . Not a fourth year\n",
      "7 . Not a fourth year\n",
      "8 . Name:Hannah              , Major:History                       ,Year:4th Year  \n",
      "9 . Not a fourth year\n",
      "10. Not a fourth year\n",
      "11. Not a fourth year\n",
      "12. Name:Liam                , Major:Sociology                     ,Year:4th Year  \n",
      "13. Not a fourth year\n",
      "14. Not a fourth year\n",
      "15. Not a fourth year\n",
      "16. Name:Patrick             , Major:Electrical Engineering        ,Year:4th Year  \n",
      "17. Not a fourth year\n",
      "18. Not a fourth year\n",
      "19. Not a fourth year\n",
      "20. Name:Tina                , Major:Anthropology                  ,Year:4th Year  \n"
     ]
    }
   ],
   "source": [
    "# If the hit is not what is the condition, list it as 'Not a fourth year'\n",
    "\n",
    "for index, name in enumerate(names):          # numbering the names starting with 0\n",
    "    year = years[index]                       # assigning the year as \n",
    "    if year == '4th Year':\n",
    "        print(f'{index+1:<2}. Name:{name:<20}, Major:{majors[index]:<30},Year:{year:<10}')      \n",
    "    else:\n",
    "        print(f'{index+1:<2}. Not a fourth year')"
   ]
  },
  {
   "cell_type": "code",
   "execution_count": 68,
   "id": "299071b9-829a-4eb5-bd4a-31bec8c3bc9a",
   "metadata": {},
   "outputs": [
    {
     "name": "stdout",
     "output_type": "stream",
     "text": [
      "4. Name:Diana                         , Major:Psychology                    ,Year:4th Year  \n",
      "8. Name:Hannah                        , Major:History                       ,Year:4th Year  \n",
      "12. Name:Liam                          , Major:Sociology                     ,Year:4th Year  \n",
      "16. Name:Patrick                       , Major:Electrical Engineering        ,Year:4th Year  \n",
      "20. Name:Tina                          , Major:Anthropology                  ,Year:4th Year  \n"
     ]
    }
   ],
   "source": [
    "# `continue` means to skip to the next line, since it is before print(), it will skip the print line\n",
    "\n",
    "for index, name in enumerate(names):          # numbering the names starting with 0\n",
    "    year = years[index]                       # assigning the year as \n",
    "    if year == '4th Year':\n",
    "        print(f'{index+1}. Name:{name:<30}, Major:{majors[index]:<30},Year:{year:<10}')      \n",
    "    else:\n",
    "        continue                            # continue means to continue to next line\n",
    "        print('Not a first year')"
   ]
  },
  {
   "cell_type": "code",
   "execution_count": 85,
   "id": "c2e38a7c-27df-4699-b7a5-67ad3cc986eb",
   "metadata": {},
   "outputs": [
    {
     "name": "stdout",
     "output_type": "stream",
     "text": [
      "4: Name:Diana                         , Major:Psychology                    ,Year:4th Year  \n"
     ]
    }
   ],
   "source": [
    "# `break` stops the code when the first hit is reached\n",
    "\n",
    "for index, name in enumerate(names):\n",
    "    year = years[index]\n",
    "    if year == '4th Year':\n",
    "        print(f'{index+1}: Name:{name:<30}, Major:{majors[index]:<30},Year:{year:<10}')\n",
    "        break                               # stop the code once it hits the first\n",
    "    else:\n",
    "        continue                            # continue means to continue to next line\n",
    "        print('Not a first year')"
   ]
  },
  {
   "cell_type": "code",
   "execution_count": 91,
   "id": "a4ef11bf-50ac-4daf-82b4-de721d4dc720",
   "metadata": {},
   "outputs": [
    {
     "name": "stdout",
     "output_type": "stream",
     "text": [
      "1: Name:Alex                          , Major:Biology                       ,Year:1st Year  \n",
      "5: Name:Emma                          , Major:Economics                     ,Year:1st Year  \n",
      "9: Name:Isaac                         , Major:Business Administration       ,Year:1st Year  \n",
      "13: Name:Mia                           , Major:Chemistry                     ,Year:1st Year  \n",
      "17: Name:Quinn                         , Major:Finance                       ,Year:1st Year  \n"
     ]
    }
   ],
   "source": [
    "# print out the \"first year\" details\n",
    "\n",
    "for index, name in enumerate(names):\n",
    "    year = years[index]\n",
    "    if year == '1st Year':\n",
    "        print(f'{index+1}: Name:{name:<30}, Major:{majors[index]:<30},Year:{year:<10}')"
   ]
  },
  {
   "cell_type": "code",
   "execution_count": 94,
   "id": "64118704-5063-41a2-b47e-b2af231511ef",
   "metadata": {},
   "outputs": [
    {
     "name": "stdout",
     "output_type": "stream",
     "text": [
      "1: Name:Alex                          , Major:Biology                       ,Year:1st Year  \n",
      "5: Name:Emma                          , Major:Economics                     ,Year:1st Year  \n",
      "9: Name:Isaac                         , Major:Business Administration       ,Year:1st Year  \n",
      "13: Name:Mia                           , Major:Chemistry                     ,Year:1st Year  \n",
      "17: Name:Quinn                         , Major:Finance                       ,Year:1st Year  \n"
     ]
    }
   ],
   "source": [
    "# different way to print out the \"first year\" details\n",
    "\n",
    "for index, name in enumerate(names):\n",
    "    if years[index] == '1st Year':\n",
    "        print(f'{index+1}: Name:{name:<30}, Major:{majors[index]:<30},Year:{years[index]:<10}')"
   ]
  },
  {
   "cell_type": "code",
   "execution_count": 89,
   "id": "43891f65-aea8-4b23-a5d1-52ad5a5bd760",
   "metadata": {},
   "outputs": [
    {
     "name": "stdout",
     "output_type": "stream",
     "text": [
      "10\n",
      "9\n",
      "8\n",
      "7\n",
      "6\n",
      "5\n",
      "4\n",
      "3\n",
      "2\n",
      "1\n",
      "0\n"
     ]
    }
   ],
   "source": [
    "x=10\n",
    "\n",
    "while x >= 0:\n",
    "    print(x)\n",
    "    x-= 1"
   ]
  },
  {
   "attachments": {},
   "cell_type": "markdown",
   "id": "a5248615",
   "metadata": {},
   "source": [
    "# Notes infromation"
   ]
  },
  {
   "cell_type": "code",
   "execution_count": 34,
   "id": "e659cae6-a480-4c56-9366-cd923873d19f",
   "metadata": {},
   "outputs": [],
   "source": [
    "real_names = [\"Natasha Romanoff\", \"Tony Stark\", \"Stephen Strange\"]"
   ]
  },
  {
   "cell_type": "code",
   "execution_count": 35,
   "id": "4528312e-f229-4bac-8a7e-4ac86bcfd5a3",
   "metadata": {},
   "outputs": [
    {
     "name": "stdout",
     "output_type": "stream",
     "text": [
      "Natasha Romanoff is a Marvel superhero!\n",
      "Tony Stark is a Marvel superhero!\n",
      "Stephen Strange is a Marvel superhero!\n"
     ]
    }
   ],
   "source": [
    "for name in real_names:                              # goes through the list of real-names and name each element 'name'\n",
    "    print(f\"{name} is a Marvel superhero!\")"
   ]
  },
  {
   "cell_type": "code",
   "execution_count": 37,
   "id": "d1bf56b7-b45f-4e04-b0f0-6700b18e89b1",
   "metadata": {},
   "outputs": [],
   "source": [
    "super_names = [\"Black Widow\", \"Iron Man\", \"Doctor Strange\"]\n",
    "real_names = [\"Natasha Romanoff\", \"Tony Stark\", \"Stephen Strange\"]"
   ]
  },
  {
   "cell_type": "code",
   "execution_count": 40,
   "id": "b44276aa-0fa7-41ff-89df-4758114cb4ba",
   "metadata": {},
   "outputs": [
    {
     "name": "stdout",
     "output_type": "stream",
     "text": [
      "0: Natasha Romanoff is a Marvel superhero!\n",
      "1: Tony Stark is a Marvel superhero!\n",
      "2: Stephen Strange is a Marvel superhero!\n"
     ]
    }
   ],
   "source": [
    "for count, name in enumerate(real_names):                 # enumerate() assign each element a number (0: element), Store as 0={count}, element={name}\n",
    "    print(f'{count}: {name} is a Marvel superhero!')"
   ]
  },
  {
   "cell_type": "code",
   "execution_count": 41,
   "id": "06cc3162-37ca-454e-9c0b-258a3b554175",
   "metadata": {},
   "outputs": [
    {
     "name": "stdout",
     "output_type": "stream",
     "text": [
      "Natasha Romanoff is Black Widow!\n",
      "Tony Stark is Iron Man!\n",
      "Stephen Strange is Doctor Strange!\n"
     ]
    }
   ],
   "source": [
    "# use the count given by enumerate() to index the other list\n",
    "\n",
    "for index, name in enumerate(real_names):             # Storing the number given by enumerate() as {index}\n",
    "    superhero_name = super_names[index]               # superhero_name is extracted as the element in {super_names} belonging to the specific [index]\n",
    "    print(f'{name} is {superhero_name}!')"
   ]
  },
  {
   "cell_type": "code",
   "execution_count": 46,
   "id": "b325405c-677a-4542-90df-b202e30eb3f9",
   "metadata": {},
   "outputs": [
    {
     "name": "stdout",
     "output_type": "stream",
     "text": [
      "100: Natasha Romanoff is a Marvel superhero!\n",
      "101: Tony Stark is a Marvel superhero!\n",
      "102: Stephen Strange is a Marvel superhero!\n"
     ]
    }
   ],
   "source": [
    "for count, name in enumerate(real_names, 100):               # starting the count at 100\n",
    "    print(f'{count}: {name} is a Marvel superhero!')"
   ]
  },
  {
   "cell_type": "code",
   "execution_count": 48,
   "id": "02c953b5-073a-495f-8bb0-740005c9dc7e",
   "metadata": {},
   "outputs": [
    {
     "data": {
      "text/plain": [
       "\u001b[1;31mInit signature:\u001b[0m \u001b[0menumerate\u001b[0m\u001b[1;33m(\u001b[0m\u001b[0miterable\u001b[0m\u001b[1;33m,\u001b[0m \u001b[0mstart\u001b[0m\u001b[1;33m=\u001b[0m\u001b[1;36m0\u001b[0m\u001b[1;33m)\u001b[0m\u001b[1;33m\u001b[0m\u001b[1;33m\u001b[0m\u001b[0m\n",
       "\u001b[1;31mDocstring:\u001b[0m     \n",
       "Return an enumerate object.\n",
       "\n",
       "  iterable\n",
       "    an object supporting iteration\n",
       "\n",
       "The enumerate object yields pairs containing a count (from start, which\n",
       "defaults to zero) and a value yielded by the iterable argument.\n",
       "\n",
       "enumerate is useful for obtaining an indexed list:\n",
       "    (0, seq[0]), (1, seq[1]), (2, seq[2]), ...\n",
       "\u001b[1;31mType:\u001b[0m           type\n",
       "\u001b[1;31mSubclasses:\u001b[0m     "
      ]
     },
     "metadata": {},
     "output_type": "display_data"
    }
   ],
   "source": [
    "?enumerate"
   ]
  },
  {
   "attachments": {},
   "cell_type": "markdown",
   "id": "90a63059",
   "metadata": {},
   "source": [
    "## 1.1 for with a list"
   ]
  },
  {
   "attachments": {},
   "cell_type": "markdown",
   "id": "af55cc04",
   "metadata": {},
   "source": [
    "## 1.2 for with enumerate"
   ]
  },
  {
   "attachments": {},
   "cell_type": "markdown",
   "id": "7a27abe3",
   "metadata": {},
   "source": [
    "## 1.3 for with range"
   ]
  },
  {
   "attachments": {},
   "cell_type": "markdown",
   "id": "fc9784db",
   "metadata": {},
   "source": [
    "# 2 while"
   ]
  }
 ],
 "metadata": {
  "kernelspec": {
   "display_name": "Python 3 (ipykernel)",
   "language": "python",
   "name": "python3"
  },
  "language_info": {
   "codemirror_mode": {
    "name": "ipython",
    "version": 3
   },
   "file_extension": ".py",
   "mimetype": "text/x-python",
   "name": "python",
   "nbconvert_exporter": "python",
   "pygments_lexer": "ipython3",
   "version": "3.12.3"
  },
  "toc": {
   "base_numbering": 1,
   "nav_menu": {},
   "number_sections": true,
   "sideBar": true,
   "skip_h1_title": false,
   "title_cell": "Table of Contents",
   "title_sidebar": "Contents",
   "toc_cell": false,
   "toc_position": {},
   "toc_section_display": true,
   "toc_window_display": false
  },
  "vscode": {
   "interpreter": {
    "hash": "31f2aee4e71d21fbe5cf8b01ff0e069b9275f58929596ceb00d14d90e3e16cd6"
   }
  }
 },
 "nbformat": 4,
 "nbformat_minor": 5
}
