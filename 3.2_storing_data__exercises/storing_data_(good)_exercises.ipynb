{
 "cells": [
  {
   "attachments": {},
   "cell_type": "markdown",
   "id": "123456",
   "metadata": {},
   "source": [
    "<div style=\"text-align:left;font-size:2em\"><span style=\"font-weight:bolder;font-size:1.25em\">SP2273 | Learning Portfolio</span><br><br><span style=\"font-weight:bold;color:darkred\">Storing Data (Good) Exercises</span></div>"
   ]
  },
  {
   "cell_type": "markdown",
   "id": "4b3acbcd-881c-4977-a2a0-e28453199c2c",
   "metadata": {},
   "source": [
    "<span style=\"font-weight:bolder;font-size:1.25em\">Exercise 1 (Total Recall)\n",
    "\n",
    "| Term       | Brief Description                                         |\n",
    "|------------|-----------------------------------------------------------|\n",
    "| Subsetting | Pulling out a small list of data from the bigger list     |\n",
    "| Indexing   | Choosing specific data from the list based on their index |\n",
    "| Slicing    | _Selecting a range of elements from the list_             |\n",
    "| Masking    | Subsetting of NumPy arrays                                |"
   ]
  },
  {
   "cell_type": "markdown",
   "id": "ebfe0c65-9b35-41ef-86a9-2f1c69a13127",
   "metadata": {},
   "source": [
    "<span style=\"font-weight:bolder;font-size:1.25em\">Exercise 2 (Show me the ‘odd’ letters)"
   ]
  },
  {
   "cell_type": "code",
   "execution_count": 46,
   "id": "2ad2013b-38b5-473a-9586-f1e6d5ef0240",
   "metadata": {},
   "outputs": [
    {
     "data": {
      "text/plain": [
       "array(['A', 'C', 'E', 'G', 'I'], dtype='<U21')"
      ]
     },
     "execution_count": 46,
     "metadata": {},
     "output_type": "execute_result"
    }
   ],
   "source": [
    "import numpy as np\n",
    "np_array_2d = np.array([[1, \"A\"], [3, \"C\"], [2, \"B\"], [4, \"D\"],\n",
    "                        [5, \"E\"], [7, \"G\"], [6, \"F\"], [8, \"H\"],\n",
    "                        [10, \"J\"], [9, \"I\"]])\n",
    "Num_np = np_array_2d[0:10, 0]\n",
    "Num = Num_np.astype(int)\n",
    "mask = Num%2 > 0 \n",
    "np_array_2d[mask,1]"
   ]
  },
  {
   "cell_type": "markdown",
   "id": "8054de18-4e6f-4dc7-b2cb-ad95a8d9eec5",
   "metadata": {},
   "source": [
    "<span style=\"font-weight:bolder;font-size:1.25em\">Exercise 3"
   ]
  },
  {
   "cell_type": "code",
   "execution_count": 61,
   "id": "a2bbe0ce-461c-443a-be0b-b56032e5b9a0",
   "metadata": {},
   "outputs": [
    {
     "data": {
      "text/plain": [
       "array([[ 1,  0,  1, -1, -1],\n",
       "       [ 1, -1,  1, -1, -1],\n",
       "       [ 1, -1, -1,  1, -1],\n",
       "       [-1,  1,  1, -1, -1],\n",
       "       [ 1, -1,  1, -1,  1]])"
      ]
     },
     "execution_count": 61,
     "metadata": {},
     "output_type": "execute_result"
    }
   ],
   "source": [
    "import numpy as np\n",
    "np_array = np.array([[66, 50, 57, -1, -1],\n",
    "                    [92, -1, 88, -1, -1],\n",
    "                    [75, -1, -1, 76, -1],\n",
    "                    [-1, 51, 87, -1, -1],\n",
    "                     [71, -1, 67, -1, 69]])\n",
    "m50 = np_array > 50 \n",
    "l50 = np_array < 50 \n",
    "e50 = np_array == 50 \n",
    "\n",
    "l50_array = np.where(np_array < 50, -1, np_array)\n",
    "m50_array = np.where(l50_array > 50, 1, l50_array)\n",
    "e50_array = np.where(m50_array == 50, 0, m50_array)\n",
    "e50_array"
   ]
  },
  {
   "cell_type": "code",
   "execution_count": null,
   "id": "f467a30b-db44-4cff-bacf-dbee474f5925",
   "metadata": {},
   "outputs": [],
   "source": []
  }
 ],
 "metadata": {
  "kernelspec": {
   "display_name": "Python 3 (ipykernel)",
   "language": "python",
   "name": "python3"
  },
  "language_info": {
   "codemirror_mode": {
    "name": "ipython",
    "version": 3
   },
   "file_extension": ".py",
   "mimetype": "text/x-python",
   "name": "python",
   "nbconvert_exporter": "python",
   "pygments_lexer": "ipython3",
   "version": "3.12.3"
  },
  "toc": {
   "base_numbering": 1,
   "nav_menu": {},
   "number_sections": true,
   "sideBar": true,
   "skip_h1_title": false,
   "title_cell": "Table of Contents",
   "title_sidebar": "Contents",
   "toc_cell": false,
   "toc_position": {},
   "toc_section_display": true,
   "toc_window_display": false
  },
  "vscode": {
   "interpreter": {
    "hash": "31f2aee4e71d21fbe5cf8b01ff0e069b9275f58929596ceb00d14d90e3e16cd6"
   }
  }
 },
 "nbformat": 4,
 "nbformat_minor": 5
}
