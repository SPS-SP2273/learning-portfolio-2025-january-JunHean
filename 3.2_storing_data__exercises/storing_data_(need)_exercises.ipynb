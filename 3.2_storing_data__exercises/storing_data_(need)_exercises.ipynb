{
 "cells": [
  {
   "attachments": {},
   "cell_type": "markdown",
   "id": "123456",
   "metadata": {},
   "source": [
    "<div style=\"text-align:left;font-size:2em\"><span style=\"font-weight:bolder;font-size:1.25em\">SP2273 | Learning Portfolio</span><br><br><span style=\"font-weight:bold;color:darkred\">Storing Data (Need) Exercises</span></div>"
   ]
  },
  {
   "cell_type": "markdown",
   "id": "1454d32a-3be6-4390-944a-5e466adc21c3",
   "metadata": {},
   "source": [
    "<div style=\"text-align:left;font-weight:bolder;font-size:1.25em\">Exercise 1 (Total recall?) "
   ]
  },
  {
   "cell_type": "markdown",
   "id": "127f89ce-3302-4bad-b6fd-b85a15ddaa95",
   "metadata": {},
   "source": [
    "1. Similarities between list and arrays\n",
    "\n",
    "Both store information such as integers, strings and others. _For lists and arrays, the order matters._\n",
    "\n",
    "2. Differences between list and arrays\n",
    "\n",
    "List are able to store information of different types (e.g. integers and strings), however, arrays are only able to store data of 1 type. _List and arrays have different ways of running mathematics equations._\n",
    "\n",
    "3. What is a dictionary\n",
    "\n",
    "_Dictionaries use a key and an associated value separated by a :\n",
    "The dictionary very elegantly holds the real and superhero names in one structure while we need two lists (or arrays) for the same data._"
   ]
  },
  {
   "cell_type": "markdown",
   "id": "70fbd8a3-547c-45fc-9846-d799b3e3e4c1",
   "metadata": {},
   "source": [
    "<div style=\"font-weight:bolder;font-size:1.25em\">Exercise 2 (Indexing)"
   ]
  },
  {
   "cell_type": "code",
   "execution_count": 8,
   "id": "9916178a-4f4d-4cb3-9312-1d1ee6477ba6",
   "metadata": {},
   "outputs": [
    {
     "name": "stdout",
     "output_type": "stream",
     "text": [
      "a1\n",
      "c3\n",
      "e5\n",
      "g7\n",
      "i9\n"
     ]
    }
   ],
   "source": [
    "py_list = [\"a1\", \"b2\", \"c3\", \"d4\", \"e5\", \"f6\", \"g7\", \"h8\", \"i9\", \"j10\"]\n",
    "print(py_list[0])                    # Prints 'a1'\n",
    "print(py_list[2])                    # Prints 'c3'\n",
    "print(py_list[4])                    # Prints 'e5'\n",
    "print(py_list[6])                    # Prints 'g7'\n",
    "print(py_list[8])                    # Prints 'i9'"
   ]
  },
  {
   "cell_type": "markdown",
   "id": "edcf70a5-0b33-4551-bd34-427dbf8d66a6",
   "metadata": {},
   "source": [
    "<div style=\"font-weight:bolder;font-size:1.25em\">Exercise 3 (ndex again)"
   ]
  },
  {
   "cell_type": "code",
   "execution_count": 10,
   "id": "d4b0d8d2-e846-4289-ab9f-b0137d397c6c",
   "metadata": {},
   "outputs": [
    {
     "name": "stdout",
     "output_type": "stream",
     "text": [
      "Boron\n",
      "Nitrogen\n"
     ]
    }
   ],
   "source": [
    "elements = ['Hydrogen',\n",
    "            'Helium', 'Lithium',\n",
    "            'Beryllium', 'Boron', 'Carbon',\n",
    "            'Nitrogen', 'Oxygen',\n",
    "            'Fluorine',\n",
    "            'Neon']\n",
    "\n",
    "print(elements[4])\n",
    "print(elements[-4])"
   ]
  },
  {
   "cell_type": "markdown",
   "id": "5a3e0f60-cc72-4e38-9502-3fa5ac229df3",
   "metadata": {},
   "source": [
    "<div style=\"font-weight:bolder;font-size:1.25em\">Exercise 4 (How many ones?)"
   ]
  },
  {
   "cell_type": "code",
   "execution_count": 23,
   "id": "386a8b38-7b1c-4f98-9e77-82eb973a3306",
   "metadata": {},
   "outputs": [
    {
     "data": {
      "text/plain": [
       "np.int64(9)"
      ]
     },
     "execution_count": 23,
     "metadata": {},
     "output_type": "execute_result"
    }
   ],
   "source": [
    "import numpy as np\n",
    "\n",
    "numbers=[45, 60, 1, 30, 96, 1, 96, 57, 16, 1,\n",
    "        99, 62, 86, 43, 42, 60, 59, 1, 1, 35,\n",
    "        83, 47, 34, 28, 68, 23, 22, 92, 1, 79,\n",
    "        1, 29, 94, 72, 46, 47, 1, 74, 32, 20,\n",
    "        8, 37, 35, 1, 89, 29, 86, 19, 43, 61]\n",
    "\n",
    "np_array = np.array(numbers)\n",
    "np_array[np_array == 1].sum()"
   ]
  },
  {
   "cell_type": "markdown",
   "id": "dbc5ba40-2b10-4b4c-9d55-e3640c9111f0",
   "metadata": {},
   "source": [
    "<div style=\"font-weight:bolder;font-size:1.25em\">Exercise 5 (A Matter of Statistics)"
   ]
  },
  {
   "cell_type": "code",
   "execution_count": 4,
   "id": "ca1843e2-279c-4f3d-b1da-ebbfad9869af",
   "metadata": {},
   "outputs": [],
   "source": [
    "import numpy as np\n",
    "\n",
    "x_1 = [1, 4, 9, 16, 25, 36, 49, 64, 81, 100]\n",
    "x_2 = [1, 8, 27, 64, 125, 216, 343, 512, 729, 1000]\n",
    "\n",
    "x1 = np.array(x_1)\n",
    "x2 = np.array(x_2)"
   ]
  },
  {
   "cell_type": "code",
   "execution_count": 5,
   "id": "d58a2b80-c492-4a6b-9f3d-a35f9567f454",
   "metadata": {},
   "outputs": [
    {
     "name": "stdout",
     "output_type": "stream",
     "text": [
      "The mean of x1 is 38.5\n",
      "The mean of x2 is 302.5\n"
     ]
    }
   ],
   "source": [
    "mean1 = x1.mean()\n",
    "print(f'The mean of x1 is {mean1}')\n",
    "\n",
    "mean2 = x2.mean()\n",
    "print(f'The mean of x2 is {mean2}')"
   ]
  },
  {
   "cell_type": "code",
   "execution_count": 6,
   "id": "b7449b5c-e4bc-4333-adfb-a474ad2a1385",
   "metadata": {},
   "outputs": [
    {
     "name": "stdout",
     "output_type": "stream",
     "text": [
      "The standard deviation of x1 is 32.42\n",
      "The standard deviation of x2 is 326.09\n"
     ]
    }
   ],
   "source": [
    "std1 = x1.std()\n",
    "print(f'The standard deviation of x1 is {std1:.2f}')\n",
    "\n",
    "std2 = x2.std()\n",
    "print(f'The standard deviation of x2 is {std2:.2f}')"
   ]
  },
  {
   "cell_type": "code",
   "execution_count": 21,
   "id": "696ee00b-135b-4c0f-8a0d-ea6728d64cf2",
   "metadata": {},
   "outputs": [
    {
     "name": "stdout",
     "output_type": "stream",
     "text": [
      "Calculated Pearson correlation coefficient: 0.9871796626270704\n",
      "NumPy Pearson correlation coefficient: 0.9871796626270701\n"
     ]
    }
   ],
   "source": [
    "import numpy as np\n",
    "\n",
    "x_1 = np.array([1, 4, 9, 16, 25, 36, 49, 64, 81, 100])\n",
    "x_2 = np.array([1, 8, 27, 64, 125, 216, 343, 512, 729, 1000])\n",
    "\n",
    "# Compute means\n",
    "mean_x1 = np.mean(x_1)\n",
    "mean_x2 = np.mean(x_2)\n",
    "\n",
    "# Compute standard deviations\n",
    "std_x1 = np.std(x_1, ddof=1)  # Using ddof=1 for sample std deviation\n",
    "std_x2 = np.std(x_2, ddof=1)\n",
    "\n",
    "# Compute covariance\n",
    "covariance = np.sum((x_1 - mean_x1) * (x_2 - mean_x2)) / (len(x_1) - 1)\n",
    "\n",
    "# Compute Pearson correlation coefficient\n",
    "r = covariance / (std_x1 * std_x2)\n",
    "\n",
    "# Compare with numpy's corrcoef\n",
    "r_numpy = np.corrcoef(x_1, x_2)[0, 1]\n",
    "\n",
    "print(\"Calculated Pearson correlation coefficient:\", r)\n",
    "print(\"NumPy Pearson correlation coefficient:\", r_numpy)\n"
   ]
  },
  {
   "cell_type": "code",
   "execution_count": 40,
   "id": "bc961142-7959-4d13-942a-9a28d8d76f7a",
   "metadata": {},
   "outputs": [
    {
     "name": "stdout",
     "output_type": "stream",
     "text": [
      "Calculated Pearson correlation coefficient is 0.9871796626270701\n"
     ]
    }
   ],
   "source": [
    "r = (np.sum((x_1 - mean_x1) * (x_2 - mean_x2))) / (np.sqrt((np.sum(np.square(x_1 - mean_x1))) * (np.sum(np.square(x_2 - mean_x2)))))\n",
    "print(f'Calculated Pearson correlation coefficient is {r}')"
   ]
  },
  {
   "cell_type": "code",
   "execution_count": 52,
   "id": "dda29b19-a1b4-4d04-ae67-4e6768b66ae9",
   "metadata": {},
   "outputs": [
    {
     "name": "stdout",
     "output_type": "stream",
     "text": [
      "[[1.         0.98717966]\n",
      " [0.98717966 1.        ]]\n"
     ]
    }
   ],
   "source": [
    "r_np = np.corrcoef(x_1, x_2)\n",
    "print(r_np)"
   ]
  },
  {
   "cell_type": "code",
   "execution_count": 55,
   "id": "2a4235bd-314d-4fe0-81f7-51e5e1f8652c",
   "metadata": {},
   "outputs": [
    {
     "name": "stdout",
     "output_type": "stream",
     "text": [
      "NumPy Pearson correlation coefficient is 0.9871796626270701\n",
      "Calculated Pearson correlation coefficient is 0.9871796626270701\n"
     ]
    }
   ],
   "source": [
    "print(f'NumPy Pearson correlation coefficient is {r_np[0,1]}')\n",
    "print(f'Calculated Pearson correlation coefficient is {r}')"
   ]
  }
 ],
 "metadata": {
  "kernelspec": {
   "display_name": "Python 3 (ipykernel)",
   "language": "python",
   "name": "python3"
  },
  "language_info": {
   "codemirror_mode": {
    "name": "ipython",
    "version": 3
   },
   "file_extension": ".py",
   "mimetype": "text/x-python",
   "name": "python",
   "nbconvert_exporter": "python",
   "pygments_lexer": "ipython3",
   "version": "3.12.3"
  },
  "toc": {
   "base_numbering": 1,
   "nav_menu": {},
   "number_sections": true,
   "sideBar": true,
   "skip_h1_title": false,
   "title_cell": "Table of Contents",
   "title_sidebar": "Contents",
   "toc_cell": false,
   "toc_position": {},
   "toc_section_display": true,
   "toc_window_display": false
  },
  "vscode": {
   "interpreter": {
    "hash": "31f2aee4e71d21fbe5cf8b01ff0e069b9275f58929596ceb00d14d90e3e16cd6"
   }
  }
 },
 "nbformat": 4,
 "nbformat_minor": 5
}
