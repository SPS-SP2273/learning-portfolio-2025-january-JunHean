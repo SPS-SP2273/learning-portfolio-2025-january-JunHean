{
 "cells": [
  {
   "attachments": {},
   "cell_type": "markdown",
   "id": "123456",
   "metadata": {},
   "source": [
    "<div style=\"text-align:left;font-size:2em\"><span style=\"font-weight:bolder;font-size:1.25em\">SP2273 | Learning Portfolio</span><br><br><span style=\"font-weight:bold;color:darkred\">Files, Folders & OS (Need) Exercises</span></div>"
   ]
  },
  {
   "cell_type": "markdown",
   "id": "5c028c6c-4993-432a-a444-3d86745f905b",
   "metadata": {},
   "source": [
    "<span style=\"font-weight:bolder;font-size:1.25em\">Scenario\n",
    "\n",
    "You are a member of an international team analysing environmental pollution. The project involves ten cities: Cairo, Dhaka, Jakarta, Karachi, Manila, Melbourne, Osaka, Shanghai, Singapore, and Tokyo.\n",
    "\n",
    "Your task is to process and organise data from various environmental measurements. The provided zip file, os-collaboration-exercise-data.zip, contains all relevant data files for the past year.\n",
    "\n",
    "**Things to note**\n",
    "1. **Data Files:** Each data file is named in the format month-date_city.txt (e.g., may-10_singapore.txt).\n",
    "2. **Data Collection:** Data was recorded sporadically; not all days of each month have corresponding data files. The dates of data collection vary across the cities.\n",
    "3. **Exclusion of Files:** Ignore any non-text files, such as those in .pdf, .png, or .jpg formats."
   ]
  },
  {
   "cell_type": "code",
   "execution_count": 9,
   "id": "5f04991c-494b-41c4-a694-ed2139dd4782",
   "metadata": {},
   "outputs": [],
   "source": [
    "import os\n",
    "import glob\n",
    "import shutil"
   ]
  },
  {
   "cell_type": "markdown",
   "id": "b4d778cd-67c7-4d33-8a64-d18a12615532",
   "metadata": {},
   "source": [
    "<span style=\"font-weight:bolder;font-size:1.25em\">Task 1"
   ]
  },
  {
   "cell_type": "code",
   "execution_count": 23,
   "id": "eca607bc-7b7b-418f-a288-6362bbf301fb",
   "metadata": {},
   "outputs": [
    {
     "name": "stdout",
     "output_type": "stream",
     "text": [
      "10-08-singapore.txt\n"
     ]
    }
   ],
   "source": [
    "#  oct-08_singapore.txt to 10-08-singapore.txt\n",
    "\n",
    "months = {\n",
    "'jan': '01', 'feb': '02', 'mar': '03',\n",
    "'apr': '04', 'may': '05', 'jun': '06',\n",
    "'jul': '07', 'aug': '08', 'sep': '09',\n",
    "'oct': '10', 'nov': '11', 'dec': '12'\n",
    "}\n",
    "\n",
    "file = 'oct-08_singapore.txt'\n",
    "\n",
    "month, filename = file.split('-')\n",
    "day, city = filename.split('_')\n",
    "\n",
    "if month in months.keys():\n",
    "    new_filename = f'{months[month]}-{day}-{city}'\n",
    "    print(new_filename)\n",
    "else:\n",
    "    print('file not found')"
   ]
  },
  {
   "cell_type": "markdown",
   "id": "6e81d71c-a768-489c-b01b-cdc99331d40b",
   "metadata": {},
   "source": [
    "<span style=\"font-weight:bolder;font-size:1.25em\">Task 2"
   ]
  },
  {
   "cell_type": "code",
   "execution_count": 21,
   "id": "8c9d210d-d74c-48f2-9d3c-6e646091e9d8",
   "metadata": {},
   "outputs": [],
   "source": [
    "months = {'jan': '01', 'feb': '02', 'mar': '03',\n",
    "          'apr': '04', 'may': '05', 'jun': '06',\n",
    "          'jul': '07', 'aug': '08', 'sep': '09',\n",
    "          'oct': '10', 'nov': '11', 'dec': '12'\n",
    "        }\n",
    "\n",
    "def rename_my_file(old_file_name):\n",
    "    file = old_file_name\n",
    "    \n",
    "    month, filename = file.split('-',1)\n",
    "\n",
    "    if month in months.keys():\n",
    "        day, city = filename.split('_')\n",
    "        return f'{months[month]}-{day}-{city}'\n",
    "    else:\n",
    "        return old_file_name"
   ]
  },
  {
   "cell_type": "code",
   "execution_count": 23,
   "id": "79a24202-82eb-45aa-ad91-8e4975c9605d",
   "metadata": {},
   "outputs": [
    {
     "data": {
      "text/plain": [
       "'10-08-singapore.txt'"
      ]
     },
     "execution_count": 23,
     "metadata": {},
     "output_type": "execute_result"
    }
   ],
   "source": [
    "rename_my_file('oct-08_singapore.txt')"
   ]
  },
  {
   "cell_type": "markdown",
   "id": "fc35cec3-2f0a-460d-9863-33f0d90c326a",
   "metadata": {},
   "source": [
    "<span style=\"font-weight:bolder;font-size:1.25em\">Task 3"
   ]
  },
  {
   "cell_type": "code",
   "execution_count": 22,
   "id": "26e10d0e-949f-40b6-aa10-39b2178a85dd",
   "metadata": {},
   "outputs": [
    {
     "name": "stdout",
     "output_type": "stream",
     "text": [
      "oct-08_singapore.txt \t ----> \t 10-08-singapore.txt\n",
      "jul-10_cairo.txt \t ----> \t 07-10-cairo.txt\n",
      "may-15_dhaka.txt \t ----> \t 05-15-dhaka.txt\n",
      "may-13_cairo.txt \t ----> \t 05-13-cairo.txt\n",
      "oct-21_cairo.txt \t ----> \t 10-21-cairo.txt\n",
      "jan-10_singapore.txt \t ----> \t 01-10-singapore.txt\n",
      "jun-20_tokyo.txt \t ----> \t 06-20-tokyo.txt\n",
      "aug-06_jakarta.txt \t ----> \t 08-06-jakarta.txt\n",
      "dec-21_karachi.txt \t ----> \t 12-21-karachi.txt\n",
      "jan-01_tokyo.txt \t ----> \t 01-01-tokyo.txt\n"
     ]
    }
   ],
   "source": [
    "problem_files = ['oct-08_singapore.txt', 'jul-10_cairo.txt', 'may-15_dhaka.txt',\n",
    "                 'may-13_cairo.txt', 'oct-21_cairo.txt', 'jan-10_singapore.txt',\n",
    "                 'jun-20_tokyo.txt', 'aug-06_jakarta.txt', 'dec-21_karachi.txt',\n",
    "                 'jan-01_tokyo.txt']\n",
    "\n",
    "for old_file_name in problem_files:\n",
    "    new_filename = rename_my_file(old_file_name)\n",
    "    print(f'{old_file_name} \\t ----> \\t {new_filename}')"
   ]
  },
  {
   "cell_type": "markdown",
   "id": "cd12aebc-f89c-48a6-8632-2d3a5bbded55",
   "metadata": {},
   "source": [
    "<span style=\"font-weight:bolder;font-size:1.25em\">Task 4"
   ]
  },
  {
   "cell_type": "code",
   "execution_count": 25,
   "id": "5b306c7f-2e04-4c28-903b-6e19058d36cd",
   "metadata": {},
   "outputs": [],
   "source": [
    "txt_files = glob.glob('extracted-collaboration-data/**/**.txt', recursive=True)\n",
    "\n",
    "for file in txt_files:\n",
    "    old_file_name = os.path.basename(file)\n",
    "    path = os.path.dirname(file)\n",
    "    new_filename = rename_my_file(old_file_name)\n",
    "    new_filepath = os.path.join(path, new_filename)\n",
    "    if os.path.exists(new_filepath):\n",
    "        continue\n",
    "    else:\n",
    "        # old_filepath = os.path.join(path, old_file_name)\n",
    "        os.rename(file, new_filepath)\n",
    "        print(f\"Renamed: {file} → {new_filepath}\")       "
   ]
  },
  {
   "cell_type": "markdown",
   "id": "532e3537-c36f-4e4d-9f8f-85d9937a582a",
   "metadata": {},
   "source": [
    "<span style=\"font-weight:bolder;font-size:1.25em\">Task 5"
   ]
  },
  {
   "cell_type": "code",
   "execution_count": 26,
   "id": "c54267e5-b88e-4f22-9c28-a0573993418e",
   "metadata": {},
   "outputs": [
    {
     "name": "stdout",
     "output_type": "stream",
     "text": [
      "Folder Cairo has already been created\n",
      "Folder Dhaka has already been created\n",
      "Folder Jakarta has already been created\n",
      "Folder Karachi has already been created\n",
      "Folder Manila has already been created\n",
      "Folder Melbourne has already been created\n",
      "Folder Osaka has already been created\n",
      "Folder Shanghai has already been created\n",
      "Folder Singapore has already been created\n",
      "Folder Tokyo has already been created\n"
     ]
    }
   ],
   "source": [
    "cities = ['Cairo', 'Dhaka', 'Jakarta', 'Karachi', 'Manila',\n",
    "          'Melbourne', 'Osaka', 'Shanghai', 'Singapore', 'Tokyo']\n",
    "\n",
    "for cities in cities:\n",
    "    path = os.path.join('extracted-collaboration-data/os-collaboration-exercise-data/', cities)\n",
    "    if os.path.exists(path):\n",
    "        print(f'Folder {cities} has already been created')\n",
    "    else:\n",
    "        print(f'Creating {path}')\n",
    "        os.mkdir(path)"
   ]
  },
  {
   "cell_type": "markdown",
   "id": "54a47a85-46b5-4cb6-95fc-3e03b6cca853",
   "metadata": {},
   "source": [
    "<span style=\"font-weight:bolder;font-size:1.25em\">Task 6"
   ]
  },
  {
   "cell_type": "code",
   "execution_count": 27,
   "id": "285ca4f1-be4b-4ae0-b33c-d2c7e62c1692",
   "metadata": {},
   "outputs": [],
   "source": [
    "cairo_files = glob.glob(f'extracted-collaboration-data/os-collaboration-exercise-data/*cairo.*', recursive=True)\n",
    "\n",
    "for files in cairo_files:\n",
    "    filename = os.path.basename(files)\n",
    "    path = os.path.join('extracted-collaboration-data', 'os-collaboration-exercise-data', 'Cairo', filename)\n",
    "    if os.path.exists(path):\n",
    "        continue\n",
    "    else:\n",
    "        shutil.copy(files, 'extracted-collaboration-data/os-collaboration-exercise-data/Cairo')"
   ]
  },
  {
   "cell_type": "markdown",
   "id": "dacf5c67-b6e3-4d74-b195-337b6a04a65c",
   "metadata": {},
   "source": [
    "<span style=\"font-weight:bolder;font-size:1.25em\">Task 7"
   ]
  },
  {
   "cell_type": "code",
   "execution_count": 28,
   "id": "f19f750c-6836-4d43-b01c-31fd99bbd29d",
   "metadata": {},
   "outputs": [],
   "source": [
    "def transfer(cities):\n",
    "    city_files = glob.glob(f'extracted-collaboration-data/os-collaboration-exercise-data/*{cities}.*', recursive=True)\n",
    "    for files in city_files:\n",
    "        filename = os.path.basename(files)\n",
    "        path = os.path.join('extracted-collaboration-data', 'os-collaboration-exercise-data', cities)\n",
    "        new_path = os.path.join(path, filename)\n",
    "        if os.path.exists(new_path):\n",
    "            continue\n",
    "        else:\n",
    "            shutil.move(files, path)"
   ]
  },
  {
   "cell_type": "code",
   "execution_count": 29,
   "id": "09cd8bca-fcbc-411e-a2f6-2a7cf89b70ca",
   "metadata": {},
   "outputs": [],
   "source": [
    "s_cities = ['cairo', 'dhaka', 'jakarta', 'karachi', 'manila',\n",
    "          'melbourne', 'osaka', 'shanghai', 'singapore', 'tokyo']\n",
    "\n",
    "for cities in s_cities:\n",
    "    transfer(cities)"
   ]
  },
  {
   "cell_type": "markdown",
   "id": "30be1494-ef43-4959-b848-a672bca89379",
   "metadata": {},
   "source": [
    "<span style=\"font-weight:bolder;font-size:5em\">Other codes.. failed ones please ignore"
   ]
  },
  {
   "cell_type": "code",
   "execution_count": 74,
   "id": "1b65d408-20e2-4dcb-9777-92d7b2664768",
   "metadata": {},
   "outputs": [],
   "source": [
    "def rename_my_file(old_file_name):\n",
    "    old_file_name = os.path.basename(old_file_name)\n",
    "    dir_name = os.path.dirname(old_file_path)\n",
    "    months = {\n",
    "        'jan': '01', 'feb': '02', 'mar': '03',\n",
    "        'apr': '04', 'may': '05', 'jun': '06',\n",
    "        'jul': '07', 'aug': '08', 'sep': '09',\n",
    "        'oct': '10', 'nov': '11', 'dec': '12'\n",
    "    }\n",
    "    month, day_city = old_file_name.split('-', 1)\n",
    "    if month in months:\n",
    "        new_file = f\"{months[month]}-{day_city}\"\n",
    "        new_filepath = os.path.join(dir_name, new_file)\n",
    "        os.rename(old_file_path, new_file_path)\n",
    "        print(f\"Renamed: {old_file_path} → {new_file_path}\")"
   ]
  },
  {
   "cell_type": "code",
   "execution_count": 53,
   "id": "c0ab9fd0-cfa8-4a0a-a000-59b1ee6d6da6",
   "metadata": {},
   "outputs": [
    {
     "name": "stdout",
     "output_type": "stream",
     "text": [
      "Requirement already satisfied: pandas in c:\\users\\junhe\\miniconda3\\lib\\site-packages (2.2.3)\n",
      "Requirement already satisfied: numpy>=1.26.0 in c:\\users\\junhe\\miniconda3\\lib\\site-packages (from pandas) (2.2.1)\n",
      "Requirement already satisfied: python-dateutil>=2.8.2 in c:\\users\\junhe\\miniconda3\\lib\\site-packages (from pandas) (2.9.0.post0)\n",
      "Requirement already satisfied: pytz>=2020.1 in c:\\users\\junhe\\miniconda3\\lib\\site-packages (from pandas) (2024.2)\n",
      "Requirement already satisfied: tzdata>=2022.7 in c:\\users\\junhe\\miniconda3\\lib\\site-packages (from pandas) (2025.1)\n",
      "Requirement already satisfied: six>=1.5 in c:\\users\\junhe\\miniconda3\\lib\\site-packages (from python-dateutil>=2.8.2->pandas) (1.17.0)\n"
     ]
    }
   ],
   "source": [
    "!pip install pandas"
   ]
  },
  {
   "cell_type": "code",
   "execution_count": 58,
   "id": "46022b73-a230-47d4-b689-31d6239d86ed",
   "metadata": {},
   "outputs": [
    {
     "data": {
      "text/html": [
       "<div>\n",
       "<style scoped>\n",
       "    .dataframe tbody tr th:only-of-type {\n",
       "        vertical-align: middle;\n",
       "    }\n",
       "\n",
       "    .dataframe tbody tr th {\n",
       "        vertical-align: top;\n",
       "    }\n",
       "\n",
       "    .dataframe thead th {\n",
       "        text-align: right;\n",
       "    }\n",
       "</style>\n",
       "<table border=\"1\" class=\"dataframe\">\n",
       "  <thead>\n",
       "    <tr style=\"text-align: right;\">\n",
       "      <th></th>\n",
       "      <th>FileName</th>\n",
       "    </tr>\n",
       "  </thead>\n",
       "  <tbody>\n",
       "    <tr>\n",
       "      <th>0</th>\n",
       "      <td>extracted-collaboration-data/txt\\apr-01_melbou...</td>\n",
       "    </tr>\n",
       "    <tr>\n",
       "      <th>1</th>\n",
       "      <td>extracted-collaboration-data/txt\\apr-01_shangh...</td>\n",
       "    </tr>\n",
       "    <tr>\n",
       "      <th>2</th>\n",
       "      <td>extracted-collaboration-data/txt\\apr-01_singap...</td>\n",
       "    </tr>\n",
       "    <tr>\n",
       "      <th>3</th>\n",
       "      <td>extracted-collaboration-data/txt\\apr-02_cairo.txt</td>\n",
       "    </tr>\n",
       "    <tr>\n",
       "      <th>4</th>\n",
       "      <td>extracted-collaboration-data/txt\\apr-02_jakart...</td>\n",
       "    </tr>\n",
       "    <tr>\n",
       "      <th>...</th>\n",
       "      <td>...</td>\n",
       "    </tr>\n",
       "    <tr>\n",
       "      <th>1317</th>\n",
       "      <td>extracted-collaboration-data/txt\\sep-29_dhaka.txt</td>\n",
       "    </tr>\n",
       "    <tr>\n",
       "      <th>1318</th>\n",
       "      <td>extracted-collaboration-data/txt\\sep-29_jakart...</td>\n",
       "    </tr>\n",
       "    <tr>\n",
       "      <th>1319</th>\n",
       "      <td>extracted-collaboration-data/txt\\sep-29_karach...</td>\n",
       "    </tr>\n",
       "    <tr>\n",
       "      <th>1320</th>\n",
       "      <td>extracted-collaboration-data/txt\\sep-29_osaka.txt</td>\n",
       "    </tr>\n",
       "    <tr>\n",
       "      <th>1321</th>\n",
       "      <td>extracted-collaboration-data/txt\\sep-29_singap...</td>\n",
       "    </tr>\n",
       "  </tbody>\n",
       "</table>\n",
       "<p>1322 rows × 1 columns</p>\n",
       "</div>"
      ],
      "text/plain": [
       "                                               FileName\n",
       "0     extracted-collaboration-data/txt\\apr-01_melbou...\n",
       "1     extracted-collaboration-data/txt\\apr-01_shangh...\n",
       "2     extracted-collaboration-data/txt\\apr-01_singap...\n",
       "3     extracted-collaboration-data/txt\\apr-02_cairo.txt\n",
       "4     extracted-collaboration-data/txt\\apr-02_jakart...\n",
       "...                                                 ...\n",
       "1317  extracted-collaboration-data/txt\\sep-29_dhaka.txt\n",
       "1318  extracted-collaboration-data/txt\\sep-29_jakart...\n",
       "1319  extracted-collaboration-data/txt\\sep-29_karach...\n",
       "1320  extracted-collaboration-data/txt\\sep-29_osaka.txt\n",
       "1321  extracted-collaboration-data/txt\\sep-29_singap...\n",
       "\n",
       "[1322 rows x 1 columns]"
      ]
     },
     "execution_count": 58,
     "metadata": {},
     "output_type": "execute_result"
    }
   ],
   "source": [
    "import pandas as pd\n",
    "df_files = pd.DataFrame(txt_files, columns=['FileName'])\n",
    "df_files"
   ]
  },
  {
   "cell_type": "code",
   "execution_count": 60,
   "id": "b54a0060-00cc-4f5f-9d85-839a3690787a",
   "metadata": {},
   "outputs": [
    {
     "data": {
      "text/html": [
       "<div>\n",
       "<style scoped>\n",
       "    .dataframe tbody tr th:only-of-type {\n",
       "        vertical-align: middle;\n",
       "    }\n",
       "\n",
       "    .dataframe tbody tr th {\n",
       "        vertical-align: top;\n",
       "    }\n",
       "\n",
       "    .dataframe thead th {\n",
       "        text-align: right;\n",
       "    }\n",
       "</style>\n",
       "<table border=\"1\" class=\"dataframe\">\n",
       "  <thead>\n",
       "    <tr style=\"text-align: right;\">\n",
       "      <th></th>\n",
       "      <th>FileName</th>\n",
       "    </tr>\n",
       "  </thead>\n",
       "  <tbody>\n",
       "    <tr>\n",
       "      <th>0</th>\n",
       "      <td>extracted-collaboration-data/txt\\04-01_melbour...</td>\n",
       "    </tr>\n",
       "    <tr>\n",
       "      <th>1</th>\n",
       "      <td>extracted-collaboration-data/txt\\04-01_shangha...</td>\n",
       "    </tr>\n",
       "    <tr>\n",
       "      <th>2</th>\n",
       "      <td>extracted-collaboration-data/txt\\04-01_singapo...</td>\n",
       "    </tr>\n",
       "    <tr>\n",
       "      <th>3</th>\n",
       "      <td>extracted-collaboration-data/txt\\04-02_cairo.txt</td>\n",
       "    </tr>\n",
       "    <tr>\n",
       "      <th>4</th>\n",
       "      <td>extracted-collaboration-data/txt\\04-02_jakarta...</td>\n",
       "    </tr>\n",
       "    <tr>\n",
       "      <th>...</th>\n",
       "      <td>...</td>\n",
       "    </tr>\n",
       "    <tr>\n",
       "      <th>1317</th>\n",
       "      <td>extracted-collaboration-data/txt\\09-29_dhaka.txt</td>\n",
       "    </tr>\n",
       "    <tr>\n",
       "      <th>1318</th>\n",
       "      <td>extracted-collaboration-data/txt\\09-29_jakarta...</td>\n",
       "    </tr>\n",
       "    <tr>\n",
       "      <th>1319</th>\n",
       "      <td>extracted-collaboration-data/txt\\09-29_karachi...</td>\n",
       "    </tr>\n",
       "    <tr>\n",
       "      <th>1320</th>\n",
       "      <td>extracted-collaboration-data/txt\\09-29_osaka.txt</td>\n",
       "    </tr>\n",
       "    <tr>\n",
       "      <th>1321</th>\n",
       "      <td>extracted-collaboration-data/txt\\09-29_singapo...</td>\n",
       "    </tr>\n",
       "  </tbody>\n",
       "</table>\n",
       "<p>1322 rows × 1 columns</p>\n",
       "</div>"
      ],
      "text/plain": [
       "                                               FileName\n",
       "0     extracted-collaboration-data/txt\\04-01_melbour...\n",
       "1     extracted-collaboration-data/txt\\04-01_shangha...\n",
       "2     extracted-collaboration-data/txt\\04-01_singapo...\n",
       "3      extracted-collaboration-data/txt\\04-02_cairo.txt\n",
       "4     extracted-collaboration-data/txt\\04-02_jakarta...\n",
       "...                                                 ...\n",
       "1317   extracted-collaboration-data/txt\\09-29_dhaka.txt\n",
       "1318  extracted-collaboration-data/txt\\09-29_jakarta...\n",
       "1319  extracted-collaboration-data/txt\\09-29_karachi...\n",
       "1320   extracted-collaboration-data/txt\\09-29_osaka.txt\n",
       "1321  extracted-collaboration-data/txt\\09-29_singapo...\n",
       "\n",
       "[1322 rows x 1 columns]"
      ]
     },
     "execution_count": 60,
     "metadata": {},
     "output_type": "execute_result"
    }
   ],
   "source": [
    "months = {\n",
    "'jan': '01', 'feb': '02', 'mar': '03',\n",
    "'apr': '04', 'may': '05', 'jun': '06',\n",
    "'jul': '07', 'aug': '08', 'sep': '09',\n",
    "'oct': '10', 'nov': '11', 'dec': '12'\n",
    "}\n",
    "\n",
    "df_files['FileName'] = df_files['FileName'].replace(months, regex=True)\n",
    "df_files"
   ]
  }
 ],
 "metadata": {
  "kernelspec": {
   "display_name": "Python 3 (ipykernel)",
   "language": "python",
   "name": "python3"
  },
  "language_info": {
   "codemirror_mode": {
    "name": "ipython",
    "version": 3
   },
   "file_extension": ".py",
   "mimetype": "text/x-python",
   "name": "python",
   "nbconvert_exporter": "python",
   "pygments_lexer": "ipython3",
   "version": "3.12.3"
  },
  "toc": {
   "base_numbering": 1,
   "nav_menu": {},
   "number_sections": true,
   "sideBar": true,
   "skip_h1_title": false,
   "title_cell": "Table of Contents",
   "title_sidebar": "Contents",
   "toc_cell": false,
   "toc_position": {},
   "toc_section_display": true,
   "toc_window_display": false
  },
  "vscode": {
   "interpreter": {
    "hash": "31f2aee4e71d21fbe5cf8b01ff0e069b9275f58929596ceb00d14d90e3e16cd6"
   }
  }
 },
 "nbformat": 4,
 "nbformat_minor": 5
}
