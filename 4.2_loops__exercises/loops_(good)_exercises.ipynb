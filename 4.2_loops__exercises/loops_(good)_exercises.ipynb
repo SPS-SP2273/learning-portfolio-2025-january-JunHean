{
 "cells": [
  {
   "attachments": {},
   "cell_type": "markdown",
   "id": "123456",
   "metadata": {},
   "source": [
    "<div style=\"text-align:left;font-size:2em\"><span style=\"font-weight:bolder;font-size:1.25em\">SP2273 | Learning Portfolio</span><br><br><span style=\"font-weight:bold;color:darkred\">Loops (Good) Exercises</span></div>"
   ]
  },
  {
   "attachments": {},
   "cell_type": "markdown",
   "id": "5bbe25d4-ede0-4c02-aad2-132954a2836d",
   "metadata": {},
   "source": [
    "<span style=\"font-weight:bolder;font-size:1.25em\">Exercise 1 (Make me an odd list) "
   ]
  },
  {
   "cell_type": "code",
   "execution_count": 17,
   "id": "319b05fd-51d2-4b56-b49c-1b8bed3a39fa",
   "metadata": {},
   "outputs": [
    {
     "name": "stdout",
     "output_type": "stream",
     "text": [
      "1\n",
      "9\n",
      "25\n",
      "49\n",
      "81\n"
     ]
    }
   ],
   "source": [
    "for i in range (10):\n",
    "    if i % 2 == 0:\n",
    "        continue\n",
    "    else:\n",
    "        i *= i\n",
    "    print(i)"
   ]
  },
  {
   "attachments": {},
   "cell_type": "markdown",
   "id": "5f9827bd-f517-40e2-bdd6-1badb34d4e52",
   "metadata": {},
   "source": [
    "<span style=\"font-weight:bolder;font-size:1.25em\">Exercise 2 (Make me another odd list)"
   ]
  },
  {
   "cell_type": "code",
   "execution_count": 16,
   "id": "883403c7-7027-46d6-83e9-19fedb22f0d7",
   "metadata": {},
   "outputs": [
    {
     "data": {
      "text/plain": [
       "[1, 9, 25, 49, 81]"
      ]
     },
     "execution_count": 16,
     "metadata": {},
     "output_type": "execute_result"
    }
   ],
   "source": [
    "[i*i for i in range(10) if i % 2 !=0]"
   ]
  },
  {
   "attachments": {},
   "cell_type": "markdown",
   "id": "1353d640-8c00-4e4d-87d2-47dcbcd1b50f",
   "metadata": {},
   "source": [
    "<span style=\"font-weight:bolder;font-size:1.25em\">Exercise 3 (Time me!) "
   ]
  },
  {
   "cell_type": "code",
   "execution_count": 23,
   "id": "fa8204d0-7dc4-47b7-a50a-4ad1868d4c9a",
   "metadata": {},
   "outputs": [
    {
     "name": "stdout",
     "output_type": "stream",
     "text": [
      "468 ns ± 12.6 ns per loop (mean ± std. dev. of 7 runs, 1,000,000 loops each)\n"
     ]
    }
   ],
   "source": [
    "%%timeit \n",
    "for i in range (10):\n",
    "    if i % 2 == 0:\n",
    "        continue\n",
    "    else:\n",
    "        i *= i"
   ]
  },
  {
   "cell_type": "code",
   "execution_count": 24,
   "id": "32744718-bac1-496a-8613-a933b3099c6d",
   "metadata": {},
   "outputs": [
    {
     "name": "stdout",
     "output_type": "stream",
     "text": [
      "543 ns ± 27.7 ns per loop (mean ± std. dev. of 7 runs, 1,000,000 loops each)\n"
     ]
    }
   ],
   "source": [
    "%%timeit \n",
    "[i*i for i in range(10) if i % 2 !=0]"
   ]
  },
  {
   "cell_type": "markdown",
   "id": "f06c4f4e-1c39-46d3-b8fe-4b2369396ac8",
   "metadata": {},
   "source": [
    "The one that is not list comprehension was faster"
   ]
  },
  {
   "cell_type": "markdown",
   "id": "e9e7e778-8872-43ec-aafb-01ab7fd21829",
   "metadata": {},
   "source": [
    "<span style=\"font-weight:bolder;font-size:1.25em\">Exercise 4 (A problem of decay) "
   ]
  },
  {
   "cell_type": "code",
   "execution_count": null,
   "id": "7bee07b3-e4cc-4388-9cc9-bd1c3f2cc358",
   "metadata": {},
   "outputs": [],
   "source": []
  },
  {
   "attachments": {},
   "cell_type": "markdown",
   "id": "5ec55530-33a4-49dc-a3c6-0b68b7f1f90f",
   "metadata": {},
   "source": [
    "<span style=\"font-weight:bolder;font-size:1.25em\">Exercise 5 (Changes in CO2) "
   ]
  }
 ],
 "metadata": {
  "kernelspec": {
   "display_name": "Python 3 (ipykernel)",
   "language": "python",
   "name": "python3"
  },
  "language_info": {
   "codemirror_mode": {
    "name": "ipython",
    "version": 3
   },
   "file_extension": ".py",
   "mimetype": "text/x-python",
   "name": "python",
   "nbconvert_exporter": "python",
   "pygments_lexer": "ipython3",
   "version": "3.12.3"
  },
  "toc": {
   "base_numbering": 1,
   "nav_menu": {},
   "number_sections": true,
   "sideBar": true,
   "skip_h1_title": false,
   "title_cell": "Table of Contents",
   "title_sidebar": "Contents",
   "toc_cell": false,
   "toc_position": {},
   "toc_section_display": true,
   "toc_window_display": false
  },
  "vscode": {
   "interpreter": {
    "hash": "31f2aee4e71d21fbe5cf8b01ff0e069b9275f58929596ceb00d14d90e3e16cd6"
   }
  }
 },
 "nbformat": 4,
 "nbformat_minor": 5
}
