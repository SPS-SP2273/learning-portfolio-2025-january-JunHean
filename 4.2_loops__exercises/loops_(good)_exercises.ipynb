{
 "cells": [
  {
   "attachments": {},
   "cell_type": "markdown",
   "id": "123456",
   "metadata": {},
   "source": [
    "<div style=\"text-align:left;font-size:2em\"><span style=\"font-weight:bolder;font-size:1.25em\">SP2273 | Learning Portfolio</span><br><br><span style=\"font-weight:bold;color:darkred\">Loops (Good) Exercises</span></div>"
   ]
  },
  {
   "attachments": {},
   "cell_type": "markdown",
   "id": "f704d931-0ae1-4153-9253-5f9189b69c9b",
   "metadata": {},
   "source": [
    "<span style=\"font-weight:bolder;font-size:1.25em\">Exercise 1 "
   ]
  },
  {
   "cell_type": "code",
   "execution_count": 17,
   "id": "94a45fb2-fd76-451e-881e-de41ac2f3a21",
   "metadata": {},
   "outputs": [
    {
     "name": "stdout",
     "output_type": "stream",
     "text": [
      "1\n",
      "9\n",
      "25\n",
      "49\n",
      "81\n"
     ]
    }
   ],
   "source": [
    "for number in range (10):\n",
    "    if number % 2 == 0:\n",
    "        continue\n",
    "    else:\n",
    "        odd = number*number\n",
    "    print(odd)"
   ]
  },
  {
   "attachments": {},
   "cell_type": "markdown",
   "id": "26e3e34e-a3c0-4c6e-8a39-d2687d012574",
   "metadata": {},
   "source": [
    "<span style=\"font-weight:bolder;font-size:1.25em\">Exercise 2"
   ]
  },
  {
   "cell_type": "code",
   "execution_count": 18,
   "id": "b8cb6346-8c56-4718-8356-9ed10ec1fd06",
   "metadata": {},
   "outputs": [
    {
     "data": {
      "text/plain": [
       "[1, 9, 25, 49, 81]"
      ]
     },
     "execution_count": 18,
     "metadata": {},
     "output_type": "execute_result"
    }
   ],
   "source": [
    "[number*number for number in range (10) if number % 2 == 1 ]"
   ]
  },
  {
   "attachments": {},
   "cell_type": "markdown",
   "id": "ea1a5bf1-f96e-4b2a-b144-ff9a62ec5d8c",
   "metadata": {},
   "source": [
    "<span style=\"font-weight:bolder;font-size:1.25em\">Exercise 3"
   ]
  },
  {
   "cell_type": "code",
   "execution_count": 19,
   "id": "a29ce6e2-e6f7-4ab7-9bd1-41d5e3375a65",
   "metadata": {},
   "outputs": [
    {
     "name": "stdout",
     "output_type": "stream",
     "text": [
      "1.91 μs ± 149 ns per loop (mean ± std. dev. of 7 runs, 1,000,000 loops each)\n"
     ]
    }
   ],
   "source": [
    "%%timeit\n",
    "for number in range (10):\n",
    "    if number % 2 == 0:\n",
    "        continue\n",
    "    else:\n",
    "        odd = number*number"
   ]
  },
  {
   "cell_type": "code",
   "execution_count": 21,
   "id": "1f0dc983-ce11-4564-925f-997275465e8b",
   "metadata": {},
   "outputs": [
    {
     "name": "stdout",
     "output_type": "stream",
     "text": [
      "2.04 μs ± 190 ns per loop (mean ± std. dev. of 7 runs, 1,000,000 loops each)\n"
     ]
    }
   ],
   "source": [
    "%%timeit \n",
    "[number*number for number in range (10) if number % 2 == 1 ]"
   ]
  },
  {
   "cell_type": "markdown",
   "id": "f258ab8c-3280-4d3c-9614-98a72b5c11bf",
   "metadata": {},
   "source": [
    "the non-list comprehension was faster than the list comprehension"
   ]
  },
  {
   "cell_type": "markdown",
   "id": "be6a2735-744c-432d-a5de-2a7561c93bc4",
   "metadata": {},
   "source": [
    "<span style=\"font-weight:bolder;font-size:1.25em\">Exercise 4"
   ]
  },
  {
   "cell_type": "code",
   "execution_count": 23,
   "id": "f77473b1-50ac-4cb4-acae-0cd8dcfb53f0",
   "metadata": {},
   "outputs": [
    {
     "name": "stdout",
     "output_type": "stream",
     "text": [
      "It takes 14 years for the number to drop below 50.\n"
     ]
    }
   ],
   "source": [
    "number = 100\n",
    "year = 0 \n",
    "\n",
    "while number > 50:\n",
    "    number *= 0.95\n",
    "    year += 1\n",
    "\n",
    "print(f\"It takes {year} years for the number to drop below 50.\")"
   ]
  },
  {
   "cell_type": "markdown",
   "id": "aac078c4-d8f9-420c-a4fd-b5bb5f39135d",
   "metadata": {},
   "source": [
    "<span style=\"font-weight:bolder;font-size:1.25em\">Exercise 5"
   ]
  },
  {
   "cell_type": "code",
   "execution_count": 60,
   "id": "2068f91c-eefd-4ddc-b339-42b6683c9397",
   "metadata": {},
   "outputs": [],
   "source": [
    "co2_data = [\n",
    "    (2000, 369.55), (2001, 371.14), (2002, 373.28), \n",
    "    (2003, 375.80), (2004, 377.52), (2005, 379.80), \n",
    "    (2006, 381.90), (2007, 383.79), (2008, 385.60), \n",
    "    (2009, 387.43), (2010, 389.90), (2011, 391.65), \n",
    "    (2012, 393.85), (2013, 396.52), (2014, 398.65),\n",
    "    (2015, 400.83), (2016, 404.24), (2017, 406.55), \n",
    "    (2018, 408.52), (2019, 411.44), (2020, 414.24)\n",
    "]"
   ]
  },
  {
   "cell_type": "code",
   "execution_count": 70,
   "id": "4cda522e-3054-4ee8-8584-488c8a636742",
   "metadata": {},
   "outputs": [
    {
     "name": "stdout",
     "output_type": "stream",
     "text": [
      "CO₂ increase from 2000 to 2001: 1.59\n",
      "CO₂ increase from 2001 to 2002: 2.14\n",
      "CO₂ increase from 2002 to 2003: 2.52\n",
      "CO₂ increase from 2003 to 2004: 1.72\n",
      "CO₂ increase from 2004 to 2005: 2.28\n",
      "CO₂ increase from 2005 to 2006: 2.10\n",
      "CO₂ increase from 2006 to 2007: 1.89\n",
      "CO₂ increase from 2007 to 2008: 1.81\n",
      "CO₂ increase from 2008 to 2009: 1.83\n",
      "CO₂ increase from 2009 to 2010: 2.47\n",
      "CO₂ increase from 2010 to 2011: 1.75\n",
      "CO₂ increase from 2011 to 2012: 2.20\n",
      "CO₂ increase from 2012 to 2013: 2.67\n",
      "CO₂ increase from 2013 to 2014: 2.13\n",
      "CO₂ increase from 2014 to 2015: 2.18\n",
      "CO₂ increase from 2015 to 2016: 3.41\n",
      "CO₂ increase from 2016 to 2017: 2.31\n",
      "CO₂ increase from 2017 to 2018: 1.97\n",
      "CO₂ increase from 2018 to 2019: 2.92\n",
      "CO₂ increase from 2019 to 2020: 2.80\n"
     ]
    }
   ],
   "source": [
    "for i in range(len(co2_data) - 1):  # Ensure i+1 is in range\n",
    "    diff = co2_data[i+1][1] - co2_data[i][1]  # Use correct index\n",
    "    print(f\"CO₂ increase from {co2_data[i][0]} to {co2_data[i+1][0]}: {diff:.2f}\")\n"
   ]
  },
  {
   "cell_type": "code",
   "execution_count": 84,
   "id": "0c39338a-93e4-4d3e-8186-9395b0501cfe",
   "metadata": {},
   "outputs": [
    {
     "name": "stdout",
     "output_type": "stream",
     "text": [
      "CO2 increase in year 2016 is 3.410 which is more than 3ppm\n"
     ]
    }
   ],
   "source": [
    "for i in range(len(co2_data)):\n",
    "    if co2_data[i][0]+1 < 2021:\n",
    "        diff = co2_data[i+1][1] - co2_data[i][1]\n",
    "        if diff > 3:\n",
    "            print(f'CO2 increase in year {co2_data[i+1][0]} is {diff:.3f} which is more than 3ppm')\n",
    "        \n",
    "        # if co2_data[i][0]+1 - co2_data[i][0] == 1:\n",
    "        #     diff = co2_data[i+1][1] - co2_data[i][1]\n",
    "        # print(diff)"
   ]
  }
 ],
 "metadata": {
  "kernelspec": {
   "display_name": "Python 3 (ipykernel)",
   "language": "python",
   "name": "python3"
  },
  "language_info": {
   "codemirror_mode": {
    "name": "ipython",
    "version": 3
   },
   "file_extension": ".py",
   "mimetype": "text/x-python",
   "name": "python",
   "nbconvert_exporter": "python",
   "pygments_lexer": "ipython3",
   "version": "3.12.3"
  },
  "toc": {
   "base_numbering": 1,
   "nav_menu": {},
   "number_sections": true,
   "sideBar": true,
   "skip_h1_title": false,
   "title_cell": "Table of Contents",
   "title_sidebar": "Contents",
   "toc_cell": false,
   "toc_position": {},
   "toc_section_display": true,
   "toc_window_display": false
  },
  "vscode": {
   "interpreter": {
    "hash": "31f2aee4e71d21fbe5cf8b01ff0e069b9275f58929596ceb00d14d90e3e16cd6"
   }
  }
 },
 "nbformat": 4,
 "nbformat_minor": 5
}
