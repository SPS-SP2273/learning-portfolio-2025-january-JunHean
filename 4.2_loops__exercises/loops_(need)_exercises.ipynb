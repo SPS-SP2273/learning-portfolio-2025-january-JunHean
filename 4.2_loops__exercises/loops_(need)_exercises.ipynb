{
 "cells": [
  {
   "attachments": {},
   "cell_type": "markdown",
   "id": "123456",
   "metadata": {},
   "source": [
    "<div style=\"text-align:left;font-size:2em\"><span style=\"font-weight:bolder;font-size:1.25em\">SP2273 | Learning Portfolio</span><br><br><span style=\"font-weight:bold;color:darkred\">Loops (Need) Exercises</span></div>"
   ]
  },
  {
   "attachments": {},
   "cell_type": "markdown",
   "id": "f704d931-0ae1-4153-9253-5f9189b69c9b",
   "metadata": {},
   "source": [
    "<span style=\"font-weight:bolder;font-size:1.25em\">Exercise 1 (Celsius to Fahrenheit) "
   ]
  },
  {
   "cell_type": "code",
   "execution_count": 1,
   "id": "94a45fb2-fd76-451e-881e-de41ac2f3a21",
   "metadata": {},
   "outputs": [],
   "source": [
    "temperatures_celsius = [\n",
    "    0, 5, 10, 15, 20, 25,\n",
    "    30, 35, 40, 45, 50\n",
    "]"
   ]
  },
  {
   "cell_type": "code",
   "execution_count": 4,
   "id": "5c9bd422-9ab2-4e71-91f8-ecfd91c67ff7",
   "metadata": {},
   "outputs": [
    {
     "data": {
      "text/plain": [
       "array([ 32.,  41.,  50.,  59.,  68.,  77.,  86.,  95., 104., 113., 122.])"
      ]
     },
     "execution_count": 4,
     "metadata": {},
     "output_type": "execute_result"
    }
   ],
   "source": [
    "import numpy as np\n",
    "\n",
    "temp_c = np.array(temperatures_celsius)\n",
    "temp_f = (temp_c * 1.8) + 32\n",
    "temp_f"
   ]
  },
  {
   "attachments": {},
   "cell_type": "markdown",
   "id": "26e3e34e-a3c0-4c6e-8a39-d2687d012574",
   "metadata": {},
   "source": [
    "<span style=\"font-weight:bolder;font-size:1.25em\">Exercise 2 (Multiplication table) "
   ]
  },
  {
   "cell_type": "code",
   "execution_count": 37,
   "id": "b8cb6346-8c56-4718-8356-9ed10ec1fd06",
   "metadata": {},
   "outputs": [
    {
     "name": "stdout",
     "output_type": "stream",
     "text": [
      "A1\tA2\tA3\t\n",
      "\n",
      "B1\tB2\tB3\t\n",
      "\n",
      "C1\tC2\tC3\t\n",
      "\n"
     ]
    }
   ],
   "source": [
    "for letter in ['A', 'B', 'C']:\n",
    "    for number in [1, 2, 3]:\n",
    "        print(f'{letter}{number}', end='\\t')     # '\\t' adds a tab after each number\n",
    "    print('\\n')                                  # '\\t' adds a tab after each letter row"
   ]
  },
  {
   "cell_type": "code",
   "execution_count": 38,
   "id": "01d4548c-e62d-46ba-9590-952b5a991d43",
   "metadata": {},
   "outputs": [
    {
     "name": "stdout",
     "output_type": "stream",
     "text": [
      "1 :\t1\t2\t3\t4\t5\t\n",
      "2 :\t2\t4\t6\t8\t10\t\n",
      "3 :\t3\t6\t9\t12\t15\t\n",
      "4 :\t4\t8\t12\t16\t20\t\n",
      "5 :\t5\t10\t15\t20\t25\t\n"
     ]
    }
   ],
   "source": [
    "for index in [1, 2, 3, 4, 5]:\n",
    "    print(f'{index} :', end='\\t')\n",
    "    for multiple in [1, 2, 3, 4, 5]:\n",
    "        timestable = index*multiple\n",
    "        print(f'{timestable}', end='\\t')\n",
    "    print()"
   ]
  },
  {
   "attachments": {},
   "cell_type": "markdown",
   "id": "ea1a5bf1-f96e-4b2a-b144-ff9a62ec5d8c",
   "metadata": {},
   "source": [
    "<span style=\"font-weight:bolder;font-size:1.25em\">Exercise 3 (Simulating a Coin Flip Experiment)  "
   ]
  },
  {
   "cell_type": "code",
   "execution_count": 44,
   "id": "a29ce6e2-e6f7-4ab7-9bd1-41d5e3375a65",
   "metadata": {},
   "outputs": [
    {
     "data": {
      "text/plain": [
       "array([0.32802412, 0.13760941, 0.22126191, 0.78101559, 0.52946637,\n",
       "       0.88205433, 0.8577352 , 0.17814356, 0.66070332, 0.38152691])"
      ]
     },
     "execution_count": 44,
     "metadata": {},
     "output_type": "execute_result"
    }
   ],
   "source": [
    "coin = np.array(np.random.rand(10))\n",
    "coin"
   ]
  },
  {
   "cell_type": "code",
   "execution_count": 45,
   "id": "1f0dc983-ce11-4564-925f-997275465e8b",
   "metadata": {},
   "outputs": [
    {
     "data": {
      "text/plain": [
       "array([False, False, False,  True,  True,  True,  True, False,  True,\n",
       "       False])"
      ]
     },
     "execution_count": 45,
     "metadata": {},
     "output_type": "execute_result"
    }
   ],
   "source": [
    "head = coin > 0.5\n",
    "head"
   ]
  },
  {
   "cell_type": "code",
   "execution_count": 131,
   "id": "84f820cf-ca10-466f-90f7-9c31362312b2",
   "metadata": {},
   "outputs": [
    {
     "name": "stdout",
     "output_type": "stream",
     "text": [
      "Experiment 1: No. of Heads = 7\n",
      "Experiment 2: No. of Heads = 4\n",
      "Experiment 3: No. of Heads = 4\n",
      "Experiment 4: No. of Heads = 3\n",
      "Experiment 5: No. of Heads = 5\n",
      "Experiment 6: No. of Heads = 5\n",
      "Experiment 7: No. of Heads = 5\n",
      "Experiment 8: No. of Heads = 5\n",
      "Experiment 9: No. of Heads = 1\n",
      "Experiment 10: No. of Heads = 8\n"
     ]
    }
   ],
   "source": [
    "for index in range(1, 11):\n",
    "    coin = np.array(np.random.rand(10))\n",
    "    head = np.where(coin > 0.5, 1, coin)\n",
    "    heads = int(head[head == 1].sum())\n",
    "    print(f'Experiment {index}: No. of Heads = {heads}')"
   ]
  }
 ],
 "metadata": {
  "kernelspec": {
   "display_name": "Python 3 (ipykernel)",
   "language": "python",
   "name": "python3"
  },
  "language_info": {
   "codemirror_mode": {
    "name": "ipython",
    "version": 3
   },
   "file_extension": ".py",
   "mimetype": "text/x-python",
   "name": "python",
   "nbconvert_exporter": "python",
   "pygments_lexer": "ipython3",
   "version": "3.12.3"
  },
  "toc": {
   "base_numbering": 1,
   "nav_menu": {},
   "number_sections": true,
   "sideBar": true,
   "skip_h1_title": false,
   "title_cell": "Table of Contents",
   "title_sidebar": "Contents",
   "toc_cell": false,
   "toc_position": {},
   "toc_section_display": true,
   "toc_window_display": false
  },
  "vscode": {
   "interpreter": {
    "hash": "31f2aee4e71d21fbe5cf8b01ff0e069b9275f58929596ceb00d14d90e3e16cd6"
   }
  }
 },
 "nbformat": 4,
 "nbformat_minor": 5
}
