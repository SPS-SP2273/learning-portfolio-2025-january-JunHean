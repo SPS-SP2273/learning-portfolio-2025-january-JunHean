{
 "cells": [
  {
   "attachments": {},
   "cell_type": "markdown",
   "id": "123456",
   "metadata": {},
   "source": [
    "<div style=\"text-align:left;font-size:2em\"><span style=\"font-weight:bolder;font-size:1.25em\">SP2273 | Learning Portfolio</span><br><br><span style=\"font-weight:bold;color:darkred\">Using Jupyter (Need), Exercises</span></div>"
   ]
  },
  {
   "attachments": {},
   "cell_type": "markdown",
   "id": "e1079c3c",
   "metadata": {},
   "source": [
    "# Quadratic Equations"
   ]
  },
  {
   "attachments": {},
   "cell_type": "markdown",
   "id": "f4db49a7",
   "metadata": {},
   "source": [
    "## Introduction"
   ]
  },
  {
   "cell_type": "markdown",
   "id": "ea13e344-f038-46c7-8088-7439c0f74f30",
   "metadata": {},
   "source": [
    "![](https://upload.wikimedia.org/wikipedia/commons/f/f8/Polynomialdeg2.svg)"
   ]
  },
  {
   "cell_type": "markdown",
   "id": "7ac4dc22-1012-48a3-82c5-5eb474428985",
   "metadata": {},
   "source": [
    "(*Image from the [Wikipedia page on Quadratic equations](https://en.wikipedia.org/wiki/Quadratic_equation)*)"
   ]
  },
  {
   "cell_type": "markdown",
   "id": "b2379dfb-ffb6-43ea-8570-c636b7975644",
   "metadata": {},
   "source": [
    "The general form of a quadratic equation is: \n",
    "$$\n",
    "ax^{2} + bx + c = 0\n",
    "$$"
   ]
  },
  {
   "attachments": {},
   "cell_type": "markdown",
   "id": "75b2e251",
   "metadata": {},
   "source": [
    "## Solutions"
   ]
  },
  {
   "cell_type": "markdown",
   "id": "5fb946da-0803-49a7-9657-0df83b4c49ab",
   "metadata": {},
   "source": [
    "Provided $a \\ne 0$, we can use an elementary algebraic method called completing the square to show that a quadratic equation has the following solution: $$ x = \\dfrac{-b \\pm \\sqrt{b^{2}-4ac}}{2a} $$"
   ]
  },
  {
   "attachments": {},
   "cell_type": "markdown",
   "id": "c4805618",
   "metadata": {},
   "source": [
    "## Discriminant"
   ]
  },
  {
   "cell_type": "markdown",
   "id": "d4ad1813-8349-41c8-873c-db399f09c637",
   "metadata": {},
   "source": [
    "The quantity $ \\Delta = b^{2}-4a$ is called the **discriminant** of the equation and decides the nature of its solutions. The table below shows the various possibilities.\n",
    "\n",
    "|    **Discriminant**    |    **Roots**    |\n",
    "| :--: | :--- |\n",
    "| $ \\Delta = b^{2}-4a = 0$ | A single solution of $-b/(2a)$   |\n",
    "| $ \\Delta = b^{2}-4a \\gt 0$ | Two distinct solutions   |\n",
    "| $ \\Delta = b^{2}-4a \\lt 0$ | No real solutions; both are complex.   |"
   ]
  },
  {
   "cell_type": "markdown",
   "id": "5bfd7be6-f273-4442-932c-dbaea3e4c458",
   "metadata": {},
   "source": [
    "# Exercise 2"
   ]
  },
  {
   "cell_type": "markdown",
   "id": "067a4481-2bdf-4c47-86e2-3475cd99d6ee",
   "metadata": {},
   "source": [
    "## What is a Git **repository**?\n",
    "Git repository is similar to a Google Drive. It is a cloud where we can keep track of code changes and collaborate with others. \n",
    "\n",
    "## Git keeps track of ____BLANK____ in the files in our repository.\n",
    "Changes in codes\n",
    "\n",
    "## What is a **commit**?\n",
    "It is similar to saving the documents and code. A commit specifies what file changes you want to be recorded and attaches a brief description of these changes.\n",
    "\n",
    "## What is a **push**?\n",
    "It is the act of uploading the documents and code into the cloud. Essentially, to share changes with GitHub (cloud), we need to push the changes to the server (usually referred to as the origin). \n",
    "\n",
    "## What is a **pull**?\n",
    "It is the act of accepting the changes in the documents and code made by another terminal from the cloud. \"When we want to save (pull) changes from the cloud to our local machine, we call it a pull.\"\n",
    "\n",
    "## What is the difference between **GitHub** and **GitHub Desktop**?\n",
    "GitHub is a cloud storage system where codes can be changed and saved. Github desktop is a local system where we will be able to make changes and commit changes."
   ]
  },
  {
   "cell_type": "markdown",
   "id": "eebf3fc9-c44e-4784-b2b0-b8867c2d275f",
   "metadata": {},
   "source": [
    "# Exercise 3"
   ]
  },
  {
   "cell_type": "markdown",
   "id": "bb21cf5c-dff4-42bb-8988-0403d4df686e",
   "metadata": {},
   "source": [
    "$$\n",
    "\\mu = \\dfrac{1}{n} \\sum_{i=1}^{n} x_i\n",
    "$$\n",
    "\n",
    "$$\n",
    "\\sigma = \\sqrt{\\dfrac{1}{n} \\sum_{i=1}^{n} (x_i - \\mu)^{2}}\n",
    "$$\n",
    "\n",
    "$$\n",
    "r = \\dfrac{\\sum_{i=1}^{n} (x_i - \\mu_X) (y_i - \\mu_Y)}{\\sqrt{\\sum_{i=1}^{n} (x_i - \\mu_X)^{2} \\sum_{i=1}^{n} (y_i - \\mu_Y)^{2}}}\n",
    "$$"
   ]
  }
 ],
 "metadata": {
  "kernelspec": {
   "display_name": "Python 3 (ipykernel)",
   "language": "python",
   "name": "python3"
  },
  "language_info": {
   "codemirror_mode": {
    "name": "ipython",
    "version": 3
   },
   "file_extension": ".py",
   "mimetype": "text/x-python",
   "name": "python",
   "nbconvert_exporter": "python",
   "pygments_lexer": "ipython3",
   "version": "3.12.3"
  },
  "toc": {
   "base_numbering": 1,
   "nav_menu": {},
   "number_sections": true,
   "sideBar": true,
   "skip_h1_title": false,
   "title_cell": "Table of Contents",
   "title_sidebar": "Contents",
   "toc_cell": false,
   "toc_position": {},
   "toc_section_display": true,
   "toc_window_display": false
  },
  "vscode": {
   "interpreter": {
    "hash": "31f2aee4e71d21fbe5cf8b01ff0e069b9275f58929596ceb00d14d90e3e16cd6"
   }
  }
 },
 "nbformat": 4,
 "nbformat_minor": 5
}
