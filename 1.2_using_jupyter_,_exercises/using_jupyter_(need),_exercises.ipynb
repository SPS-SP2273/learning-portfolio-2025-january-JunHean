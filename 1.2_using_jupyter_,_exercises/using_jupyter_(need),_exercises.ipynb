{
 "cells": [
  {
   "attachments": {},
   "cell_type": "markdown",
   "id": "123456",
   "metadata": {},
   "source": [
    "<div style=\"text-align:left;font-size:2em\"><span style=\"font-weight:bolder;font-size:1.25em\">SP2273 | Learning Portfolio</span><br><br><span style=\"font-weight:bold;color:darkred\">Using Jupyter (Need), Exercises</span></div>"
   ]
  },
  {
   "attachments": {},
   "cell_type": "markdown",
   "id": "e1079c3c",
   "metadata": {},
   "source": [
    "## 1 Quadratic Equations"
   ]
  },
  {
   "attachments": {},
   "cell_type": "markdown",
   "id": "f4db49a7",
   "metadata": {},
   "source": [
    "### Introduction"
   ]
  },
  {
   "cell_type": "markdown",
   "id": "ea13e344-f038-46c7-8088-7439c0f74f30",
   "metadata": {},
   "source": [
    "![](https://upload.wikimedia.org/wikipedia/commons/f/f8/Polynomialdeg2.svg)"
   ]
  },
  {
   "cell_type": "markdown",
   "id": "7ac4dc22-1012-48a3-82c5-5eb474428985",
   "metadata": {},
   "source": [
    "(*Image from the [Wikipedia page on Quadratic equations](https://en.wikipedia.org/wiki/Quadratic_equation)*)"
   ]
  },
  {
   "cell_type": "markdown",
   "id": "b2379dfb-ffb6-43ea-8570-c636b7975644",
   "metadata": {},
   "source": [
    "The general form of a quadratic equation is: \n",
    "$$\n",
    "ax^{2} + bx + c = 0\n",
    "$$"
   ]
  },
  {
   "attachments": {},
   "cell_type": "markdown",
   "id": "75b2e251",
   "metadata": {},
   "source": [
    "### Solutions"
   ]
  },
  {
   "cell_type": "markdown",
   "id": "5fb946da-0803-49a7-9657-0df83b4c49ab",
   "metadata": {},
   "source": [
    "Provided $a \\ne 0$, we can use an elementary algebraic method called completing the square to show that a quadratic equation has the following solution: $$ x = \\dfrac{-b \\pm \\sqrt{b^{2}-4ac}}{2a} $$"
   ]
  },
  {
   "attachments": {},
   "cell_type": "markdown",
   "id": "c4805618",
   "metadata": {},
   "source": [
    "### Discriminant"
   ]
  },
  {
   "cell_type": "code",
   "execution_count": null,
   "id": "76aa45c8",
   "metadata": {},
   "outputs": [],
   "source": [
    "\n",
    "# Your code here\n"
   ]
  }
 ],
 "metadata": {
  "kernelspec": {
   "display_name": "Python 3 (ipykernel)",
   "language": "python",
   "name": "python3"
  },
  "language_info": {
   "codemirror_mode": {
    "name": "ipython",
    "version": 3
   },
   "file_extension": ".py",
   "mimetype": "text/x-python",
   "name": "python",
   "nbconvert_exporter": "python",
   "pygments_lexer": "ipython3",
   "version": "3.12.3"
  },
  "toc": {
   "base_numbering": 1,
   "nav_menu": {},
   "number_sections": true,
   "sideBar": true,
   "skip_h1_title": false,
   "title_cell": "Table of Contents",
   "title_sidebar": "Contents",
   "toc_cell": false,
   "toc_position": {},
   "toc_section_display": true,
   "toc_window_display": false
  },
  "vscode": {
   "interpreter": {
    "hash": "31f2aee4e71d21fbe5cf8b01ff0e069b9275f58929596ceb00d14d90e3e16cd6"
   }
  }
 },
 "nbformat": 4,
 "nbformat_minor": 5
}
