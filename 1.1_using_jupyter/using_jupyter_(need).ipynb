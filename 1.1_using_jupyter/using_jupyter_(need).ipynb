{
 "cells": [
  {
   "attachments": {},
   "cell_type": "markdown",
   "id": "123456",
   "metadata": {},
   "source": [
    "<div style=\"text-align:left;font-size:2em\"><span style=\"font-weight:bolder;font-size:1.25em\">SP2273 | Learning Portfolio</span><br><br><span style=\"font-weight:bold;color:darkred\">Using Jupyter (Need)</span></div>"
   ]
  },
  {
   "cell_type": "markdown",
   "id": "6e80647b-a9f1-49ae-9bac-6220d566bb9f",
   "metadata": {},
   "source": [
    "![](https://upload.wikimedia.org/wikipedia/commons/3/38/Jupyter_logo.svg)"
   ]
  },
  {
   "cell_type": "markdown",
   "id": "6074826f-20fd-4db8-8229-73998ebd0ace",
   "metadata": {},
   "source": [
    "# Getting ready"
   ]
  },
  {
   "cell_type": "markdown",
   "id": "1fd1a72e-3e06-49c0-903c-a8dc77f51e21",
   "metadata": {},
   "source": [
    "1. Use the terminal to navigate to the folder `Using Jupyter` in your Learning Portfolio.\n",
    "2. Start Jupyter notebooks through the terminal. Please refer to the previous chapter if you have forgotten how to do this.\n",
    "3. Use the button \"New\" to create a new `Python 3 (ipykernel)` notebook.\n",
    "4. Click the `Untitled` at the top (next to the Jupiter logo) and rename the file to `using-jupyter_need`."
   ]
  },
  {
   "cell_type": "markdown",
   "id": "2d3e98ad-9cf9-4895-915d-718703b6b6c3",
   "metadata": {},
   "source": [
    "# Getting started with Jupyter"
   ]
  },
  {
   "cell_type": "markdown",
   "id": "7bca9c4b-b590-4846-940b-cb111e50c08c",
   "metadata": {},
   "source": [
    "## It is all about running cells"
   ]
  },
  {
   "cell_type": "code",
   "execution_count": 10,
   "id": "b2d4cede-188c-4d0e-827d-9a64b295b44a",
   "metadata": {},
   "outputs": [
    {
     "name": "stdout",
     "output_type": "stream",
     "text": [
      "hello world\n",
      "hello world\n",
      "hello world\n"
     ]
    }
   ],
   "source": [
    "print(\"hello world\")\n",
    "print(\"hello world\")\n",
    "print(\"hello world\")"
   ]
  },
  {
   "cell_type": "markdown",
   "id": "d2a69c07-55f4-413c-b15e-0be9a0e87500",
   "metadata": {},
   "source": [
    "print(\"hello world\") **HAHAHAH**"
   ]
  },
  {
   "cell_type": "markdown",
   "id": "0d570fc4-58a4-4ed3-bb78-dfc2a0607110",
   "metadata": {},
   "source": [
    "To *change* a code **cell** to a Markdown cell, press: Esc + M"
   ]
  },
  {
   "cell_type": "markdown",
   "id": "631cddbd-59fe-4cdd-84b7-4c8e1054c9cc",
   "metadata": {},
   "source": [
    "The ship *hung in the sky* in much trhe same way that **bricks don't.** <sup>1</sup><sub>QUOTE</sub>"
   ]
  },
  {
   "cell_type": "markdown",
   "id": "38a3dc13-57f1-442b-aef0-db65ec0bf0f6",
   "metadata": {},
   "source": [
    "# "
   ]
  },
  {
   "cell_type": "markdown",
   "id": "380092bc-c69a-476b-b33f-2626adfea235",
   "metadata": {},
   "source": [
    "# Displaying codes"
   ]
  },
  {
   "cell_type": "markdown",
   "id": "e6eec2de-51d6-417d-bce7-9294ffa03868",
   "metadata": {},
   "source": [
    "## To show the code while in text"
   ]
  },
  {
   "cell_type": "markdown",
   "id": "eed737cc-9c49-4f6c-8cd0-b5dfaed9e9ff",
   "metadata": {},
   "source": [
    "Enclode the test between two backticks (`) which is above 'Tab', like `print('Hello World')` or \n",
    "\n",
    "```python\n",
    "print('Hello World!')\n",
    "```\n"
   ]
  },
  {
   "cell_type": "markdown",
   "id": "db4198ba-49a8-40b7-9d0a-26aae76c0897",
   "metadata": {},
   "source": [
    "## To link a text to a website"
   ]
  },
  {
   "cell_type": "markdown",
   "id": "f58741e2-26f8-4fc8-be14-b25d8d91ec81",
   "metadata": {},
   "source": [
    "Find out more about the course [SP2273](https://sps.nus.edu.sg/sp2273)"
   ]
  },
  {
   "cell_type": "markdown",
   "id": "ed96a7b8-b804-4aa7-a0f1-d632db4e5458",
   "metadata": {},
   "source": [
    "## How to Link it to an image"
   ]
  },
  {
   "cell_type": "markdown",
   "id": "b7cc053b-aa60-443e-ad91-2e3f54ecdf3b",
   "metadata": {},
   "source": [
    "![](https://nus.edu.sg/images/default-source/base/logo.png)"
   ]
  },
  {
   "cell_type": "code",
   "execution_count": null,
   "id": "cf5abde3-2671-47d5-b9bc-5dffc2743ea1",
   "metadata": {},
   "outputs": [],
   "source": []
  }
 ],
 "metadata": {
  "kernelspec": {
   "display_name": "Python 3 (ipykernel)",
   "language": "python",
   "name": "python3"
  },
  "language_info": {
   "codemirror_mode": {
    "name": "ipython",
    "version": 3
   },
   "file_extension": ".py",
   "mimetype": "text/x-python",
   "name": "python",
   "nbconvert_exporter": "python",
   "pygments_lexer": "ipython3",
   "version": "3.12.3"
  },
  "toc": {
   "base_numbering": 1,
   "nav_menu": {},
   "number_sections": true,
   "sideBar": true,
   "skip_h1_title": false,
   "title_cell": "Table of Contents",
   "title_sidebar": "Contents",
   "toc_cell": false,
   "toc_position": {},
   "toc_section_display": true,
   "toc_window_display": false
  },
  "vscode": {
   "interpreter": {
    "hash": "31f2aee4e71d21fbe5cf8b01ff0e069b9275f58929596ceb00d14d90e3e16cd6"
   }
  }
 },
 "nbformat": 4,
 "nbformat_minor": 5
}
