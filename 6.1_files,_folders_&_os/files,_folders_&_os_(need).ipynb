{
 "cells": [
  {
   "attachments": {},
   "cell_type": "markdown",
   "id": "123456",
   "metadata": {},
   "source": [
    "<div style=\"text-align:left;font-size:2em\"><span style=\"font-weight:bolder;font-size:1.25em\">SP2273 | Learning Portfolio</span><br><br><span style=\"font-weight:bold;color:darkred\">Files, Folders & OS (Need)</span></div>"
   ]
  },
  {
   "attachments": {},
   "cell_type": "markdown",
   "id": "71a90e8a",
   "metadata": {},
   "source": [
    "# Failed codes that I should-not be using"
   ]
  },
  {
   "cell_type": "code",
   "execution_count": null,
   "id": "405401ab-a161-49c9-8eba-dc06adbce60c",
   "metadata": {},
   "outputs": [],
   "source": [
    "# unzipping the file\n",
    "\n",
    "shutil.unpack_archive('os-collaboration-exercise-data.zip', 'extracted-collaboration-data')"
   ]
  },
  {
   "cell_type": "code",
   "execution_count": null,
   "id": "8e2e0a23-1aa7-4dc6-ac61-88e60decbb00",
   "metadata": {},
   "outputs": [],
   "source": [
    "#creating folders to separate my information\n",
    "\n",
    "for dtype in ['txt', 'others']:\n",
    "    path = os.path.join('extracted-collaboration-data', dtype)\n",
    "    if os.path.exists(path):\n",
    "        print(f'{path} already exists; skipping creation.')\n",
    "    else:\n",
    "        os.mkdir(path)\n",
    "        print(f'Creating {path}')"
   ]
  },
  {
   "cell_type": "code",
   "execution_count": null,
   "id": "b4128f9b-ad2e-4747-aaf3-81ad0bbeab6e",
   "metadata": {},
   "outputs": [],
   "source": [
    "# extracting .txt files only\n",
    "\n",
    "txt_files = glob.glob('extracted-collaboration-data/**/**.txt', recursive=True)\n",
    "for file in txt_files:\n",
    "    path = os.path.join('extracted-collaboration-data/txt', os.path.basename(file))\n",
    "    if os.path.exists(path):\n",
    "        continue\n",
    "    else:\n",
    "        shutil.copy(file, 'extracted-collaboration-data/txt')\n",
    "print('txt files have been copied')"
   ]
  },
  {
   "cell_type": "code",
   "execution_count": null,
   "id": "28655872-9f12-4d79-bc81-80b94619186b",
   "metadata": {},
   "outputs": [],
   "source": [
    "# fixing the dict between the function makes it so that nobody can access the dictionary, unlike if it is outside, then it can be shared\n",
    "# (read up local vs global variable)\n",
    "\n",
    "def rename_my_file(old_file_name):\n",
    "    months = {'jan': '01', 'feb': '02', 'mar': '03',            \n",
    "              'apr': '04', 'may': '05', 'jun': '06',\n",
    "              'jul': '07', 'aug': '08', 'sep': '09',\n",
    "              'oct': '10', 'nov': '11', 'dec': '12'\n",
    "             }\n",
    "    file = old_file_name\n",
    "    \n",
    "    month, filename = file.split('-')\n",
    "    day, city = filename.split('_')\n",
    "    \n",
    "    if month in months.keys():\n",
    "        return f'{months[month]}-{filename}'\n",
    "    else:\n",
    "        print('file not found!')"
   ]
  },
  {
   "cell_type": "markdown",
   "id": "a9db7b49-5bb1-4677-af7d-6f0e8b2a3d96",
   "metadata": {},
   "source": [
    "# Note from class"
   ]
  },
  {
   "cell_type": "code",
   "execution_count": 2,
   "id": "eff989a3-a65e-4708-a7ff-1eeb8538d1b8",
   "metadata": {},
   "outputs": [],
   "source": [
    "text = 'Far out in the uncharted backwaters of the unfashionable end of the western spiral arm of the Galaxy lies a small unregarded yellow sun.\\nOrbiting this at a distance of roughly ninety-two million miles is an utterly insignificant little blue green planet whose ape-descended life forms are so amazingly primitive that they still think digital watches are a pretty neat idea.'"
   ]
  },
  {
   "attachments": {},
   "cell_type": "markdown",
   "id": "c0240f6c",
   "metadata": {},
   "source": [
    "### Writing to a file, line by line"
   ]
  },
  {
   "cell_type": "code",
   "execution_count": 4,
   "id": "1ba7f82d",
   "metadata": {},
   "outputs": [],
   "source": [
    "with open('my-text-once.txt', 'w') as file:\n",
    "    file.write(text)"
   ]
  },
  {
   "cell_type": "code",
   "execution_count": 5,
   "id": "769e113b-c218-4c0b-b4a3-5fad38159d09",
   "metadata": {},
   "outputs": [],
   "source": [
    "with open('my-text-lines.txt', 'a') as file:\n",
    "    for line in text.splitlines():\n",
    "        file.write(line)"
   ]
  },
  {
   "attachments": {},
   "cell_type": "markdown",
   "id": "eabcbe96",
   "metadata": {},
   "source": [
    "# 3 Some useful packages"
   ]
  },
  {
   "cell_type": "code",
   "execution_count": 6,
   "id": "d265c0e4-dca2-4620-a358-862da7e4eb92",
   "metadata": {},
   "outputs": [],
   "source": [
    "import os\n",
    "import glob\n",
    "import shutil"
   ]
  },
  {
   "attachments": {},
   "cell_type": "markdown",
   "id": "743c8393",
   "metadata": {},
   "source": [
    "# 4 OS safe paths"
   ]
  },
  {
   "attachments": {},
   "cell_type": "markdown",
   "id": "f63e66a5",
   "metadata": {},
   "source": [
    "# 5 Folders"
   ]
  },
  {
   "cell_type": "code",
   "execution_count": 7,
   "id": "e2d2f5b6-956f-48df-b6ab-e40eb77d530b",
   "metadata": {},
   "outputs": [
    {
     "name": "stdout",
     "output_type": "stream",
     "text": [
      "Creating people\\John\n",
      "Creating people\\Paul\n",
      "Creating people\\Ringo\n"
     ]
    }
   ],
   "source": [
    "os.mkdir('people')\n",
    "\n",
    "for person in ['John', 'Paul', 'Ringo']:\n",
    "    path = os.path.join('people', person)\n",
    "    print(f'Creating {path}')\n",
    "    os.mkdir(path)"
   ]
  },
  {
   "cell_type": "code",
   "execution_count": 8,
   "id": "32a4191e-a0f9-4523-9386-30407613482b",
   "metadata": {},
   "outputs": [
    {
     "name": "stdout",
     "output_type": "stream",
     "text": [
      "people\\John already exists; skipping creation.\n",
      "people\\Paul already exists; skipping creation.\n",
      "people\\Ringo already exists; skipping creation.\n"
     ]
    }
   ],
   "source": [
    "for person in ['John', 'Paul', 'Ringo']:\n",
    "    path = os.path.join('people', person)\n",
    "    try:\n",
    "        os.mkdir(path)\n",
    "        print(f'Creating {path}')\n",
    "    except FileExistsError:\n",
    "        print(f'{path} already exists; skipping creation.')"
   ]
  },
  {
   "cell_type": "code",
   "execution_count": 9,
   "id": "4f69d9b4-d2cf-45fb-831b-1cb4a59ba367",
   "metadata": {},
   "outputs": [
    {
     "name": "stdout",
     "output_type": "stream",
     "text": [
      "people\\John already exists; skipping creation.\n",
      "people\\Paul already exists; skipping creation.\n",
      "people\\Ringo already exists; skipping creation.\n"
     ]
    }
   ],
   "source": [
    "for person in ['John', 'Paul', 'Ringo']:\n",
    "    path = os.path.join('people', person)\n",
    "    if os.path.exists(path):\n",
    "        print(f'{path} already exists; skipping creation.')\n",
    "    else:\n",
    "        os.mkdir(path)\n",
    "        print(f'Creating {path}')"
   ]
  },
  {
   "attachments": {},
   "cell_type": "markdown",
   "id": "271e64a7",
   "metadata": {},
   "source": [
    "## 5.1 Creating folders"
   ]
  },
  {
   "attachments": {},
   "cell_type": "markdown",
   "id": "d7892605",
   "metadata": {},
   "source": [
    "## 5.2 Checking for existence"
   ]
  },
  {
   "attachments": {},
   "cell_type": "markdown",
   "id": "79ad87a1",
   "metadata": {},
   "source": [
    "### Using try-except"
   ]
  },
  {
   "cell_type": "code",
   "execution_count": 14,
   "id": "eb7388cd",
   "metadata": {},
   "outputs": [
    {
     "name": "stdout",
     "output_type": "stream",
     "text": [
      "1\n"
     ]
    }
   ],
   "source": [
    "data = [range(1000)]\n",
    "print(len(data))"
   ]
  },
  {
   "cell_type": "code",
   "execution_count": null,
   "id": "e2c42f8b-a081-44a6-b737-902bf79afd3a",
   "metadata": {},
   "outputs": [],
   "source": [
    "for i in range(100):\n",
    "    "
   ]
  },
  {
   "attachments": {},
   "cell_type": "markdown",
   "id": "f35c0f4c",
   "metadata": {},
   "source": [
    "### Using os.path.exists()"
   ]
  },
  {
   "cell_type": "code",
   "execution_count": 16,
   "id": "bf3861df",
   "metadata": {},
   "outputs": [
    {
     "name": "stdout",
     "output_type": "stream",
     "text": [
      "BEFORE|\tNumber: 10(id: 140713463274200), Array: [10](id: 1849414110448), List: [10](id: 1849409824896)\n",
      "Doing something!\n",
      "INSIDE|\tNumber: 20(id: 140713463274520), Array: [20](id: 1849414110448), List: [10, 10](id: 1849409824896)\n",
      "AFTER|\tNumber: 10(id: 140713463274200), Array: [20](id: 1849414110448), List: [10, 10](id: 1849409824896)\n"
     ]
    }
   ],
   "source": [
    "import numpy as np\n",
    "\n",
    "def do_something(inside_number, inside_array, inside_list):\n",
    "    print('Doing something!')\n",
    "    inside_number *= 2\n",
    "    inside_array *= 2\n",
    "    inside_list *= 2\n",
    "\n",
    "    print(f\"INSIDE|\\tNumber: {inside_number}(id: {id(inside_number)}), Array: {inside_array}(id: {id(inside_array)}), List: {inside_list}(id: {id(inside_list)})\")\n",
    "\n",
    "outside_number = 10\n",
    "outside_array = np.array([10])\n",
    "outside_list = [10]\n",
    "\n",
    "print(f\"BEFORE|\\tNumber: {outside_number}(id: {id(outside_number)}), Array: {outside_array}(id: {id(outside_array)}), List: {outside_list}(id: {id(outside_list)})\")\n",
    "do_something(outside_number, outside_array, outside_list)\n",
    "print(f\"AFTER|\\tNumber: {outside_number}(id: {id(outside_number)}), Array: {outside_array}(id: {id(outside_array)}), List: {outside_list}(id: {id(outside_list)})\")"
   ]
  },
  {
   "attachments": {},
   "cell_type": "markdown",
   "id": "f9e7ccbb",
   "metadata": {},
   "source": [
    "## 5.3 Copying files"
   ]
  },
  {
   "attachments": {},
   "cell_type": "markdown",
   "id": "8f29c9b2",
   "metadata": {},
   "source": [
    "# 6 Listing and looking for files"
   ]
  },
  {
   "attachments": {},
   "cell_type": "markdown",
   "id": "8b056e51",
   "metadata": {},
   "source": [
    "# 7 Extracting file info"
   ]
  },
  {
   "attachments": {},
   "cell_type": "markdown",
   "id": "64e382af",
   "metadata": {},
   "source": [
    "# 8 Deleting stuff"
   ]
  }
 ],
 "metadata": {
  "kernelspec": {
   "display_name": "Python 3 (ipykernel)",
   "language": "python",
   "name": "python3"
  },
  "language_info": {
   "codemirror_mode": {
    "name": "ipython",
    "version": 3
   },
   "file_extension": ".py",
   "mimetype": "text/x-python",
   "name": "python",
   "nbconvert_exporter": "python",
   "pygments_lexer": "ipython3",
   "version": "3.12.3"
  },
  "toc": {
   "base_numbering": 1,
   "nav_menu": {},
   "number_sections": true,
   "sideBar": true,
   "skip_h1_title": false,
   "title_cell": "Table of Contents",
   "title_sidebar": "Contents",
   "toc_cell": false,
   "toc_position": {},
   "toc_section_display": true,
   "toc_window_display": false
  },
  "vscode": {
   "interpreter": {
    "hash": "31f2aee4e71d21fbe5cf8b01ff0e069b9275f58929596ceb00d14d90e3e16cd6"
   }
  }
 },
 "nbformat": 4,
 "nbformat_minor": 5
}
