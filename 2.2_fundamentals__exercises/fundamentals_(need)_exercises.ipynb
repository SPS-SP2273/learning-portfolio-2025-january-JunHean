{
 "cells": [
  {
   "attachments": {},
   "cell_type": "markdown",
   "id": "123456",
   "metadata": {},
   "source": [
    "<div style=\"text-align:left;font-size:2em\"><span style=\"font-weight:bolder;font-size:1.25em\">SP2273 | Learning Portfolio</span><br><br><span style=\"font-weight:bold;color:darkred\">Fundamentals (Need) Exercises</span></div>"
   ]
  },
  {
   "cell_type": "markdown",
   "id": "b18ee9b1-fd4d-4428-b29f-8ffd189589dd",
   "metadata": {},
   "source": [
    "<div style=\"font-weight:bold;font-size:1.25em\">Exercise 1 (Total recall)</span></div>"
   ]
  },
  {
   "cell_type": "markdown",
   "id": "6fd04ee3-7da5-4ab6-b47f-74e3555fe63e",
   "metadata": {},
   "source": [
    "List of basic python features\n",
    "| No. | Features                                  | Description                                                                                          |\n",
    "|:---:|-------------------------------------------|------------------------------------------------------------------------------------------------------|\n",
    "|  1  | Functions                                 | Code to do a specific task                                                                           |\n",
    "|  2  | Python is interpreted                     | Codes are read one at a time                                                                         |\n",
    "|  3  | Changing a line to Markdown               | Capitalising a letter may change a function                                                          |\n",
    "|  4  | Comments                                  | Comments can be left with a `#`                                                                      |\n",
    "|  5  | = is not the same as ==                   | `=` is to suggest that the variable is equal to something, `==` ask to check if the subject is equal |\n",
    "|  6  | Use if to make decisions                  | `if` is used to add a condition to a statment                                                        |\n",
    "|  7  | Indentations (spaces) are sooo IMPORTANT! | Indentations play a crucial role in Python                                                           |\n",
    "|  8  | ‘age’ is English, age is a variable       | Adding ` ` makes the code within it a english word                                                   |\n",
    "|  9  | Brackets                                  | () is for math or functions, [] is for listing of data, {} is for storing is dictionary              |\n",
    "|  10 | Giving Python superpowers with Packages   | packages are like the textbook where functions are stored and can be extracted to be used            |\n",
    "|  11 | The dot (.)                               | dot (.) indicates which package the function is from                                                 |\n",
    "\n",
    "\n",
    "List of basic Python functions\n",
    "|  No. | Functions                      | Shortcuts                                                 |\n",
    "|:----:|--------------------------------|-----------------------------------------------------------|\n",
    "|   1  | Running a cell                 | Cntrl + Enter                                             |\n",
    "|   2  | Creating new line              | Esc + B                                                   |\n",
    "|   3  | Changing a line to Markdown    | Esc + M                                                   |\n",
    "|   4  | Changing a line to Code        | Esc + Y                                                   |\n",
    "|   5  | Interupting Kernel             |                                                           |\n",
    "|   6  | Restarting Kernel              |                                                           |\n",
    "|   7  | Bolding sentences              | **                                                        |\n",
    "|   8  | Italicizing sentences          | *                                                         |\n",
    "|   9  | Making part of codes sentences | # in a code line                                          |\n",
    "|  10  | Headings                       | # in Markdown cells                                       |\n",
    "|  11  | SubHeadings                    | ## in Markdown cells                                      |\n",
    "|  12  | Fractions                      | $\\dfrac{y}{x}$                                            |\n",
    "|  13  | Timing a line of code          | %timeit                                                   |\n",
    "|  14  | Timing a cell of code          | %%timeit                                                  |\n",
    "| _15_ | _printing text_                | _print()_                                                 |\n",
    "| _16_ | _including text as text _      | _``_                                                      |\n",
    "| _17_ | _All bold and italic_          | **_ _**                                                   |\n",
    "| _18_ | _Subscript_                    | _</sub>_                                                  |\n",
    "| _19_ | _Superscript_                  | _</sup>_                                                  |\n",
    "| _20_ | _Links_                        | _display text in [ ] followed by the link-address in ( )_ |\n",
    "| _21_ | _Images_                       | _![] followed by the image-link in ()_                    |\n",
    "| _22_ | _Equation in line with text_   | _$ $_                                                     |\n",
    "| _23_ | _Equation in a new line_       | _$$ $$_                                                   |\n",
    "| _24_ | _Subscript_                    | _$x_{a}$_                                                 |\n",
    "| _25_ | _Power_                        | _$x^{(y+z)}$_                                             |\n",
    "| _26_ | _Squareroot_                   | _$\\sqrt{a+b+c}$_                                          |\n",
    "| _27_ | _Sum_                          | _$\\sum_{n=1}^{n=\\infty} x_n$_                             |\n",
    "| _28_ | _Integral_                     | _$\\int_{x=1}^{x=\\infty} f(x)dx$\t_                       |\n",
    "| _29_ | _Not equal_                    | _a \\ne b_                                                 |\n",
    "| _30_ | _Less than_                    | _$a \\lt b$_                                               |\n",
    "| _31_ | _Less than or equal to_        | _$a \\leq b$\t_                                           |\n",
    "| _32_ | _Greater than_                 | _$a \\gt b$_                                               |\n",
    "| _33_ | _Greater than or equal to_     | _$a \\geq b$_                                              |\n",
    "| _34_ | _Greek letters_                | _$\\alpha, \\beta, \\gamma, \\pi, \\lambda$_                   |"
   ]
  },
  {
   "cell_type": "markdown",
   "id": "70032c2e-8da1-4ea5-941a-668e36f1a0f4",
   "metadata": {},
   "source": [
    "<div style=\"font-weight:bold;font-size:1.25em\">Exercise 2 (Debug me)</span></div>"
   ]
  },
  {
   "cell_type": "code",
   "execution_count": 23,
   "id": "0fa09e36-b0a7-442e-9ff2-f55c7bf10fb4",
   "metadata": {},
   "outputs": [
    {
     "ename": "IndentationError",
     "evalue": "unindent does not match any outer indentation level (<string>, line 3)",
     "output_type": "error",
     "traceback": [
      "\u001b[1;36m  File \u001b[1;32m<string>:3\u001b[1;36m\u001b[0m\n\u001b[1;33m    Print(x, y, z)\u001b[0m\n\u001b[1;37m                  ^\u001b[0m\n\u001b[1;31mIndentationError\u001b[0m\u001b[1;31m:\u001b[0m unindent does not match any outer indentation level\n"
     ]
    }
   ],
   "source": [
    "x, y = 3, 4\n",
    "        z = sqrt(x*2 + y**2)\n",
    "    Print(x, y, z)"
   ]
  },
  {
   "cell_type": "code",
   "execution_count": 21,
   "id": "24981b72-b2f3-4610-b1e4-7cc2a78d9254",
   "metadata": {},
   "outputs": [
    {
     "name": "stdout",
     "output_type": "stream",
     "text": [
      "3 4 5.0\n"
     ]
    }
   ],
   "source": [
    "import math\n",
    "import numpy as np\n",
    "\n",
    "x, y = 3, 4\n",
    "z = math.sqrt(x**2 + y**2)\n",
    "print(x, y, z)"
   ]
  },
  {
   "cell_type": "markdown",
   "id": "8e1f6b3e-2eb9-44f9-b610-059bdb0e02b8",
   "metadata": {},
   "source": [
    "<div style=\"font-weight:bold;font-size:1.25em\">Exercise 3 (In your own words) </span></div>"
   ]
  },
  {
   "cell_type": "markdown",
   "id": "dc6ea59f-2970-4d39-8367-16a16d6a1622",
   "metadata": {},
   "source": [
    "| No. | Features     | Description                                                                                |\n",
    "|:---:|--------------|--------------------------------------------------------------------------------------------|\n",
    "|  1  | Functions    | Code to do a specific task                                                                 |\n",
    "|  2  | Arguments    | Anything within the `()` after a function                                                  |\n",
    "|  3  | Comments     | Anything after the `#` is like a note that the code will not read                          |\n",
    "|  4  | Indentations | Identations makes it a secondary function after the initial function is run                |\n",
    "|  5  | Packages     | packages are like the textbook where functions are stored and can be extracted to be used  |\n",
    "|  6  | `.`          | dot (.) indicates which package the function is from                                       |\n",
    "|  7  | `:`          | `:` is to mark that the codes after `:` are one block that is condition to the line before |\n",
    "|  8  | `[]`         | `[]` is for creating a list of data                                                        |\n",
    "|  9  | `[[],[]]`    | This forms a 2d list, where we have rows and columns instead of one long row of data       |\n",
    "|  10 | `{}`         | `{}` is for storing in a dictionary to be extracted out later                              |"
   ]
  },
  {
   "cell_type": "markdown",
   "id": "5130798c-67a7-4586-b96e-0e08babfc9fc",
   "metadata": {},
   "source": [
    "<div style=\"font-weight:bold;font-size:1.25em\">Exercise 4 (More than one way to divide) </span></div>"
   ]
  },
  {
   "cell_type": "code",
   "execution_count": 9,
   "id": "83f7228d-d846-4ca9-aa30-4acf12cc9d92",
   "metadata": {},
   "outputs": [
    {
     "data": {
      "text/plain": [
       "2.5"
      ]
     },
     "execution_count": 9,
     "metadata": {},
     "output_type": "execute_result"
    }
   ],
   "source": [
    "5/2           # This means 5 divided by 2, and show the answer as it is (with decimal places)"
   ]
  },
  {
   "cell_type": "code",
   "execution_count": 10,
   "id": "7d3c55f2-f73a-4459-ab33-7b4b12642c7b",
   "metadata": {},
   "outputs": [
    {
     "data": {
      "text/plain": [
       "2"
      ]
     },
     "execution_count": 10,
     "metadata": {},
     "output_type": "execute_result"
    }
   ],
   "source": [
    "5//2           # This means 5 divided by 2, and show only the integer of the answer"
   ]
  },
  {
   "cell_type": "code",
   "execution_count": 11,
   "id": "81d54eeb-7145-4bdf-a72f-1c4eb46e907d",
   "metadata": {},
   "outputs": [
    {
     "data": {
      "text/plain": [
       "1"
      ]
     },
     "execution_count": 11,
     "metadata": {},
     "output_type": "execute_result"
    }
   ],
   "source": [
    "5%2           # This means 5 divided by 2, and show only the remainder after all integers are mutiplied"
   ]
  }
 ],
 "metadata": {
  "kernelspec": {
   "display_name": "Python 3 (ipykernel)",
   "language": "python",
   "name": "python3"
  },
  "language_info": {
   "codemirror_mode": {
    "name": "ipython",
    "version": 3
   },
   "file_extension": ".py",
   "mimetype": "text/x-python",
   "name": "python",
   "nbconvert_exporter": "python",
   "pygments_lexer": "ipython3",
   "version": "3.12.3"
  },
  "toc": {
   "base_numbering": 1,
   "nav_menu": {},
   "number_sections": true,
   "sideBar": true,
   "skip_h1_title": false,
   "title_cell": "Table of Contents",
   "title_sidebar": "Contents",
   "toc_cell": false,
   "toc_position": {},
   "toc_section_display": true,
   "toc_window_display": false
  },
  "vscode": {
   "interpreter": {
    "hash": "31f2aee4e71d21fbe5cf8b01ff0e069b9275f58929596ceb00d14d90e3e16cd6"
   }
  }
 },
 "nbformat": 4,
 "nbformat_minor": 5
}
