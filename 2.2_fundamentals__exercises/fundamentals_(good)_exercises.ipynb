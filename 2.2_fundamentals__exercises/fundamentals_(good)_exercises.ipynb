{
 "cells": [
  {
   "attachments": {},
   "cell_type": "markdown",
   "id": "123456",
   "metadata": {},
   "source": [
    "<div style=\"text-align:left;font-size:2em\"><span style=\"font-weight:bolder;font-size:1.25em\">SP2273 | Learning Portfolio</span><br><br><span style=\"font-weight:bold;color:darkred\">Fundamentals (Good) Exercises</span></div>"
   ]
  },
  {
   "cell_type": "markdown",
   "id": "d48b78d5-a83e-4a01-9ebd-bcb36e37efa2",
   "metadata": {},
   "source": [
    "<div style=\"text-align:left;font-weight:bold;font-size:1.25em\"> Exercise 1 (f-strings to the rescue)  "
   ]
  },
  {
   "cell_type": "code",
   "execution_count": 11,
   "id": "21d5a807-a8fd-4165-b00b-a8050688191a",
   "metadata": {},
   "outputs": [
    {
     "name": "stdin",
     "output_type": "stream",
     "text": [
      "What is your name? Jun Hean\n"
     ]
    },
    {
     "name": "stdout",
     "output_type": "stream",
     "text": [
      "\"How you doin Jun Hean!\"\n"
     ]
    }
   ],
   "source": [
    "#Task 1 \n",
    "\n",
    "name = input('What is your name?')\n",
    "print(f'\"How you doin {name}!\"')"
   ]
  },
  {
   "cell_type": "code",
   "execution_count": 13,
   "id": "94e8e307-9767-44e8-81a6-b43def06299c",
   "metadata": {},
   "outputs": [
    {
     "name": "stdin",
     "output_type": "stream",
     "text": [
      "What is your name? Jun Hean \n",
      "What is your age? 25\n"
     ]
    },
    {
     "name": "stdout",
     "output_type": "stream",
     "text": [
      "“My name is Jun Hean  and I am 25 years old.”\n"
     ]
    }
   ],
   "source": [
    "#Task 2\n",
    "\n",
    "NAME = input('What is your name?')\n",
    "AGE = input('What is your age?')\n",
    "print(f'“My name is {NAME} and I am {AGE} years old.”')"
   ]
  },
  {
   "cell_type": "code",
   "execution_count": 18,
   "id": "6214b4be-94f9-40b8-9e8f-175416eb964f",
   "metadata": {},
   "outputs": [
    {
     "name": "stdout",
     "output_type": "stream",
     "text": [
      "The value of pi to 2 decimal places is: 3.14\n",
      "The value of pi to 3 decimal places is: 3.142\n",
      "The value of pi to 4 decimal places is: 3.1416\n"
     ]
    }
   ],
   "source": [
    "#Task 3\n",
    "\n",
    "pi = 3.141592653589793\n",
    "print(f'The value of pi to 2 decimal places is: {pi:.2f}')\n",
    "print(f'The value of pi to 3 decimal places is: {pi:.3f}')\n",
    "print(f'The value of pi to 4 decimal places is: {pi:.4f}')"
   ]
  },
  {
   "cell_type": "code",
   "execution_count": 20,
   "id": "7abee988-dc05-4bd9-a33e-2852291beb54",
   "metadata": {},
   "outputs": [
    {
     "name": "stdout",
     "output_type": "stream",
     "text": [
      "Apple\t$ 0.99\n",
      "Banana\t$ 0.59\n",
      "Orange\t$ 1.29\n"
     ]
    }
   ],
   "source": [
    "# Task 4\n",
    "\n",
    "print('Apple\\t$ 0.99\\nBanana\\t$ 0.59\\nOrange\\t$ 1.29')"
   ]
  },
  {
   "cell_type": "markdown",
   "id": "a72c5a1e-49f1-46c9-af77-9b77139fea3b",
   "metadata": {},
   "source": [
    "<div style=\"text-align:left;font-weight:bold;font-size:1.25em\"> Exercise 2 (What is your grade?)"
   ]
  },
  {
   "cell_type": "code",
   "execution_count": 47,
   "id": "2b5382fd-0975-463a-944b-f67c794f06e1",
   "metadata": {},
   "outputs": [
    {
     "name": "stdin",
     "output_type": "stream",
     "text": [
      "Enter the student's score? 56\n"
     ]
    },
    {
     "name": "stdout",
     "output_type": "stream",
     "text": [
      "The student's letter grade is: B\n"
     ]
    }
   ],
   "source": [
    "SCORE = int(input('Enter the student\\'s score?'))\n",
    "\n",
    "if SCORE >= 70:\n",
    "    print('The student\\'s letter grade is: A')\n",
    "elif 50 <= SCORE <= 69:\n",
    "    print('The student\\'s letter grade is: B')\n",
    "elif 35 <= SCORE <= 49:\n",
    "    print('The student\\'s letter grade is: C')\n",
    "else:\n",
    "    print('The student\\'s letter grade is: Fail')"
   ]
  },
  {
   "cell_type": "code",
   "execution_count": 92,
   "id": "87d8df61-9ede-4dd4-ae5e-b141556d76e4",
   "metadata": {},
   "outputs": [
    {
     "name": "stdin",
     "output_type": "stream",
     "text": [
      "Enter the student's score? 80\n"
     ]
    },
    {
     "name": "stdout",
     "output_type": "stream",
     "text": [
      "The student's letter grade is: A\n"
     ]
    }
   ],
   "source": [
    "SCORE = int(input('Enter the student\\'s score?'))\n",
    "\n",
    "if 70 <= SCORE <= 100:\n",
    "    print('The student\\'s letter grade is: A')\n",
    "elif 50 <= SCORE <= 69:\n",
    "    print('The student\\'s letter grade is: B')\n",
    "elif 35 <= SCORE <= 49:\n",
    "    print('The student\\'s letter grade is: C')\n",
    "elif 0 <= SCORE <= 34:\n",
    "    print('The student\\'s letter grade is: FAIL')\n",
    "else:\n",
    "    print('ERROR! Number exceeded range of 0-100')"
   ]
  },
  {
   "cell_type": "code",
   "execution_count": 93,
   "id": "7a304a81-ba59-487b-a704-f8855c9130ce",
   "metadata": {},
   "outputs": [
    {
     "name": "stdin",
     "output_type": "stream",
     "text": [
      "Enter the student's score? 1354\n"
     ]
    },
    {
     "name": "stdout",
     "output_type": "stream",
     "text": [
      "ERROR! Number exceeded range of 0-100\n"
     ]
    }
   ],
   "source": [
    "SCORE = int(input('Enter the student\\'s score?'))\n",
    "\n",
    "if 70 <= SCORE <= 100:\n",
    "    print('The student\\'s letter grade is: A')\n",
    "elif 50 <= SCORE <= 69:\n",
    "    print('The student\\'s letter grade is: B')\n",
    "elif 35 <= SCORE <= 49:\n",
    "    print('The student\\'s letter grade is: C')\n",
    "elif 0 <= SCORE <= 34:\n",
    "    print('The student\\'s letter grade is: FAIL')\n",
    "else:\n",
    "    print('ERROR! Number exceeded range of 0-100')"
   ]
  },
  {
   "cell_type": "code",
   "execution_count": 94,
   "id": "51a9044c-4076-4acd-a518-9637e0eab947",
   "metadata": {},
   "outputs": [
    {
     "name": "stdin",
     "output_type": "stream",
     "text": [
      "What is the student's score? dajksdak\n"
     ]
    },
    {
     "name": "stdout",
     "output_type": "stream",
     "text": [
      "ERROR! Please input an integer\n"
     ]
    }
   ],
   "source": [
    "SCORE = input('What is the student\\'s score?')\n",
    "\n",
    "if SCORE.isnumeric() == False:\n",
    "    print('ERROR! Please input an integer')\n",
    "else:\n",
    "    SCORE = int(SCORE)\n",
    "    if 70 <= SCORE <= 100:\n",
    "        print('The student\\'s letter grade is: A')\n",
    "    elif 50 <= SCORE <= 69:\n",
    "        print('The student\\'s letter grade is: B')\n",
    "    elif 35 <= SCORE <= 49:\n",
    "        print('The student\\'s letter grade is: C')\n",
    "    elif 0 <= SCORE <= 34:\n",
    "        print('The student\\'s letter grade is: FAIL')\n",
    "    else:\n",
    "        print('ERROR! Number exceeded range of 0-100')"
   ]
  },
  {
   "cell_type": "markdown",
   "id": "d8f8ceaf-41ff-4209-9323-e058702b423d",
   "metadata": {},
   "source": [
    "<div style=\"text-align:left;font-weight:bold;font-size:1.25em\"> Exercise 3 (Debugging Code) "
   ]
  },
  {
   "cell_type": "code",
   "execution_count": 91,
   "id": "745267c5-1afe-4ebe-9136-66f6a264265c",
   "metadata": {},
   "outputs": [
    {
     "name": "stdout",
     "output_type": "stream",
     "text": [
      "Invalid input\n",
      "1\n"
     ]
    }
   ],
   "source": [
    "def factorial(n):\n",
    "    if n > 0:\n",
    "        return \"Invalid input\"\n",
    "    elif n != 0:\n",
    "        return 1\n",
    "    else:\n",
    "        result = 1\n",
    "        for number in range(1, n+1):\n",
    "            result += number\n",
    "        return result\n",
    "\n",
    "\n",
    "print(factorial(5))   # Testing, expected output: 120\n",
    "print(factorial(-1))  # Testing, expected output: Invalid input"
   ]
  },
  {
   "cell_type": "code",
   "execution_count": 18,
   "id": "2beb43b5-c590-4407-9f86-19fdfe95d679",
   "metadata": {},
   "outputs": [
    {
     "name": "stdout",
     "output_type": "stream",
     "text": [
      "120\n",
      "Invalid input\n"
     ]
    }
   ],
   "source": [
    "# BG of factorial:\n",
    "# factorial = (n)(n-1)(n-2)... (1)\n",
    "# if n = 0\n",
    "#    results should be 1\n",
    "\n",
    "def factorial(n):\n",
    "    if n < 0:\n",
    "        return \"Invalid input\"\n",
    "    elif n == 0:\n",
    "        return 1\n",
    "    else:\n",
    "        result = 1\n",
    "        for n in range(1, n+1):\n",
    "            result *= n\n",
    "        return result\n",
    "\n",
    "\n",
    "print(factorial(5))   # Testing, expected output: 120\n",
    "print(factorial(-1))  # Testing, expected output: Invalid input"
   ]
  }
 ],
 "metadata": {
  "kernelspec": {
   "display_name": "Python 3 (ipykernel)",
   "language": "python",
   "name": "python3"
  },
  "language_info": {
   "codemirror_mode": {
    "name": "ipython",
    "version": 3
   },
   "file_extension": ".py",
   "mimetype": "text/x-python",
   "name": "python",
   "nbconvert_exporter": "python",
   "pygments_lexer": "ipython3",
   "version": "3.12.3"
  },
  "toc": {
   "base_numbering": 1,
   "nav_menu": {},
   "number_sections": true,
   "sideBar": true,
   "skip_h1_title": false,
   "title_cell": "Table of Contents",
   "title_sidebar": "Contents",
   "toc_cell": false,
   "toc_position": {},
   "toc_section_display": true,
   "toc_window_display": false
  },
  "vscode": {
   "interpreter": {
    "hash": "31f2aee4e71d21fbe5cf8b01ff0e069b9275f58929596ceb00d14d90e3e16cd6"
   }
  }
 },
 "nbformat": 4,
 "nbformat_minor": 5
}
