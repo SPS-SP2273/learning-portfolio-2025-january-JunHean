{
 "cells": [
  {
   "attachments": {},
   "cell_type": "markdown",
   "id": "123456",
   "metadata": {},
   "source": [
    "<div style=\"text-align:left;font-size:2em\"><span style=\"font-weight:bolder;font-size:1.25em\">SP2273 | Learning Portfolio</span><br><br><span style=\"font-weight:bold;color:darkred\">Functions (Good) Exercises</span></div>"
   ]
  },
  {
   "attachments": {},
   "cell_type": "markdown",
   "id": "52d14c27-95f4-4bb0-8008-26f36022f06e",
   "metadata": {},
   "source": [
    "<span style=\"font-weight:bolder;font-size:1.25em\">Exercise 1 (Celsius to Fahrenheit or Kelvin) \n",
    "\n",
    "* Develop a function named convert_celsius() to convert temperatures from Celsius to either Fahrenheit or Kelvin.\n",
    "* The function should take two arguments:\n",
    "    * temperature_celsius: The temperature in Celsius.\n",
    "    * target_scale (string): The target scale for conversion, with the default value set to 'Fahrenheit'.\n",
    "* The function should return the temperature in Kelvin if target_scale is 'Kelvin'; otherwise, it should return the temperature in Fahrenheit."
   ]
  },
  {
   "cell_type": "code",
   "execution_count": 24,
   "id": "d318e2d1-ae7f-41c1-8d9f-7b6e93439bb7",
   "metadata": {},
   "outputs": [
    {
     "name": "stdin",
     "output_type": "stream",
     "text": [
      "What is the temperature? 28.5\n",
      "Which unit do you want to convert to? (Please put either Fahrenheit or Kelvin) Kelvin\n"
     ]
    },
    {
     "name": "stdout",
     "output_type": "stream",
     "text": [
      "28.5°C is 301.65K.\n"
     ]
    }
   ],
   "source": [
    "# please ignore this (old code)\n",
    "\n",
    "def convert_celsius():\n",
    "    found = False\n",
    "    while found == False:\n",
    "        try:\n",
    "            temperature_celsius = float(input(\"What is the temperature?\"))\n",
    "            target_scale = input('Which unit do you want to convert to? (Please put either Fahrenheit or Kelvin)')\n",
    "            found == True\n",
    "            if target_scale == 'Kelvin':\n",
    "                K = temperature_celsius + 273.15\n",
    "                return f'{temperature_celsius}°C is {K:.2f}K.'\n",
    "            else:\n",
    "                F = (temperature_celsius * 1.8) + 32\n",
    "                return f'{temperature_celsius}°C is {F:.2f}°F.'\n",
    "        except ValueError:\n",
    "            print('Invalid! Please insert a number.')\n",
    "\n",
    "print(convert_celsius())"
   ]
  },
  {
   "cell_type": "code",
   "execution_count": 39,
   "id": "f873c18f-0033-4779-b711-12b9843103f3",
   "metadata": {},
   "outputs": [],
   "source": [
    "def convert_celsius(temperature_celsius, target_scale):\n",
    "    target_scale = target_scale.lower()\n",
    "    if 'k' in target_scale:\n",
    "        K = temperature_celsius + 273.15\n",
    "        return f'{temperature_celsius}°C is {K:.2f}K.'\n",
    "    elif 'f' in target_scale:\n",
    "        F = (temperature_celsius * 1.8) + 32\n",
    "        return f'{temperature_celsius}°C is {F:.2f}°F.'\n",
    "    else:\n",
    "        return 'Wrong input for target_scale!'"
   ]
  },
  {
   "cell_type": "code",
   "execution_count": 45,
   "id": "eec13cad-6ba6-4cde-9a3c-a293582ff830",
   "metadata": {},
   "outputs": [
    {
     "data": {
      "text/plain": [
       "'38°C is 311.15K.'"
      ]
     },
     "execution_count": 45,
     "metadata": {},
     "output_type": "execute_result"
    }
   ],
   "source": [
    "convert_celsius(38, 'Kelvin')"
   ]
  },
  {
   "attachments": {},
   "cell_type": "markdown",
   "id": "5d183f90-8c48-4352-aa41-28cd9b6c05da",
   "metadata": {},
   "source": [
    "<span style=\"font-weight:bolder;font-size:1.25em\">Exercise 2 (Fahrenheit to Celsius or Kelvin) "
   ]
  },
  {
   "cell_type": "code",
   "execution_count": 1,
   "id": "cfb8bfb0-fd63-411f-a337-9f408cecf911",
   "metadata": {},
   "outputs": [
    {
     "name": "stdin",
     "output_type": "stream",
     "text": [
      "What is the temperature? 100\n",
      "Which unit do you want to convert to? (Please put either Celcius or Kelvin) Celsius\n"
     ]
    },
    {
     "name": "stdout",
     "output_type": "stream",
     "text": [
      "100.0°F is 37.78°C.\n"
     ]
    }
   ],
   "source": [
    "# please ignore this (old code)\n",
    "\n",
    "\n",
    "def convert_fahrenheit():\n",
    "    found = False\n",
    "    while found == False:\n",
    "        try:\n",
    "            temperature_fahrenheit = float(input(\"What is the temperature?\"))\n",
    "            target_scale = input('Which unit do you want to convert to? (Please put either Celcius or Kelvin)')\n",
    "            found == True\n",
    "            if target_scale == 'Kelvin':\n",
    "                K = (temperature_fahrenheit + 459.67) / 1.8\n",
    "                return f'{temperature_fahrenheit}°F is {K:.2f}K.'\n",
    "            else:\n",
    "                C = (temperature_fahrenheit - 32) / 1.8\n",
    "                return f'{temperature_fahrenheit}°F is {C:.2f}°C.'\n",
    "        except ValueError:\n",
    "            print('Invalid! Please insert a number.')\n",
    "\n",
    "print(convert_fahrenheit())"
   ]
  },
  {
   "cell_type": "code",
   "execution_count": 46,
   "id": "bdfbf4fa-2c5b-46be-8c29-e6f997bdee5e",
   "metadata": {},
   "outputs": [],
   "source": [
    "def convert_fahrenheit(temperature_fahrenheit, target_scale):\n",
    "    target_scale = target_scale.lower()\n",
    "    if 'k' in target_scale:\n",
    "        K = (temperature_fahrenheit + 459.67) / 1.8\n",
    "        return f'{temperature_fahrenheit}°F is {K:.2f}K.'\n",
    "    elif 'c' in target_scale:\n",
    "        C = (temperature_fahrenheit - 32) / 1.8\n",
    "        return f'{temperature_fahrenheit}°F is {C:.2f}°C.'\n",
    "    else:\n",
    "        return 'Wrong input for target_scale!'"
   ]
  },
  {
   "cell_type": "code",
   "execution_count": 47,
   "id": "1013015e-abf5-4ad5-950a-70e22b6d55ac",
   "metadata": {},
   "outputs": [
    {
     "data": {
      "text/plain": [
       "'100°F is 310.93K.'"
      ]
     },
     "execution_count": 47,
     "metadata": {},
     "output_type": "execute_result"
    }
   ],
   "source": [
    "convert_fahrenheit(100, 'Kelvin')"
   ]
  },
  {
   "attachments": {},
   "cell_type": "markdown",
   "id": "63045cc3-0557-4a05-a21a-1fbc47938d3e",
   "metadata": {},
   "source": [
    "<span style=\"font-weight:bolder;font-size:1.25em\">Exercise 3 (General Temperature Conversion) "
   ]
  },
  {
   "cell_type": "code",
   "execution_count": 14,
   "id": "2c01d914-135f-42b6-a7a9-9e70f047c792",
   "metadata": {},
   "outputs": [
    {
     "name": "stdin",
     "output_type": "stream",
     "text": [
      "What is the temperature? 100, Celsius, Kelvin\n"
     ]
    },
    {
     "name": "stdout",
     "output_type": "stream",
     "text": [
      "Invalid! Please insert a number.\n"
     ]
    },
    {
     "name": "stdin",
     "output_type": "stream",
     "text": [
      "What is the temperature? 36, Celsius, Kelvin\n"
     ]
    },
    {
     "name": "stdout",
     "output_type": "stream",
     "text": [
      "Invalid! Please insert a number.\n"
     ]
    },
    {
     "name": "stdin",
     "output_type": "stream",
     "text": [
      "What is the temperature? 36\n",
      "Which unit is your current temperature? (Please put either Celsius or Kelvin or Fahrenheit) Celsius\n",
      "Which unit do you want to convert to? (Please put either Celsius or Kelvin or Fahrenheit) Kelvin\n"
     ]
    },
    {
     "name": "stdout",
     "output_type": "stream",
     "text": [
      "36.0°C is 309.15K.\n"
     ]
    }
   ],
   "source": [
    "# please ignore this (old code)\n",
    "\n",
    "def convert_temperature():\n",
    "    found = False\n",
    "    while found == False:\n",
    "        try:\n",
    "            temperature = float(input(\"What is the temperature?\"))\n",
    "            source_scale = input('Which unit is your current temperature? (Please put either Celsius or Kelvin or Fahrenheit)')\n",
    "            target_scale = input('Which unit do you want to convert to? (Please put either Celsius or Kelvin or Fahrenheit)')\n",
    "            found == True\n",
    "            if source_scale == 'Celsius':\n",
    "                if target_scale == 'Kelvin':\n",
    "                    K = temperature + 273.15\n",
    "                    return f'{temperature}°C is {K:.2f}K.'\n",
    "                else:\n",
    "                    F = (temperature * 1.8) + 32\n",
    "                    return f'{temperature}°C is {F:.2f}°F.'\n",
    "            elif source_scale == 'Fahrenheit':\n",
    "                if target_scale == 'Kelvin':\n",
    "                    K = (temperature + 459.67) / 1.8\n",
    "                    return f'{temperature}°F is {K:.2f}K.'\n",
    "                else:\n",
    "                    C = (temperature - 32) / 1.8\n",
    "                    return f'{temperature}°F is {C:.2f}°C.'\n",
    "            else:\n",
    "                if target_scale == 'Fahrenheit':\n",
    "                    F = (temperature * 1.8) - 459.67\n",
    "                    return f'{temperature}K is {F:.2f}°F.'\n",
    "                else:\n",
    "                    C = temperature - 273.15\n",
    "                    return f'{temperature}K is {C:.2f}°C.'\n",
    "        except ValueError:\n",
    "            print('Invalid! Please insert a number.')\n",
    "\n",
    "print(convert_temperature())"
   ]
  },
  {
   "cell_type": "code",
   "execution_count": 68,
   "id": "b23e022c-564d-4f23-9650-b08cf607b5c1",
   "metadata": {},
   "outputs": [],
   "source": [
    "def convert_temperature(temperature, source_scale, target_scale):\n",
    "    source_scale = source_scale.lower()\n",
    "    if 'c' in source_scale:\n",
    "        return convert_celsius(temperature, target_scale)\n",
    "    elif 'f' in source_scale:\n",
    "        return convert_fahrenheit(temperature, target_scale)\n",
    "    elif 'k' in source_scale:\n",
    "        if 'f' in target_scale.lower():\n",
    "            F = (temperature * 1.8) - 459.67\n",
    "            return f'{temperature}K is {F:.2f}°F.'\n",
    "        elif 'c' in target_scale.lower():\n",
    "            C = temperature - 273.15\n",
    "            return f'{temperature}K is {C:.2f}°C.'\n",
    "    else:\n",
    "        return 'Wrong input for source_scale!'"
   ]
  },
  {
   "cell_type": "code",
   "execution_count": 55,
   "id": "87160350-357f-441a-8c16-8b35d0df058e",
   "metadata": {},
   "outputs": [
    {
     "data": {
      "text/plain": [
       "'100K is -173.15°C.'"
      ]
     },
     "execution_count": 55,
     "metadata": {},
     "output_type": "execute_result"
    }
   ],
   "source": [
    "convert_temperature(100, 'Kelvin', 'Celsius')"
   ]
  },
  {
   "cell_type": "code",
   "execution_count": 56,
   "id": "9130fe98-b628-4c10-9b80-3ea6a69e9c4f",
   "metadata": {},
   "outputs": [
    {
     "data": {
      "text/plain": [
       "'100°C is 373.15K.'"
      ]
     },
     "execution_count": 56,
     "metadata": {},
     "output_type": "execute_result"
    }
   ],
   "source": [
    "convert_temperature(100, 'Celcius', 'keLVin')"
   ]
  },
  {
   "cell_type": "code",
   "execution_count": 57,
   "id": "d3ef5262-55bc-40ba-9c99-3addc633dd97",
   "metadata": {},
   "outputs": [
    {
     "data": {
      "text/plain": [
       "'100°F is 37.78°C.'"
      ]
     },
     "execution_count": 57,
     "metadata": {},
     "output_type": "execute_result"
    }
   ],
   "source": [
    "convert_temperature(100, 'Fahtenheit', 'celsius')"
   ]
  },
  {
   "cell_type": "code",
   "execution_count": 69,
   "id": "c60f1fbd-0ed8-40e3-b50a-bdff3aee2aaf",
   "metadata": {},
   "outputs": [
    {
     "data": {
      "text/plain": [
       "'Wrong input for source_scale!'"
      ]
     },
     "execution_count": 69,
     "metadata": {},
     "output_type": "execute_result"
    }
   ],
   "source": [
    "convert_temperature(100, 'grna', 'celcius')"
   ]
  },
  {
   "cell_type": "code",
   "execution_count": 63,
   "id": "e3e4185f-9dba-4bc7-ac51-49fa6347c7fc",
   "metadata": {},
   "outputs": [
    {
     "data": {
      "text/plain": [
       "'Wrong input for target_scale!'"
      ]
     },
     "execution_count": 63,
     "metadata": {},
     "output_type": "execute_result"
    }
   ],
   "source": [
    "convert_temperature(100, 'Fahrenheit', 'selsius')"
   ]
  }
 ],
 "metadata": {
  "kernelspec": {
   "display_name": "Python 3 (ipykernel)",
   "language": "python",
   "name": "python3"
  },
  "language_info": {
   "codemirror_mode": {
    "name": "ipython",
    "version": 3
   },
   "file_extension": ".py",
   "mimetype": "text/x-python",
   "name": "python",
   "nbconvert_exporter": "python",
   "pygments_lexer": "ipython3",
   "version": "3.12.3"
  },
  "toc": {
   "base_numbering": 1,
   "nav_menu": {},
   "number_sections": true,
   "sideBar": true,
   "skip_h1_title": false,
   "title_cell": "Table of Contents",
   "title_sidebar": "Contents",
   "toc_cell": false,
   "toc_position": {},
   "toc_section_display": true,
   "toc_window_display": false
  },
  "vscode": {
   "interpreter": {
    "hash": "31f2aee4e71d21fbe5cf8b01ff0e069b9275f58929596ceb00d14d90e3e16cd6"
   }
  }
 },
 "nbformat": 4,
 "nbformat_minor": 5
}
