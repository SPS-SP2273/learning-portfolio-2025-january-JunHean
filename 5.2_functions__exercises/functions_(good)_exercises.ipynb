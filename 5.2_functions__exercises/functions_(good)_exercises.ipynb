{
 "cells": [
  {
   "attachments": {},
   "cell_type": "markdown",
   "id": "123456",
   "metadata": {},
   "source": [
    "<div style=\"text-align:left;font-size:2em\"><span style=\"font-weight:bolder;font-size:1.25em\">SP2273 | Learning Portfolio</span><br><br><span style=\"font-weight:bold;color:darkred\">Functions (Good) Exercises</span></div>"
   ]
  },
  {
   "attachments": {},
   "cell_type": "markdown",
   "id": "52d14c27-95f4-4bb0-8008-26f36022f06e",
   "metadata": {},
   "source": [
    "<span style=\"font-weight:bolder;font-size:1.25em\">Exercise 1 (Celsius to Fahrenheit or Kelvin) \n",
    "\n",
    "* Develop a function named convert_celsius() to convert temperatures from Celsius to either Fahrenheit or Kelvin.\n",
    "* The function should take two arguments:\n",
    "    * temperature_celsius: The temperature in Celsius.\n",
    "    * target_scale (string): The target scale for conversion, with the default value set to 'Fahrenheit'.\n",
    "* The function should return the temperature in Kelvin if target_scale is 'Kelvin'; otherwise, it should return the temperature in Fahrenheit."
   ]
  },
  {
   "cell_type": "code",
   "execution_count": 24,
   "id": "d318e2d1-ae7f-41c1-8d9f-7b6e93439bb7",
   "metadata": {},
   "outputs": [
    {
     "name": "stdin",
     "output_type": "stream",
     "text": [
      "What is the temperature? 28.5\n",
      "Which unit do you want to convert to? (Please put either Fahrenheit or Kelvin) Kelvin\n"
     ]
    },
    {
     "name": "stdout",
     "output_type": "stream",
     "text": [
      "28.5°C is 301.65K.\n"
     ]
    }
   ],
   "source": [
    "def convert_celsius():\n",
    "    found = False\n",
    "    while found == False:\n",
    "        try:\n",
    "            temperature_celsius = float(input(\"What is the temperature?\"))\n",
    "            target_scale = input('Which unit do you want to convert to? (Please put either Fahrenheit or Kelvin)')\n",
    "            found == True\n",
    "            if target_scale == 'Kelvin':\n",
    "                K = temperature_celsius + 273.15\n",
    "                return f'{temperature_celsius}°C is {K:.2f}K.'\n",
    "            else:\n",
    "                F = (temperature_celsius * 1.8) + 32\n",
    "                return f'{temperature_celsius}°C is {F:.2f}°F.'\n",
    "        except ValueError:\n",
    "            print('Invalid! Please insert a number.')\n",
    "\n",
    "print(convert_celsius())"
   ]
  },
  {
   "attachments": {},
   "cell_type": "markdown",
   "id": "5d183f90-8c48-4352-aa41-28cd9b6c05da",
   "metadata": {},
   "source": [
    "<span style=\"font-weight:bolder;font-size:1.25em\">Exercise 2 (Fahrenheit to Celsius or Kelvin) "
   ]
  },
  {
   "cell_type": "code",
   "execution_count": 22,
   "id": "cfb8bfb0-fd63-411f-a337-9f408cecf911",
   "metadata": {},
   "outputs": [
    {
     "name": "stdin",
     "output_type": "stream",
     "text": [
      "What is the temperature? five\n"
     ]
    },
    {
     "name": "stdout",
     "output_type": "stream",
     "text": [
      "Invalid! Please insert a number.\n"
     ]
    },
    {
     "name": "stdin",
     "output_type": "stream",
     "text": [
      "What is the temperature? 130\n",
      "Which unit do you want to convert to? (Please put either Celcius or Kelvin) Celcius\n"
     ]
    },
    {
     "name": "stdout",
     "output_type": "stream",
     "text": [
      "130.0°F is 54.44°C.\n"
     ]
    }
   ],
   "source": [
    "def convert_fahrenheit():\n",
    "    found = False\n",
    "    while found == False:\n",
    "        try:\n",
    "            temperature_fahrenheit = float(input(\"What is the temperature?\"))\n",
    "            target_scale = input('Which unit do you want to convert to? (Please put either Celcius or Kelvin)')\n",
    "            found == True\n",
    "            if target_scale == 'Kelvin':\n",
    "                K = (temperature_fahrenheit + 459.67) / 1.8\n",
    "                return f'{temperature_fahrenheit}°F is {K:.2f}K.'\n",
    "            else:\n",
    "                C = (temperature_fahrenheit - 32) / 1.8\n",
    "                return f'{temperature_fahrenheit}°F is {C:.2f}°C.'\n",
    "        except ValueError:\n",
    "            print('Invalid! Please insert a number.')\n",
    "\n",
    "print(convert_fahrenheit())"
   ]
  },
  {
   "attachments": {},
   "cell_type": "markdown",
   "id": "63045cc3-0557-4a05-a21a-1fbc47938d3e",
   "metadata": {},
   "source": [
    "<span style=\"font-weight:bolder;font-size:1.25em\">Exercise 3 (General Temperature Conversion) "
   ]
  },
  {
   "cell_type": "code",
   "execution_count": 27,
   "id": "2c01d914-135f-42b6-a7a9-9e70f047c792",
   "metadata": {},
   "outputs": [
    {
     "name": "stdin",
     "output_type": "stream",
     "text": [
      "What is the temperature? 30\n",
      "Which unit is your current temperature? (Please put either Celcius or Kelvin or Fahrenheit) Celcius\n",
      "Which unit do you want to convert to? (Please put either Celcius or Kelvin or Fahrenheit) Kelvin\n"
     ]
    },
    {
     "name": "stdout",
     "output_type": "stream",
     "text": [
      "30.0°C is 303.15K.\n"
     ]
    }
   ],
   "source": [
    "def convert_temperature():\n",
    "    found = False\n",
    "    while found == False:\n",
    "        try:\n",
    "            temperature = float(input(\"What is the temperature?\"))\n",
    "            source_scale = input('Which unit is your current temperature? (Please put either Celcius or Kelvin or Fahrenheit)')\n",
    "            target_scale = input('Which unit do you want to convert to? (Please put either Celcius or Kelvin or Fahrenheit)')\n",
    "            found == True\n",
    "            if source_scale == 'Celcius':\n",
    "                if target_scale == 'Kelvin':\n",
    "                    K = temperature + 273.15\n",
    "                    return f'{temperature}°C is {K:.2f}K.'\n",
    "                else:\n",
    "                    F = (temperature * 1.8) + 32\n",
    "                    return f'{temperature}°C is {F:.2f}°F.'\n",
    "            elif source_scale == 'Fahrenheit':\n",
    "                if target_scale == 'Kelvin':\n",
    "                    K = (temperature + 459.67) / 1.8\n",
    "                    return f'{temperature}°F is {K:.2f}K.'\n",
    "                else:\n",
    "                    C = (temperature - 32) / 1.8\n",
    "                    return f'{temperature}°F is {C:.2f}°C.'\n",
    "            else:\n",
    "                if target_scale == 'Fahrenheit':\n",
    "                    F = (temperature * 1.8) - 459.67\n",
    "                    return f'{temperature}K is {F:.2f}°F.'\n",
    "                else:\n",
    "                    C = temperature - 273.15\n",
    "                    return f'{temperature}K is {C:.2f}°C.'\n",
    "        except ValueError:\n",
    "            print('Invalid! Please insert a number.')\n",
    "\n",
    "print(convert_temperature())"
   ]
  }
 ],
 "metadata": {
  "kernelspec": {
   "display_name": "Python 3 (ipykernel)",
   "language": "python",
   "name": "python3"
  },
  "language_info": {
   "codemirror_mode": {
    "name": "ipython",
    "version": 3
   },
   "file_extension": ".py",
   "mimetype": "text/x-python",
   "name": "python",
   "nbconvert_exporter": "python",
   "pygments_lexer": "ipython3",
   "version": "3.12.3"
  },
  "toc": {
   "base_numbering": 1,
   "nav_menu": {},
   "number_sections": true,
   "sideBar": true,
   "skip_h1_title": false,
   "title_cell": "Table of Contents",
   "title_sidebar": "Contents",
   "toc_cell": false,
   "toc_position": {},
   "toc_section_display": true,
   "toc_window_display": false
  },
  "vscode": {
   "interpreter": {
    "hash": "31f2aee4e71d21fbe5cf8b01ff0e069b9275f58929596ceb00d14d90e3e16cd6"
   }
  }
 },
 "nbformat": 4,
 "nbformat_minor": 5
}
