{
 "cells": [
  {
   "attachments": {},
   "cell_type": "markdown",
   "id": "123456",
   "metadata": {},
   "source": [
    "<div style=\"text-align:left;font-size:2em\"><span style=\"font-weight:bolder;font-size:1.25em\">SP2273 | Learning Portfolio</span><br><br><span style=\"font-weight:bold;color:darkred\">Functions (Good) Exercises</span></div>"
   ]
  },
  {
   "attachments": {},
   "cell_type": "markdown",
   "id": "52d14c27-95f4-4bb0-8008-26f36022f06e",
   "metadata": {},
   "source": [
    "<span style=\"font-weight:bolder;font-size:1.25em\">Exercise 1 (Celsius to Fahrenheit or Kelvin) \n",
    "\n",
    "* Develop a function named convert_celsius() to convert temperatures from Celsius to either Fahrenheit or Kelvin.\n",
    "* The function should take two arguments:\n",
    "    * temperature_celsius: The temperature in Celsius.\n",
    "    * target_scale (string): The target scale for conversion, with the default value set to 'Fahrenheit'.\n",
    "* The function should return the temperature in Kelvin if target_scale is 'Kelvin'; otherwise, it should return the temperature in Fahrenheit."
   ]
  },
  {
   "cell_type": "code",
   "execution_count": 24,
   "id": "d318e2d1-ae7f-41c1-8d9f-7b6e93439bb7",
   "metadata": {},
   "outputs": [
    {
     "name": "stdin",
     "output_type": "stream",
     "text": [
      "What is the temperature? 28.5\n",
      "Which unit do you want to convert to? (Please put either Fahrenheit or Kelvin) Kelvin\n"
     ]
    },
    {
     "name": "stdout",
     "output_type": "stream",
     "text": [
      "28.5°C is 301.65K.\n"
     ]
    }
   ],
   "source": [
    "def convert_celsius():\n",
    "    found = False\n",
    "    while found == False:\n",
    "        try:\n",
    "            temperature_celsius = float(input(\"What is the temperature?\"))\n",
    "            target_scale = input('Which unit do you want to convert to? (Please put either Fahrenheit or Kelvin)')\n",
    "            found == True\n",
    "            if target_scale == 'Kelvin':\n",
    "                K = temperature_celsius + 273.15\n",
    "                return f'{temperature_celsius}°C is {K:.2f}K.'\n",
    "            else:\n",
    "                F = (temperature_celsius * 1.8) + 32\n",
    "                return f'{temperature_celsius}°C is {F:.2f}°F.'\n",
    "        except ValueError:\n",
    "            print('Invalid! Please insert a number.')\n",
    "\n",
    "print(convert_celsius())"
   ]
  },
  {
   "cell_type": "code",
   "execution_count": 58,
   "id": "f873c18f-0033-4779-b711-12b9843103f3",
   "metadata": {},
   "outputs": [],
   "source": [
    "def convert_celsius(temperature_celsius, target_scale):\n",
    "    if target_scale == 'Kelvin':\n",
    "        K = temperature_celsius + 273.15\n",
    "        return f'{temperature_celsius}°C is {K:.2f}K.'\n",
    "    else:\n",
    "        F = (temperature_celsius * 1.8) + 32\n",
    "        return f'{temperature_celsius}°C is {F:.2f}°F.'"
   ]
  },
  {
   "cell_type": "code",
   "execution_count": 10,
   "id": "eec13cad-6ba6-4cde-9a3c-a293582ff830",
   "metadata": {},
   "outputs": [
    {
     "data": {
      "text/plain": [
       "'38°C is 311.15K.'"
      ]
     },
     "execution_count": 10,
     "metadata": {},
     "output_type": "execute_result"
    }
   ],
   "source": [
    "convert_celsius(38, 'Kelvin')"
   ]
  },
  {
   "attachments": {},
   "cell_type": "markdown",
   "id": "5d183f90-8c48-4352-aa41-28cd9b6c05da",
   "metadata": {},
   "source": [
    "<span style=\"font-weight:bolder;font-size:1.25em\">Exercise 2 (Fahrenheit to Celsius or Kelvin) "
   ]
  },
  {
   "cell_type": "code",
   "execution_count": 22,
   "id": "cfb8bfb0-fd63-411f-a337-9f408cecf911",
   "metadata": {},
   "outputs": [
    {
     "name": "stdin",
     "output_type": "stream",
     "text": [
      "What is the temperature? five\n"
     ]
    },
    {
     "name": "stdout",
     "output_type": "stream",
     "text": [
      "Invalid! Please insert a number.\n"
     ]
    },
    {
     "name": "stdin",
     "output_type": "stream",
     "text": [
      "What is the temperature? 130\n",
      "Which unit do you want to convert to? (Please put either Celcius or Kelvin) Celcius\n"
     ]
    },
    {
     "name": "stdout",
     "output_type": "stream",
     "text": [
      "130.0°F is 54.44°C.\n"
     ]
    }
   ],
   "source": [
    "def convert_fahrenheit():\n",
    "    found = False\n",
    "    while found == False:\n",
    "        try:\n",
    "            temperature_fahrenheit = float(input(\"What is the temperature?\"))\n",
    "            target_scale = input('Which unit do you want to convert to? (Please put either Celcius or Kelvin)')\n",
    "            found == True\n",
    "            if target_scale == 'Kelvin':\n",
    "                K = (temperature_fahrenheit + 459.67) / 1.8\n",
    "                return f'{temperature_fahrenheit}°F is {K:.2f}K.'\n",
    "            else:\n",
    "                C = (temperature_fahrenheit - 32) / 1.8\n",
    "                return f'{temperature_fahrenheit}°F is {C:.2f}°C.'\n",
    "        except ValueError:\n",
    "            print('Invalid! Please insert a number.')\n",
    "\n",
    "print(convert_fahrenheit())"
   ]
  },
  {
   "cell_type": "code",
   "execution_count": 31,
   "id": "bdfbf4fa-2c5b-46be-8c29-e6f997bdee5e",
   "metadata": {},
   "outputs": [],
   "source": [
    "def convert_fahrenheit(temperature_fahrenheit, target_scale):\n",
    "    if target_scale == 'Kelvin':\n",
    "        K = (temperature_fahrenheit + 459.67) / 1.8\n",
    "        return f'{temperature_fahrenheit}°F is {K:.2f}K.'\n",
    "    else:\n",
    "        C = (temperature_fahrenheit - 32) / 1.8\n",
    "        return f'{temperature_fahrenheit}°F is {C:.2f}°C.'"
   ]
  },
  {
   "cell_type": "code",
   "execution_count": 32,
   "id": "1013015e-abf5-4ad5-950a-70e22b6d55ac",
   "metadata": {},
   "outputs": [
    {
     "data": {
      "text/plain": [
       "'100°F is 37.78°C.'"
      ]
     },
     "execution_count": 32,
     "metadata": {},
     "output_type": "execute_result"
    }
   ],
   "source": [
    "convert_fahrenheit(100, 'Celsius')"
   ]
  },
  {
   "attachments": {},
   "cell_type": "markdown",
   "id": "63045cc3-0557-4a05-a21a-1fbc47938d3e",
   "metadata": {},
   "source": [
    "<span style=\"font-weight:bolder;font-size:1.25em\">Exercise 3 (General Temperature Conversion) "
   ]
  },
  {
   "cell_type": "code",
   "execution_count": 57,
   "id": "2c01d914-135f-42b6-a7a9-9e70f047c792",
   "metadata": {},
   "outputs": [
    {
     "name": "stdin",
     "output_type": "stream",
     "text": [
      "What is the temperature? 100\n",
      "Which unit is your current temperature? (Please put either Celsius or Kelvin or Fahrenheit) Fahrenheit\n",
      "Which unit do you want to convert to? (Please put either Celsius or Kelvin or Fahrenheit) Celsius\n"
     ]
    },
    {
     "name": "stdout",
     "output_type": "stream",
     "text": [
      "100.0°F is 37.78°C.\n"
     ]
    }
   ],
   "source": [
    "def convert_temperature():\n",
    "    found = False\n",
    "    while found == False:\n",
    "        try:\n",
    "            temperature = float(input(\"What is the temperature?\"))\n",
    "            source_scale = input('Which unit is your current temperature? (Please put either Celsius or Kelvin or Fahrenheit)')\n",
    "            target_scale = input('Which unit do you want to convert to? (Please put either Celsius or Kelvin or Fahrenheit)')\n",
    "            found == True\n",
    "            if source_scale == 'Celsius':\n",
    "                if target_scale == 'Kelvin':\n",
    "                    K = temperature + 273.15\n",
    "                    return f'{temperature}°C is {K:.2f}K.'\n",
    "                else:\n",
    "                    F = (temperature * 1.8) + 32\n",
    "                    return f'{temperature}°C is {F:.2f}°F.'\n",
    "            elif source_scale == 'Fahrenheit':\n",
    "                if target_scale == 'Kelvin':\n",
    "                    K = (temperature + 459.67) / 1.8\n",
    "                    return f'{temperature}°F is {K:.2f}K.'\n",
    "                else:\n",
    "                    C = (temperature - 32) / 1.8\n",
    "                    return f'{temperature}°F is {C:.2f}°C.'\n",
    "            else:\n",
    "                if target_scale == 'Fahrenheit':\n",
    "                    F = (temperature * 1.8) - 459.67\n",
    "                    return f'{temperature}K is {F:.2f}°F.'\n",
    "                else:\n",
    "                    C = temperature - 273.15\n",
    "                    return f'{temperature}K is {C:.2f}°C.'\n",
    "        except ValueError:\n",
    "            print('Invalid! Please insert a number.')\n",
    "\n",
    "print(convert_temperature())"
   ]
  },
  {
   "cell_type": "code",
   "execution_count": 59,
   "id": "b23e022c-564d-4f23-9650-b08cf607b5c1",
   "metadata": {},
   "outputs": [],
   "source": [
    "def convert_temperature(temperature, source_scale, target_scale):\n",
    "    if source_scale == 'Celsius':\n",
    "        return convert_celsius(temperature, target_scale)\n",
    "    elif source_scale == 'Fahrenheit':\n",
    "        return convert_fahrenheit(temperature, target_scale)\n",
    "    else:\n",
    "        if target_scale == 'Fahrenheit':\n",
    "            F = (temperature * 1.8) - 459.67\n",
    "            return f'{temperature}K is {F:.2f}°F.'\n",
    "        else:\n",
    "            C = temperature - 273.15\n",
    "            return f'{temperature}K is {C:.2f}°C.'"
   ]
  },
  {
   "cell_type": "code",
   "execution_count": 63,
   "id": "87160350-357f-441a-8c16-8b35d0df058e",
   "metadata": {},
   "outputs": [
    {
     "data": {
      "text/plain": [
       "'100K is -173.15°C.'"
      ]
     },
     "execution_count": 63,
     "metadata": {},
     "output_type": "execute_result"
    }
   ],
   "source": [
    "convert_temperature(100, 'Kelvin', 'Celsius')"
   ]
  },
  {
   "cell_type": "code",
   "execution_count": 61,
   "id": "9130fe98-b628-4c10-9b80-3ea6a69e9c4f",
   "metadata": {},
   "outputs": [
    {
     "data": {
      "text/plain": [
       "'100°C is 373.15K.'"
      ]
     },
     "execution_count": 61,
     "metadata": {},
     "output_type": "execute_result"
    }
   ],
   "source": [
    "convert_temperature(100, 'Celsius', 'Kelvin')"
   ]
  },
  {
   "cell_type": "code",
   "execution_count": 62,
   "id": "d3ef5262-55bc-40ba-9c99-3addc633dd97",
   "metadata": {},
   "outputs": [
    {
     "data": {
      "text/plain": [
       "'100°F is 37.78°C.'"
      ]
     },
     "execution_count": 62,
     "metadata": {},
     "output_type": "execute_result"
    }
   ],
   "source": [
    "convert_temperature(100, 'Fahrenheit', 'Celsius')"
   ]
  }
 ],
 "metadata": {
  "kernelspec": {
   "display_name": "Python 3 (ipykernel)",
   "language": "python",
   "name": "python3"
  },
  "language_info": {
   "codemirror_mode": {
    "name": "ipython",
    "version": 3
   },
   "file_extension": ".py",
   "mimetype": "text/x-python",
   "name": "python",
   "nbconvert_exporter": "python",
   "pygments_lexer": "ipython3",
   "version": "3.12.3"
  },
  "toc": {
   "base_numbering": 1,
   "nav_menu": {},
   "number_sections": true,
   "sideBar": true,
   "skip_h1_title": false,
   "title_cell": "Table of Contents",
   "title_sidebar": "Contents",
   "toc_cell": false,
   "toc_position": {},
   "toc_section_display": true,
   "toc_window_display": false
  },
  "vscode": {
   "interpreter": {
    "hash": "31f2aee4e71d21fbe5cf8b01ff0e069b9275f58929596ceb00d14d90e3e16cd6"
   }
  }
 },
 "nbformat": 4,
 "nbformat_minor": 5
}
