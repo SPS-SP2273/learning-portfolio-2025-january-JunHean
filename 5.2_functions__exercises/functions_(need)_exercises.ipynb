{
 "cells": [
  {
   "attachments": {},
   "cell_type": "markdown",
   "id": "123456",
   "metadata": {},
   "source": [
    "<div style=\"text-align:left;font-size:2em\"><span style=\"font-weight:bolder;font-size:1.25em\">SP2273 | Learning Portfolio</span><br><br><span style=\"font-weight:bold;color:darkred\">Functions (Need) Exercises</span></div>"
   ]
  },
  {
   "attachments": {},
   "cell_type": "markdown",
   "id": "89e6e5a6-9f2b-4c6e-8216-4f833718ea4f",
   "metadata": {},
   "source": [
    "<span style=\"font-weight:bolder;font-size:1.25em\">Exercise 1 (Do you know why?)"
   ]
  },
  {
   "cell_type": "code",
   "execution_count": 19,
   "id": "0e1f7b95-4d2c-4101-bd98-2218109b9b79",
   "metadata": {},
   "outputs": [],
   "source": [
    "def greeting():\n",
    "    name=input (\"What is your name?\")\n",
    "    if name == 'Batman':\n",
    "        return 'Hello Batman! So, nice to meet you!'\n",
    "    return f'Hello {name}!'"
   ]
  },
  {
   "cell_type": "code",
   "execution_count": 21,
   "id": "3af92b76-1e84-4240-a014-e79fe13e0a70",
   "metadata": {},
   "outputs": [
    {
     "name": "stdin",
     "output_type": "stream",
     "text": [
      "What is your name? Batman\n"
     ]
    },
    {
     "data": {
      "text/plain": [
       "'Hello Batman! So, nice to meet you!'"
      ]
     },
     "execution_count": 21,
     "metadata": {},
     "output_type": "execute_result"
    }
   ],
   "source": [
    "greeting()"
   ]
  },
  {
   "cell_type": "markdown",
   "id": "8be7c108-92cf-437c-8c9a-cf766b4d3263",
   "metadata": {},
   "source": [
    "It works as there is a `return`, python will end the function there and return the value"
   ]
  },
  {
   "attachments": {},
   "cell_type": "markdown",
   "id": "8c56222b-8451-43f2-b440-84c4558cad58",
   "metadata": {},
   "source": [
    "<span style=\"font-weight:bolder;font-size:1.25em\">Exercise 2 (Chubby or not)"
   ]
  },
  {
   "cell_type": "code",
   "execution_count": 102,
   "id": "60f0751b-f627-49f5-b8c3-e7036d282fdb",
   "metadata": {},
   "outputs": [
    {
     "name": "stdin",
     "output_type": "stream",
     "text": [
      "What is your weight in kg? 78\n",
      "What is your height in m? 1.3\n"
     ]
    },
    {
     "ename": "TypeError",
     "evalue": "unsupported operand type(s) for ** or pow(): 'str' and 'int'",
     "output_type": "error",
     "traceback": [
      "\u001b[1;31m---------------------------------------------------------------------------\u001b[0m",
      "\u001b[1;31mTypeError\u001b[0m                                 Traceback (most recent call last)",
      "Cell \u001b[1;32mIn[102], line 16\u001b[0m\n\u001b[0;32m     13\u001b[0m     \u001b[38;5;28;01melse\u001b[39;00m:\n\u001b[0;32m     14\u001b[0m         \u001b[38;5;28;01mreturn\u001b[39;00m \u001b[38;5;124m'\u001b[39m\u001b[38;5;124mERROR\u001b[39m\u001b[38;5;124m'\u001b[39m    \n\u001b[1;32m---> 16\u001b[0m \u001b[38;5;28mprint\u001b[39m(\u001b[43mcalculate_bmi\u001b[49m\u001b[43m(\u001b[49m\u001b[43m)\u001b[49m)\n",
      "Cell \u001b[1;32mIn[102], line 4\u001b[0m, in \u001b[0;36mcalculate_bmi\u001b[1;34m()\u001b[0m\n\u001b[0;32m      2\u001b[0m weight \u001b[38;5;241m=\u001b[39m \u001b[38;5;28minput\u001b[39m(\u001b[38;5;124m'\u001b[39m\u001b[38;5;124mWhat is your weight in kg?\u001b[39m\u001b[38;5;124m'\u001b[39m)\n\u001b[0;32m      3\u001b[0m height \u001b[38;5;241m=\u001b[39m \u001b[38;5;28minput\u001b[39m(\u001b[38;5;124m'\u001b[39m\u001b[38;5;124mWhat is your height in m?\u001b[39m\u001b[38;5;124m'\u001b[39m)\n\u001b[1;32m----> 4\u001b[0m bmi \u001b[38;5;241m=\u001b[39m \u001b[38;5;28mint\u001b[39m(weight \u001b[38;5;241m/\u001b[39m (\u001b[43mheight\u001b[49m\u001b[43m \u001b[49m\u001b[38;5;241;43m*\u001b[39;49m\u001b[38;5;241;43m*\u001b[39;49m\u001b[43m \u001b[49m\u001b[38;5;241;43m2\u001b[39;49m))\n\u001b[0;32m      5\u001b[0m \u001b[38;5;28;01mif\u001b[39;00m bmi \u001b[38;5;241m<\u001b[39m \u001b[38;5;241m18.5\u001b[39m:\n\u001b[0;32m      6\u001b[0m     \u001b[38;5;28;01mreturn\u001b[39;00m \u001b[38;5;124mf\u001b[39m\u001b[38;5;124m'\u001b[39m\u001b[38;5;124mUnderweight. Your BMI is \u001b[39m\u001b[38;5;132;01m{\u001b[39;00mbmi\u001b[38;5;132;01m}\u001b[39;00m\u001b[38;5;124m which is under 18.5\u001b[39m\u001b[38;5;124m'\u001b[39m\n",
      "\u001b[1;31mTypeError\u001b[0m: unsupported operand type(s) for ** or pow(): 'str' and 'int'"
     ]
    }
   ],
   "source": [
    "def calculate_bmi():\n",
    "    weight = input('What is your weight in kg?')\n",
    "    height = input('What is your height in m?')\n",
    "    bmi = int(weight / (height ** 2))\n",
    "    if bmi < 18.5:\n",
    "        return f'Underweight. Your BMI is {bmi} which is under 18.5'\n",
    "    elif 18.5 <= bmi <= 24.9:\n",
    "        return f'Normal weight. Your BMI is {bmi}, good job'\n",
    "    elif 25 <= bmi <= 29.9:\n",
    "        return f'Overweight. Your BMI is {bmi}, which is more than 24.9'\n",
    "    elif bmi > 29.9:\n",
    "        return f'Obese. Your BMI is {bmi}, please lose some weight.' \n",
    "    else:\n",
    "        return 'ERROR'    \n",
    "\n",
    "print(calculate_bmi())"
   ]
  },
  {
   "cell_type": "code",
   "execution_count": 101,
   "id": "b530a807-8fb8-4826-bf6c-8840bc3578dd",
   "metadata": {},
   "outputs": [
    {
     "name": "stdin",
     "output_type": "stream",
     "text": [
      "What is your weight in kg? 67.4\n",
      "What is your height in m? ten\n"
     ]
    },
    {
     "name": "stdout",
     "output_type": "stream",
     "text": [
      "Invalid, please input a number!\n",
      "None\n"
     ]
    }
   ],
   "source": [
    "def calculate_bmi():\n",
    "    try:                                                                   # try: except: test is to test if the value is correct similar to is.numneric\n",
    "        weight = float(input('What is your weight in kg?'))                # float() is needed as input will generate a string and\n",
    "        height = float(input('What is your height in m?'))                 # weight can have decimal so int() will not work\n",
    "        bmi = weight / (height ** 2)\n",
    "        if bmi < 18.5:\n",
    "            return f'Underweight. Your BMI is {bmi:.2f}.'\n",
    "        elif 18.5 <= bmi <= 24.9:\n",
    "            return f'Normal weight. Your BMI is {bmi:.2f}, good job'\n",
    "        elif 25 <= bmi <= 29.9:\n",
    "            return f'Overweight. Your BMI is {bmi:.2f}, which is more than 24.9'\n",
    "        elif bmi > 29.9:\n",
    "            return f'Obese. Your BMI is {bmi:.2f}, which is more than 24.9.' \n",
    "    except ValueError:\n",
    "        print('Invalid, please input a number!')\n",
    "\n",
    "print(calculate_bmi())\n",
    "\n",
    "#issue with this one is that the code will end once there is an error, it will not repeat & if the height is in cm, there is not protection"
   ]
  },
  {
   "cell_type": "code",
   "execution_count": 112,
   "id": "58cd50ef-d99f-40b6-a525-eea3040e75ac",
   "metadata": {},
   "outputs": [
    {
     "name": "stdin",
     "output_type": "stream",
     "text": [
      "What is your weight in kg? 68\n",
      "What is your height in m? 16\n"
     ]
    },
    {
     "name": "stdout",
     "output_type": "stream",
     "text": [
      "Invalid, please input height in meters (e.g. 1.75m not 175cm)\n"
     ]
    },
    {
     "name": "stdin",
     "output_type": "stream",
     "text": [
      "What is your weight in kg? 62\n",
      "What is your height in m? 1.75\n"
     ]
    },
    {
     "name": "stdout",
     "output_type": "stream",
     "text": [
      "Normal weight. Your BMI is 20.24, good job\n"
     ]
    }
   ],
   "source": [
    "def calculate_bmi():\n",
    "    found = False                                                                   # random variable added as a checker\n",
    "    while found == False:                                                           # so it will run if False, will constantly run until correct \n",
    "        try:\n",
    "            weight = float(input('What is your weight in kg?'))\n",
    "            height = float(input('What is your height in m?'))\n",
    "            if height <= 3:\n",
    "                found = True                                                            # only continues after this line if True \n",
    "                bmi = weight / (height ** 2)\n",
    "                if bmi < 18.5:\n",
    "                    return f'Underweight. Your BMI is {bmi:.2f}.'\n",
    "                elif 18.5 <= bmi <= 24.9:\n",
    "                    return f'Normal weight. Your BMI is {bmi:.2f}, good job'\n",
    "                elif 25 <= bmi <= 29.9:\n",
    "                    return f'Overweight. Your BMI is {bmi:.2f}, which is more than 24.9'\n",
    "                elif bmi > 29.9:\n",
    "                    return f'Obese. Your BMI is {bmi:.2f}, which is more than 24.9.' \n",
    "            else:\n",
    "                print('Invalid, please input height in meters (e.g. 1.75m not 175cm)')\n",
    "        except ValueError:\n",
    "            print('Invalid, please input a number!')                               # print() if still False, and will run from the start\n",
    "\n",
    "print(calculate_bmi())"
   ]
  },
  {
   "attachments": {},
   "cell_type": "markdown",
   "id": "18039765-bda5-4edb-8046-fc79a305e2a6",
   "metadata": {},
   "source": [
    "<span style=\"font-weight:bolder;font-size:1.25em\">Exercise 3 (Factorials)"
   ]
  },
  {
   "cell_type": "code",
   "execution_count": 114,
   "id": "e3a8956c-7573-42aa-ac12-2f099dbaea95",
   "metadata": {},
   "outputs": [
    {
     "name": "stdin",
     "output_type": "stream",
     "text": [
      "What is your number? five\n"
     ]
    },
    {
     "name": "stdout",
     "output_type": "stream",
     "text": [
      "Invalid input. Please input an integer!\n"
     ]
    },
    {
     "name": "stdin",
     "output_type": "stream",
     "text": [
      "What is your number? -5\n"
     ]
    },
    {
     "name": "stdout",
     "output_type": "stream",
     "text": [
      "Invalid input. Please input a positive integer.\n"
     ]
    },
    {
     "name": "stdin",
     "output_type": "stream",
     "text": [
      "What is your number? 5.0\n"
     ]
    },
    {
     "name": "stdout",
     "output_type": "stream",
     "text": [
      "Invalid input. Please input an integer!\n"
     ]
    },
    {
     "name": "stdin",
     "output_type": "stream",
     "text": [
      "What is your number? 5\n"
     ]
    },
    {
     "name": "stdout",
     "output_type": "stream",
     "text": [
      "120\n"
     ]
    }
   ],
   "source": [
    "def factorial():\n",
    "    found = False\n",
    "    while found == False:\n",
    "        try:\n",
    "            n = int(input('What is your number?'))\n",
    "            if n < 0:\n",
    "                found == False\n",
    "                print(\"Invalid input. Please input a positive integer.\")\n",
    "            elif n == 0:\n",
    "                found == True\n",
    "                return 1\n",
    "            else:\n",
    "                result = 1\n",
    "                found == True\n",
    "                for number in range(1, n+1):\n",
    "                    result *= number\n",
    "                return result\n",
    "        except ValueError:\n",
    "            found == False\n",
    "            print(\"Invalid input. Please input an integer!\")\n",
    "\n",
    "print(factorial())"
   ]
  }
 ],
 "metadata": {
  "kernelspec": {
   "display_name": "Python 3 (ipykernel)",
   "language": "python",
   "name": "python3"
  },
  "language_info": {
   "codemirror_mode": {
    "name": "ipython",
    "version": 3
   },
   "file_extension": ".py",
   "mimetype": "text/x-python",
   "name": "python",
   "nbconvert_exporter": "python",
   "pygments_lexer": "ipython3",
   "version": "3.12.3"
  },
  "toc": {
   "base_numbering": 1,
   "nav_menu": {},
   "number_sections": true,
   "sideBar": true,
   "skip_h1_title": false,
   "title_cell": "Table of Contents",
   "title_sidebar": "Contents",
   "toc_cell": false,
   "toc_position": {},
   "toc_section_display": true,
   "toc_window_display": false
  },
  "vscode": {
   "interpreter": {
    "hash": "31f2aee4e71d21fbe5cf8b01ff0e069b9275f58929596ceb00d14d90e3e16cd6"
   }
  }
 },
 "nbformat": 4,
 "nbformat_minor": 5
}
