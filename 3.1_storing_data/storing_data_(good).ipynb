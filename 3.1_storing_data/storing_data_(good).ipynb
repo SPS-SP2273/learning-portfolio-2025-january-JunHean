{
 "cells": [
  {
   "attachments": {},
   "cell_type": "markdown",
   "id": "123456",
   "metadata": {},
   "source": [
    "<div style=\"text-align:left;font-size:2em\"><span style=\"font-weight:bolder;font-size:1.25em\">SP2273 | Learning Portfolio</span><br><br><span style=\"font-weight:bold;color:darkred\">Storing Data (Good)</span></div>"
   ]
  },
  {
   "attachments": {},
   "cell_type": "markdown",
   "id": "ba8a39e1",
   "metadata": {},
   "source": [
    "<span style=\"font-weight:bolder;font-size:1.25em\"> I am redoing the exercises here"
   ]
  },
  {
   "cell_type": "markdown",
   "id": "dfad92be-f127-45d0-b6a0-1c08173b1296",
   "metadata": {},
   "source": [
    "# Exercise 2"
   ]
  },
  {
   "cell_type": "code",
   "execution_count": 20,
   "id": "a90e747b-80cc-4cf4-b344-dc36d2c96c25",
   "metadata": {},
   "outputs": [],
   "source": [
    "import numpy as np\n",
    "\n",
    "np_array_2d = np.array([[1, \"A\"], [3, \"C\"], [2, \"B\"], [4, \"D\"],\n",
    "                        [5, \"E\"], [7, \"G\"], [6, \"F\"], [8, \"H\"],\n",
    "                        [10, \"J\"], [9, \"I\"]])"
   ]
  },
  {
   "cell_type": "code",
   "execution_count": 21,
   "id": "d117aafa-4b4f-4ee6-b1eb-5b0744fe613d",
   "metadata": {},
   "outputs": [
    {
     "data": {
      "text/plain": [
       "array(['A', 'C', 'E', 'G', 'I'], dtype='<U21')"
      ]
     },
     "execution_count": 21,
     "metadata": {},
     "output_type": "execute_result"
    }
   ],
   "source": [
    "index = np_array_2d[:11, 0]\n",
    "num = index.astype(int)\n",
    "mask = num%2 > 0 \n",
    "np_array_2d[mask,1]\n",
    "\n",
    "# mask = np_array_2d % 2 != 0"
   ]
  },
  {
   "cell_type": "code",
   "execution_count": 49,
   "id": "3458c264-8a63-44d5-b675-bf697c34dbb3",
   "metadata": {},
   "outputs": [
    {
     "data": {
      "text/plain": [
       "array(['A', 'C', 'E', 'G', 'I'], dtype='<U21')"
      ]
     },
     "execution_count": 49,
     "metadata": {},
     "output_type": "execute_result"
    }
   ],
   "source": [
    "nums = np_array_2d[:10, 0]\n",
    "nums = nums.astype(int)\n",
    "np_array_2d[nums%2==1, 1]"
   ]
  },
  {
   "cell_type": "markdown",
   "id": "e5dd92c7-edfa-472c-adea-6981bce2d730",
   "metadata": {},
   "source": [
    "# Exerise 3"
   ]
  },
  {
   "cell_type": "code",
   "execution_count": 99,
   "id": "85b7f6da-1375-4e25-8f90-c5652e6858d7",
   "metadata": {},
   "outputs": [
    {
     "name": "stdout",
     "output_type": "stream",
     "text": [
      "[[ 1  0  1 -1 -1]\n",
      " [ 1 -1  1 -1 -1]\n",
      " [ 1 -1 -1  1 -1]\n",
      " [-1  1  1 -1 -1]\n",
      " [ 1 -1  1 -1  1]]\n"
     ]
    }
   ],
   "source": [
    "array = np.array([[66, 50, 57, -1, -1],\n",
    "                  [92, -1, 88, -1, -1],\n",
    "                  [75, -1, -1, 76, -1],\n",
    "                  [-1, 51, 87, -1, -1],\n",
    "                  [71, -1, 67, -1, 69]])\n",
    "array[array < 50] = -1\n",
    "array[array > 50] = +1\n",
    "array[array == 50] = 0\n",
    "\n",
    "print(array)"
   ]
  },
  {
   "cell_type": "markdown",
   "id": "f70739e3-dba0-4d48-9312-fca69b56079a",
   "metadata": {},
   "source": [
    "# Loop (good)"
   ]
  },
  {
   "cell_type": "code",
   "execution_count": 68,
   "id": "919dd724-b002-4571-bcfd-2d0e2a89ae3b",
   "metadata": {},
   "outputs": [
    {
     "name": "stdout",
     "output_type": "stream",
     "text": [
      "1\n",
      "9\n",
      "25\n",
      "49\n"
     ]
    }
   ],
   "source": [
    "for number in range(9):\n",
    "    if number % 2 == 1:\n",
    "        odd = number**2\n",
    "    else:\n",
    "        continue\n",
    "    print(odd)"
   ]
  },
  {
   "cell_type": "code",
   "execution_count": 63,
   "id": "22a826e0-9daa-4042-8c57-5c699426f51b",
   "metadata": {},
   "outputs": [
    {
     "data": {
      "text/plain": [
       "[1, 9, 25, 49]"
      ]
     },
     "execution_count": 63,
     "metadata": {},
     "output_type": "execute_result"
    }
   ],
   "source": [
    "odd = [number**2 for number in range(9) if number % 2 == 1]\n",
    "odd"
   ]
  },
  {
   "cell_type": "code",
   "execution_count": 2,
   "id": "3850f221-947b-45e8-9ec0-55b253c5d13e",
   "metadata": {},
   "outputs": [
    {
     "name": "stdout",
     "output_type": "stream",
     "text": [
      "1.98 μs ± 151 ns per loop (mean ± std. dev. of 7 runs, 100,000 loops each)\n"
     ]
    }
   ],
   "source": [
    "%%timeit \n",
    "\n",
    "for number in range(9):\n",
    "    if number % 2 == 1:\n",
    "        odd = number**2\n",
    "    else:\n",
    "        continue"
   ]
  },
  {
   "cell_type": "code",
   "execution_count": 4,
   "id": "04b97630-e77c-4954-a20e-9867829fc77a",
   "metadata": {},
   "outputs": [
    {
     "name": "stdout",
     "output_type": "stream",
     "text": [
      "2.14 μs ± 280 ns per loop (mean ± std. dev. of 7 runs, 100,000 loops each)\n"
     ]
    }
   ],
   "source": [
    "%%timeit\n",
    "odd = [number**2 for number in range(9) if number % 2 == 1]"
   ]
  },
  {
   "cell_type": "code",
   "execution_count": 10,
   "id": "817b55d2-ccb5-4e49-84c5-7697d2a37b44",
   "metadata": {},
   "outputs": [
    {
     "data": {
      "text/plain": [
       "14"
      ]
     },
     "execution_count": 10,
     "metadata": {},
     "output_type": "execute_result"
    }
   ],
   "source": [
    "waste = 100\n",
    "year = 0\n",
    "\n",
    "while waste > 50:\n",
    "    year += 1\n",
    "    waste *= 0.95\n",
    "    if waste <= 50: break\n",
    "\n",
    "year"
   ]
  },
  {
   "cell_type": "code",
   "execution_count": 25,
   "id": "8673beca-1b85-496a-8b18-49f8ff4006fd",
   "metadata": {},
   "outputs": [
    {
     "ename": "IndexError",
     "evalue": "only integers, slices (`:`), ellipsis (`...`), numpy.newaxis (`None`) and integer or boolean arrays are valid indices",
     "output_type": "error",
     "traceback": [
      "\u001b[1;31m---------------------------------------------------------------------------\u001b[0m",
      "\u001b[1;31mIndexError\u001b[0m                                Traceback (most recent call last)",
      "Cell \u001b[1;32mIn[25], line 13\u001b[0m\n\u001b[0;32m     10\u001b[0m year \u001b[38;5;241m=\u001b[39m co2_data[:, \u001b[38;5;241m0\u001b[39m]\n\u001b[0;32m     12\u001b[0m \u001b[38;5;28;01mfor\u001b[39;00m i \u001b[38;5;129;01min\u001b[39;00m year:\n\u001b[1;32m---> 13\u001b[0m     diff \u001b[38;5;241m=\u001b[39m \u001b[43mco2_data\u001b[49m\u001b[43m[\u001b[49m\u001b[43mi\u001b[49m\u001b[38;5;241;43m+\u001b[39;49m\u001b[38;5;241;43m1\u001b[39;49m\u001b[43m,\u001b[49m\u001b[38;5;241;43m1\u001b[39;49m\u001b[43m]\u001b[49m \u001b[38;5;241m-\u001b[39m co2_data[i,\u001b[38;5;241m1\u001b[39m]\n\u001b[0;32m     14\u001b[0m     diff\n",
      "\u001b[1;31mIndexError\u001b[0m: only integers, slices (`:`), ellipsis (`...`), numpy.newaxis (`None`) and integer or boolean arrays are valid indices"
     ]
    }
   ],
   "source": [
    "co2_data = np.array([(2000, 369.55), (2001, 371.14), (2002, 373.28), \n",
    "                     (2003, 375.80), (2004, 377.52), (2005, 379.80), \n",
    "                     (2006, 381.90), (2007, 383.79), (2008, 385.60), \n",
    "                     (2009, 387.43), (2010, 389.90), (2011, 391.65), \n",
    "                     (2012, 393.85), (2013, 396.52), (2014, 398.65),\n",
    "                     (2015, 400.83), (2016, 404.24), (2017, 406.55), \n",
    "                     (2018, 408.52), (2019, 411.44), (2020, 414.24)\n",
    "                    ])\n",
    "\n",
    "year = co2_data[:, 0]\n",
    "\n",
    "for i in co2_data:\n",
    "    diff = i+1,1] - co2_data[i,1]\n",
    "    diff"
   ]
  },
  {
   "cell_type": "code",
   "execution_count": 50,
   "id": "86b8868d-0b49-4725-ae60-0ad9709a5943",
   "metadata": {},
   "outputs": [
    {
     "name": "stderr",
     "output_type": "stream",
     "text": [
      "<>:17: SyntaxWarning: 'int' object is not subscriptable; perhaps you missed a comma?\n",
      "<>:17: SyntaxWarning: 'int' object is not subscriptable; perhaps you missed a comma?\n",
      "C:\\Users\\junhe\\AppData\\Local\\Temp\\ipykernel_35956\\238145807.py:17: SyntaxWarning: 'int' object is not subscriptable; perhaps you missed a comma?\n",
      "  print(f'in years {i[0]} and {i+1[0]}, there was a increase of CO<subs>2 increase of more than 3ppm')\n"
     ]
    },
    {
     "ename": "AttributeError",
     "evalue": "'tuple' object has no attribute 'split'",
     "output_type": "error",
     "traceback": [
      "\u001b[1;31m---------------------------------------------------------------------------\u001b[0m",
      "\u001b[1;31mAttributeError\u001b[0m                            Traceback (most recent call last)",
      "Cell \u001b[1;32mIn[50], line 14\u001b[0m\n\u001b[0;32m      3\u001b[0m co2_data \u001b[38;5;241m=\u001b[39m [\n\u001b[0;32m      4\u001b[0m     (\u001b[38;5;241m2000\u001b[39m, \u001b[38;5;241m369.55\u001b[39m), (\u001b[38;5;241m2001\u001b[39m, \u001b[38;5;241m371.14\u001b[39m), (\u001b[38;5;241m2002\u001b[39m, \u001b[38;5;241m373.28\u001b[39m), \n\u001b[0;32m      5\u001b[0m     (\u001b[38;5;241m2003\u001b[39m, \u001b[38;5;241m375.80\u001b[39m), (\u001b[38;5;241m2004\u001b[39m, \u001b[38;5;241m377.52\u001b[39m), (\u001b[38;5;241m2005\u001b[39m, \u001b[38;5;241m379.80\u001b[39m), \n\u001b[1;32m   (...)\u001b[0m\n\u001b[0;32m     10\u001b[0m     (\u001b[38;5;241m2018\u001b[39m, \u001b[38;5;241m408.52\u001b[39m), (\u001b[38;5;241m2019\u001b[39m, \u001b[38;5;241m411.44\u001b[39m), (\u001b[38;5;241m2020\u001b[39m, \u001b[38;5;241m414.24\u001b[39m)\n\u001b[0;32m     11\u001b[0m ]\n\u001b[0;32m     13\u001b[0m \u001b[38;5;28;01mfor\u001b[39;00m i \u001b[38;5;129;01min\u001b[39;00m co2_data:\n\u001b[1;32m---> 14\u001b[0m     year, co2 \u001b[38;5;241m=\u001b[39m \u001b[43mi\u001b[49m\u001b[38;5;241;43m.\u001b[39;49m\u001b[43msplit\u001b[49m(\u001b[38;5;124m'\u001b[39m\u001b[38;5;124m,\u001b[39m\u001b[38;5;124m'\u001b[39m)                 \u001b[38;5;66;03m# co2_data is tuples, cannot be split like this\u001b[39;00m\n\u001b[0;32m     15\u001b[0m     diff \u001b[38;5;241m=\u001b[39m (i\u001b[38;5;241m+\u001b[39m\u001b[38;5;241m1\u001b[39m)[\u001b[38;5;241m1\u001b[39m] \u001b[38;5;241m-\u001b[39m i[\u001b[38;5;241m1\u001b[39m]                   \u001b[38;5;66;03m# ngl this doesnt make sense.... like what is the point of splitting HAHAHAHAHA\u001b[39;00m\n\u001b[0;32m     16\u001b[0m     \u001b[38;5;28;01mif\u001b[39;00m diff \u001b[38;5;241m>\u001b[39m \u001b[38;5;241m3\u001b[39m:\n",
      "\u001b[1;31mAttributeError\u001b[0m: 'tuple' object has no attribute 'split'"
     ]
    }
   ],
   "source": [
    "# Failed code\n",
    "\n",
    "co2_data = [\n",
    "    (2000, 369.55), (2001, 371.14), (2002, 373.28), \n",
    "    (2003, 375.80), (2004, 377.52), (2005, 379.80), \n",
    "    (2006, 381.90), (2007, 383.79), (2008, 385.60), \n",
    "    (2009, 387.43), (2010, 389.90), (2011, 391.65), \n",
    "    (2012, 393.85), (2013, 396.52), (2014, 398.65),\n",
    "    (2015, 400.83), (2016, 404.24), (2017, 406.55), \n",
    "    (2018, 408.52), (2019, 411.44), (2020, 414.24)\n",
    "]\n",
    "\n",
    "for i in co2_data:\n",
    "    year, co2 = i.split(',')                 # co2_data is tuples, cannot be split like this\n",
    "    diff = (i+1)[1] - i[1]                   # ngl this doesnt make sense.... like what is the point of splitting HAHAHAHAHA\n",
    "    if diff > 3:\n",
    "        print(f'in years {i[0]} and {i+1[0]}, there was a increase of CO<subs>2 increase of more than 3ppm')"
   ]
  },
  {
   "cell_type": "code",
   "execution_count": 51,
   "id": "2475ab04-a4e8-42da-8f85-e1738b08cb58",
   "metadata": {},
   "outputs": [
    {
     "name": "stdout",
     "output_type": "stream",
     "text": [
      "In years 2015 and 2016, there was a increase of CO₂ increase of more than 3ppm\n"
     ]
    }
   ],
   "source": [
    "co2_data = [\n",
    "    (2000, 369.55), (2001, 371.14), (2002, 373.28), \n",
    "    (2003, 375.80), (2004, 377.52), (2005, 379.80), \n",
    "    (2006, 381.90), (2007, 383.79), (2008, 385.60), \n",
    "    (2009, 387.43), (2010, 389.90), (2011, 391.65), \n",
    "    (2012, 393.85), (2013, 396.52), (2014, 398.65),\n",
    "    (2015, 400.83), (2016, 404.24), (2017, 406.55), \n",
    "    (2018, 408.52), (2019, 411.44), (2020, 414.24)\n",
    "]\n",
    "\n",
    "for i in range(len(co2_data)):\n",
    "    if co2_data[i][0] < 2020: \n",
    "        y1, co1 = co2_data[i]\n",
    "        y2, co2 = co2_data[i+1]\n",
    "        diff = co2 - co1\n",
    "        if diff > 3:\n",
    "            print(f'In years {y1} and {y2}, there was a increase of CO₂ increase of more than 3ppm')"
   ]
  },
  {
   "cell_type": "markdown",
   "id": "bb1902e3-0e6c-4fb0-a2d3-b31258960362",
   "metadata": {},
   "source": [
    "# Functions (good)"
   ]
  },
  {
   "cell_type": "code",
   "execution_count": 70,
   "id": "05b1373c-f1a3-4152-b760-b153009c5be7",
   "metadata": {},
   "outputs": [],
   "source": [
    "def convert_celsius(temp, target_scale):\n",
    "    if isinstance(temp, float):\n",
    "        print('Please input a number!')\n",
    "    else:\n",
    "        scale = target_scale.lower()\n",
    "        if 'k' in scale:\n",
    "            new_temp = temp + 273.15\n",
    "            print(f'{temp}°C is {new_temp:.2f}K')\n",
    "        elif 'f' in scale:\n",
    "            new_temp = (temp * 9/5) + 32\n",
    "            print(f'{temp}°C is {new_temp:.2f}°F')\n",
    "        else:\n",
    "            print('Wrong Scale provided!')               "
   ]
  },
  {
   "cell_type": "code",
   "execution_count": 78,
   "id": "adb05148-c8bc-4a1e-bb1c-49f9d5d11343",
   "metadata": {},
   "outputs": [
    {
     "name": "stdout",
     "output_type": "stream",
     "text": [
      "-90°C is 183.15K\n"
     ]
    }
   ],
   "source": [
    "convert_celsius(-90, 'Kelvin')"
   ]
  },
  {
   "cell_type": "code",
   "execution_count": 82,
   "id": "4e379704-6b4e-42f2-b45a-ae1ea5165c90",
   "metadata": {},
   "outputs": [
    {
     "name": "stdout",
     "output_type": "stream",
     "text": [
      "-90°C is -130.00°F\n"
     ]
    }
   ],
   "source": [
    "convert_celsius(-90, 'faren')"
   ]
  },
  {
   "cell_type": "code",
   "execution_count": 86,
   "id": "28515146-bb1a-4c01-9a61-17ab1a4f76ee",
   "metadata": {},
   "outputs": [],
   "source": [
    "def convert_fahrenheit(temp, target_scale):\n",
    "    if isinstance(temp, float):\n",
    "        print('Please input a number!')\n",
    "    else:\n",
    "        scale = target_scale.lower()\n",
    "        if 'k' in scale:\n",
    "            new_temp = (temp-32) * 5/9 + 273.15\n",
    "            print(f'{temp}°F is {new_temp:.2f}K')\n",
    "        elif 'c' in scale:\n",
    "            new_temp = (temp-32) * 5/9\n",
    "            print(f'{temp}°F is {new_temp:.2f}°C')\n",
    "        else:\n",
    "            print('Wrong Scale provided!')               "
   ]
  },
  {
   "cell_type": "code",
   "execution_count": 87,
   "id": "ae1fd6aa-83ed-4e68-b360-f409f61a0f9f",
   "metadata": {},
   "outputs": [],
   "source": [
    "def convert_temperature(temp, source, target_scale):\n",
    "    if isinstance(temp, float):\n",
    "        print('Please input a number!')\n",
    "    else:\n",
    "        source = source.lower() \n",
    "        scale = target_scale.lower()\n",
    "        if 'c' in source:\n",
    "            convert_celsius(temp, target_scale)\n",
    "        elif 'f' in source:\n",
    "            convert_fahrenheit(temp, target_scale)\n",
    "        elif 'k' in source:\n",
    "            if 'f' in scale:\n",
    "                new_temp = (temp-273.15) * 9/5 + 32\n",
    "                print(f'{temp}°F is {new_temp:.2f}K')\n",
    "            elif 'c' in scale:\n",
    "                new_temp = temp - 273.15\n",
    "                print(f'{temp}°F is {new_temp:.2f}°C')\n",
    "            else:\n",
    "                print('Wrong Scale provided!') \n",
    "        else:\n",
    "            print('Wrong source scale provided!')  "
   ]
  },
  {
   "cell_type": "code",
   "execution_count": 93,
   "id": "021bca32-6b93-4750-9882-fa8d7e8ecdb9",
   "metadata": {},
   "outputs": [
    {
     "name": "stdout",
     "output_type": "stream",
     "text": [
      "90°F is -297.67K\n"
     ]
    }
   ],
   "source": [
    "convert_temperature(90, 'k', 'F')"
   ]
  },
  {
   "cell_type": "code",
   "execution_count": 92,
   "id": "2c2f90c3-3560-4ff1-9135-fa95fc5e6fc9",
   "metadata": {},
   "outputs": [
    {
     "name": "stdout",
     "output_type": "stream",
     "text": [
      "Wrong Scale provided!\n"
     ]
    }
   ],
   "source": [
    "convert_temperature(90, 'k', 'j')"
   ]
  },
  {
   "cell_type": "code",
   "execution_count": 91,
   "id": "b214e871-2e50-419a-9565-de7f95c9ae7f",
   "metadata": {},
   "outputs": [
    {
     "name": "stdout",
     "output_type": "stream",
     "text": [
      "Wrong source scale provided!\n"
     ]
    }
   ],
   "source": [
    "convert_temperature(90, 'grees', 'c')"
   ]
  }
 ],
 "metadata": {
  "kernelspec": {
   "display_name": "Python 3 (ipykernel)",
   "language": "python",
   "name": "python3"
  },
  "language_info": {
   "codemirror_mode": {
    "name": "ipython",
    "version": 3
   },
   "file_extension": ".py",
   "mimetype": "text/x-python",
   "name": "python",
   "nbconvert_exporter": "python",
   "pygments_lexer": "ipython3",
   "version": "3.12.3"
  },
  "toc": {
   "base_numbering": 1,
   "nav_menu": {},
   "number_sections": true,
   "sideBar": true,
   "skip_h1_title": false,
   "title_cell": "Table of Contents",
   "title_sidebar": "Contents",
   "toc_cell": false,
   "toc_position": {},
   "toc_section_display": true,
   "toc_window_display": false
  },
  "vscode": {
   "interpreter": {
    "hash": "31f2aee4e71d21fbe5cf8b01ff0e069b9275f58929596ceb00d14d90e3e16cd6"
   }
  }
 },
 "nbformat": 4,
 "nbformat_minor": 5
}
