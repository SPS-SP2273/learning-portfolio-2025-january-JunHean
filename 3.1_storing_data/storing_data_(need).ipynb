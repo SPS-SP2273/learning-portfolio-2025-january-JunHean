{
 "cells": [
  {
   "attachments": {},
   "cell_type": "markdown",
   "id": "123456",
   "metadata": {},
   "source": [
    "<div style=\"text-align:left;font-size:2em\"><span style=\"font-weight:bolder;font-size:1.25em\">SP2273 | Learning Portfolio</span><br><br><span style=\"font-weight:bold;color:darkred\">Storing Data (Need)</span></div>"
   ]
  },
  {
   "cell_type": "code",
   "execution_count": 13,
   "id": "ca3d7202-c29c-4124-b7af-e7440d3703dc",
   "metadata": {},
   "outputs": [],
   "source": [
    "py_list=[1,2,3,4,5]\n",
    "\n",
    "#good for stoping numbers"
   ]
  },
  {
   "cell_type": "code",
   "execution_count": 10,
   "id": "a938eac3-a79b-4fce-90dc-c86f6b33e9d1",
   "metadata": {},
   "outputs": [
    {
     "data": {
      "text/plain": [
       "[1, 2, 3, 4, 5]"
      ]
     },
     "execution_count": 10,
     "metadata": {},
     "output_type": "execute_result"
    }
   ],
   "source": [
    "py_list"
   ]
  },
  {
   "cell_type": "code",
   "execution_count": 11,
   "id": "07a45e15-2530-483c-b4b0-aa07efe233a6",
   "metadata": {},
   "outputs": [],
   "source": [
    "import numpy as np\n",
    "np_array = np.array([1,2,3,4,5])\n",
    "\n",
    "# np.array is useful for math calculations"
   ]
  },
  {
   "cell_type": "code",
   "execution_count": 12,
   "id": "c2a4eb58-a247-44c1-9a7b-75867a7b38be",
   "metadata": {},
   "outputs": [
    {
     "data": {
      "text/plain": [
       "array([1, 2, 3, 4, 5])"
      ]
     },
     "execution_count": 12,
     "metadata": {},
     "output_type": "execute_result"
    }
   ],
   "source": [
    "np_array"
   ]
  },
  {
   "cell_type": "markdown",
   "id": "597bb0a5-ee87-40ce-a479-ac702910321c",
   "metadata": {},
   "source": [
    "## Testing the fucntion"
   ]
  },
  {
   "cell_type": "code",
   "execution_count": 17,
   "id": "15651b03-b44e-4051-9e46-1625d9113738",
   "metadata": {},
   "outputs": [
    {
     "data": {
      "text/plain": [
       "[1, 2, 3, 4, 5, 1, 2, 3, 4, 5]"
      ]
     },
     "execution_count": 17,
     "metadata": {},
     "output_type": "execute_result"
    }
   ],
   "source": [
    "py_list*2"
   ]
  },
  {
   "cell_type": "code",
   "execution_count": 18,
   "id": "7d82d2eb-3c43-47a0-aebd-9272ea9a17c5",
   "metadata": {},
   "outputs": [
    {
     "data": {
      "text/plain": [
       "array([ 2,  4,  6,  8, 10])"
      ]
     },
     "execution_count": 18,
     "metadata": {},
     "output_type": "execute_result"
    }
   ],
   "source": [
    "np_array*2"
   ]
  },
  {
   "cell_type": "markdown",
   "id": "78054ce4-dd6e-45f4-993a-886ad1750720",
   "metadata": {},
   "source": [
    "## Fucntion of np_array to be for math"
   ]
  },
  {
   "cell_type": "code",
   "execution_count": 21,
   "id": "02563ffe-f05b-474d-a3d4-33843da108d3",
   "metadata": {},
   "outputs": [
    {
     "ename": "TypeError",
     "evalue": "can only concatenate list (not \"int\") to list",
     "output_type": "error",
     "traceback": [
      "\u001b[1;31m---------------------------------------------------------------------------\u001b[0m",
      "\u001b[1;31mTypeError\u001b[0m                                 Traceback (most recent call last)",
      "Cell \u001b[1;32mIn[21], line 1\u001b[0m\n\u001b[1;32m----> 1\u001b[0m \u001b[43mpy_list\u001b[49m\u001b[38;5;241;43m+\u001b[39;49m\u001b[38;5;241;43m2\u001b[39;49m\n",
      "\u001b[1;31mTypeError\u001b[0m: can only concatenate list (not \"int\") to list"
     ]
    }
   ],
   "source": [
    "py_list+2"
   ]
  },
  {
   "cell_type": "code",
   "execution_count": 20,
   "id": "78f1c2c1-a32f-444b-a15f-da51d68f5740",
   "metadata": {},
   "outputs": [
    {
     "data": {
      "text/plain": [
       "array([3, 4, 5, 6, 7])"
      ]
     },
     "execution_count": 20,
     "metadata": {},
     "output_type": "execute_result"
    }
   ],
   "source": [
    "np_array+2"
   ]
  },
  {
   "cell_type": "markdown",
   "id": "ca0a4396-13d8-4682-a6aa-ee2619a57ef2",
   "metadata": {},
   "source": [
    "## ???"
   ]
  },
  {
   "cell_type": "code",
   "execution_count": 22,
   "id": "41256068-c8f2-4d50-a70b-72516952cd54",
   "metadata": {},
   "outputs": [
    {
     "data": {
      "text/plain": [
       "(5,)"
      ]
     },
     "execution_count": 22,
     "metadata": {},
     "output_type": "execute_result"
    }
   ],
   "source": [
    "np_array.shape"
   ]
  },
  {
   "cell_type": "code",
   "execution_count": 24,
   "id": "2c077148-6cfd-4ca2-ba26-0f060190a7ea",
   "metadata": {},
   "outputs": [
    {
     "data": {
      "text/plain": [
       "True"
      ]
     },
     "execution_count": 24,
     "metadata": {},
     "output_type": "execute_result"
    }
   ],
   "source": [
    "'a' in ['a','b','c']"
   ]
  },
  {
   "cell_type": "code",
   "execution_count": 27,
   "id": "83493525-d172-4893-bcab-c1f22bd0b0fd",
   "metadata": {},
   "outputs": [
    {
     "data": {
      "text/plain": [
       "array([47, 67, 60, 41,  3, 96, 17, 66, 93, 74, 10,  5, 35, 47, 87, 12, 22,\n",
       "       52, 22, 13, 34, 89, 54, 91, 90, 73, 15, 54, 66, 30, 46, 66, 15,  5,\n",
       "       48, 74, 56,  3, 43,  1, 63, 26, 80, 31, 33, 84, 74, 45,  1, 88, 69,\n",
       "       23, 33, 21, 43, 89, 15, 11, 59, 66, 71, 43, 67, 90, 51, 67, 55,  2,\n",
       "       10, 93, 96, 38, 44,  1, 39, 83, 68, 76, 34, 65, 50, 38,  3, 33, 18,\n",
       "       37, 44,  4, 99, 34, 63, 18, 36,  9, 93, 61, 47, 89, 84, 15],\n",
       "      dtype=int32)"
      ]
     },
     "execution_count": 27,
     "metadata": {},
     "output_type": "execute_result"
    }
   ],
   "source": [
    "my_rand_numbers=np.random.randint(1,100,100)\n",
    "my_rand_numbers"
   ]
  },
  {
   "cell_type": "code",
   "execution_count": 31,
   "id": "02cf57bf-b18e-41c6-9677-10fce870c33f",
   "metadata": {},
   "outputs": [],
   "source": [
    "masked = my_rand_numbers < 50 "
   ]
  },
  {
   "cell_type": "code",
   "execution_count": 32,
   "id": "1e9dd691-089d-45ca-8613-b4bcd555ae20",
   "metadata": {},
   "outputs": [
    {
     "data": {
      "text/plain": [
       "array([47, 41,  3, 17, 10,  5, 35, 47, 12, 22, 22, 13, 34, 15, 30, 46, 15,\n",
       "        5, 48,  3, 43,  1, 26, 31, 33, 45,  1, 23, 33, 21, 43, 15, 11, 43,\n",
       "        2, 10, 38, 44,  1, 39, 34, 38,  3, 33, 18, 37, 44,  4, 34, 18, 36,\n",
       "        9, 47, 15], dtype=int32)"
      ]
     },
     "execution_count": 32,
     "metadata": {},
     "output_type": "execute_result"
    }
   ],
   "source": [
    "my_rand_numbers[masked]\n",
    "\n",
    "# \"[]\" is asked to get a subset of the initial set"
   ]
  },
  {
   "cell_type": "code",
   "execution_count": 48,
   "id": "a913ec8e-d308-4263-9378-975e9f08eb00",
   "metadata": {},
   "outputs": [],
   "source": [
    "#Subsection that is below 50 and is odd\n",
    "\n",
    "mask_odd = (my_rand_numbers < 50) & (my_rand_numbers%2==1)\n",
    "\n",
    "# \"&\" to add a second condition"
   ]
  },
  {
   "cell_type": "code",
   "execution_count": 44,
   "id": "faa7a9f2-4841-4a95-a75e-fd21f6023935",
   "metadata": {},
   "outputs": [
    {
     "data": {
      "text/plain": [
       "array([47, 41,  3, 17,  5, 35, 47, 13, 15, 15,  5,  3, 43,  1, 31, 33, 45,\n",
       "        1, 23, 33, 21, 43, 15, 11, 43,  1, 39,  3, 33, 37,  9, 47, 15],\n",
       "      dtype=int32)"
      ]
     },
     "execution_count": 44,
     "metadata": {},
     "output_type": "execute_result"
    }
   ],
   "source": [
    "my_rand_numbers[mask_odd]"
   ]
  },
  {
   "cell_type": "code",
   "execution_count": 56,
   "id": "b17b1c07-f151-4ea0-a642-d4b42946b802",
   "metadata": {},
   "outputs": [
    {
     "data": {
      "text/plain": [
       "3.3333333333333335"
      ]
     },
     "execution_count": 56,
     "metadata": {},
     "output_type": "execute_result"
    }
   ],
   "source": [
    "# types of divide\n",
    "10/3\n",
    "\n",
    "# typical division"
   ]
  },
  {
   "cell_type": "code",
   "execution_count": 55,
   "id": "1310954f-1f92-40ce-9ea7-8eff67a49bcd",
   "metadata": {},
   "outputs": [
    {
     "data": {
      "text/plain": [
       "3"
      ]
     },
     "execution_count": 55,
     "metadata": {},
     "output_type": "execute_result"
    }
   ],
   "source": [
    "10//3\n",
    "\n",
    "# will give the whol number from the division"
   ]
  },
  {
   "cell_type": "code",
   "execution_count": 54,
   "id": "b070c7cf-244a-4788-be8d-0a5f344b21f6",
   "metadata": {},
   "outputs": [
    {
     "data": {
      "text/plain": [
       "1"
      ]
     },
     "execution_count": 54,
     "metadata": {},
     "output_type": "execute_result"
    }
   ],
   "source": [
    "10%3\n",
    "\n",
    "# this will give you the remiainer after all integers are remvoed"
   ]
  },
  {
   "cell_type": "code",
   "execution_count": 46,
   "id": "a59db68c-5fcc-4004-b381-0bedac07e868",
   "metadata": {},
   "outputs": [
    {
     "data": {
      "text/plain": [
       "np.int32(96)"
      ]
     },
     "execution_count": 46,
     "metadata": {},
     "output_type": "execute_result"
    }
   ],
   "source": [
    "#extraction of specific number e.g. I want the 5th number\n",
    "\n",
    "my_rand_numbers[5]"
   ]
  },
  {
   "cell_type": "code",
   "execution_count": 47,
   "id": "4d8f0668-32a4-433e-a031-016cfe58ace0",
   "metadata": {},
   "outputs": [
    {
     "data": {
      "text/plain": [
       "np.int32(84)"
      ]
     },
     "execution_count": 47,
     "metadata": {},
     "output_type": "execute_result"
    }
   ],
   "source": [
    "#extraction of specific number e.g. I want the second last number\n",
    "\n",
    "my_rand_numbers[-2]"
   ]
  },
  {
   "cell_type": "code",
   "execution_count": 57,
   "id": "19994d8c-6498-449b-a5be-ad43e6e479a2",
   "metadata": {},
   "outputs": [],
   "source": [
    "py_2d_list = [[1,2,3],[4,5,6],[7,8,9]]"
   ]
  },
  {
   "cell_type": "code",
   "execution_count": 59,
   "id": "1c6db6c5-bf66-454c-b828-0a0a3ef517dc",
   "metadata": {},
   "outputs": [
    {
     "data": {
      "text/plain": [
       "[[1, 2, 3], [4, 5, 6], [7, 8, 9]]"
      ]
     },
     "execution_count": 59,
     "metadata": {},
     "output_type": "execute_result"
    }
   ],
   "source": [
    "py_2d_list"
   ]
  },
  {
   "cell_type": "code",
   "execution_count": 60,
   "id": "cd3c3365-a0dc-4baa-b812-55a91d4cea65",
   "metadata": {},
   "outputs": [
    {
     "data": {
      "text/plain": [
       "[7, 8, 9]"
      ]
     },
     "execution_count": 60,
     "metadata": {},
     "output_type": "execute_result"
    }
   ],
   "source": [
    "py_2d_list[2]"
   ]
  },
  {
   "cell_type": "code",
   "execution_count": 61,
   "id": "f6227d7d-9528-42bf-8835-8722067f8172",
   "metadata": {},
   "outputs": [],
   "source": [
    "py_list_2d = [[1, \"A\"], [2, \"B\"], [3, \"C\"], [4, \"D\"],\n",
    "              [5, \"E\"], [6, \"F\"], [7, \"G\"], [8, \"H\"],\n",
    "              [9, \"I\"], [10, \"J\"]]\n",
    "\n",
    "np_array_2d = np.array(py_list_2d)      # Reusing the Python list \n",
    "                                        # to create a NEW\n",
    "                                        # NumPy array"
   ]
  },
  {
   "cell_type": "code",
   "execution_count": 63,
   "id": "0360f147-9677-4a7d-9990-4d95cddacd61",
   "metadata": {},
   "outputs": [
    {
     "data": {
      "text/plain": [
       "[[1, 'A'],\n",
       " [2, 'B'],\n",
       " [3, 'C'],\n",
       " [4, 'D'],\n",
       " [5, 'E'],\n",
       " [6, 'F'],\n",
       " [7, 'G'],\n",
       " [8, 'H'],\n",
       " [9, 'I'],\n",
       " [10, 'J']]"
      ]
     },
     "execution_count": 63,
     "metadata": {},
     "output_type": "execute_result"
    }
   ],
   "source": [
    "py_list_2d"
   ]
  },
  {
   "cell_type": "code",
   "execution_count": 66,
   "id": "3cfdfb17-5260-4eaa-9bec-e7c26f298cd5",
   "metadata": {},
   "outputs": [
    {
     "data": {
      "text/plain": [
       "[1, 'A']"
      ]
     },
     "execution_count": 66,
     "metadata": {},
     "output_type": "execute_result"
    }
   ],
   "source": [
    "py_list_2d[0]"
   ]
  },
  {
   "cell_type": "code",
   "execution_count": 72,
   "id": "7586639f-c7b6-4c71-8956-bc34a28406f9",
   "metadata": {},
   "outputs": [
    {
     "data": {
      "text/plain": [
       "'A'"
      ]
     },
     "execution_count": 72,
     "metadata": {},
     "output_type": "execute_result"
    }
   ],
   "source": [
    "py_list_2d[0][1]"
   ]
  },
  {
   "cell_type": "code",
   "execution_count": 65,
   "id": "0e1b4223-c6b4-4202-838a-1a827575dc32",
   "metadata": {},
   "outputs": [
    {
     "data": {
      "text/plain": [
       "array([['1', 'A'],\n",
       "       ['2', 'B'],\n",
       "       ['3', 'C'],\n",
       "       ['4', 'D'],\n",
       "       ['5', 'E'],\n",
       "       ['6', 'F'],\n",
       "       ['7', 'G'],\n",
       "       ['8', 'H'],\n",
       "       ['9', 'I'],\n",
       "       ['10', 'J']], dtype='<U21')"
      ]
     },
     "execution_count": 65,
     "metadata": {},
     "output_type": "execute_result"
    }
   ],
   "source": [
    "np_array_2d\n",
    "\n",
    "#restriction on numpy i sthat there is only 1 format, so by using array, the number will be converted to words which is represented by ''"
   ]
  },
  {
   "cell_type": "code",
   "execution_count": 68,
   "id": "d3dba854-5916-4e1f-b24c-e06c9868e0bc",
   "metadata": {},
   "outputs": [
    {
     "data": {
      "text/plain": [
       "array(['1', 'A'], dtype='<U21')"
      ]
     },
     "execution_count": 68,
     "metadata": {},
     "output_type": "execute_result"
    }
   ],
   "source": [
    "np_array_2d[0]"
   ]
  },
  {
   "cell_type": "code",
   "execution_count": 69,
   "id": "1bf5f296-6684-42f5-9c26-01e7c9e3ba1c",
   "metadata": {},
   "outputs": [
    {
     "data": {
      "text/plain": [
       "np.str_('A')"
      ]
     },
     "execution_count": 69,
     "metadata": {},
     "output_type": "execute_result"
    }
   ],
   "source": [
    "np_array_2d[0,1]"
   ]
  },
  {
   "cell_type": "code",
   "execution_count": 96,
   "id": "fe44d52e-2e0e-4a4a-a4b2-c99d641241a5",
   "metadata": {},
   "outputs": [],
   "source": [
    "py_super_names = [\"Black Widow\", \"Iron Man\", \"Doctor Strange\"]\n",
    "py_real_names = [\"Natasha Romanoff\", \"Tony Stark\", \"Stephen Strange\"]\n",
    "\n",
    "np_super_names = np.array([\"Black Widow\", \"Iron Man\", \"Doctor Strange\"])\n",
    "np_real_names = np.array([\"Natasha Romanoff\", \"Tony Stark\", \"Stephen Strange\"])\n",
    "\n",
    "dict_superhero_info = {\n",
    "    \"Natasha Romanoff\": [\"Black Widow\", \"Natalia\"],\n",
    "    \"Tony Stark\": \"Iron Man\",\n",
    "    \"Stephen Strange\": \"Doctor Strange\"\n",
    "}"
   ]
  },
  {
   "cell_type": "code",
   "execution_count": 97,
   "id": "fe802775-8a6b-4ce3-a210-2e9da466f406",
   "metadata": {},
   "outputs": [
    {
     "data": {
      "text/plain": [
       "'Iron Man'"
      ]
     },
     "execution_count": 97,
     "metadata": {},
     "output_type": "execute_result"
    }
   ],
   "source": [
    "superhero_info['Tony Stark']"
   ]
  },
  {
   "cell_type": "code",
   "execution_count": 98,
   "id": "70ae2aaa-2294-407a-9dc9-868208b3f96f",
   "metadata": {},
   "outputs": [
    {
     "data": {
      "text/plain": [
       "'Black Widow'"
      ]
     },
     "execution_count": 98,
     "metadata": {},
     "output_type": "execute_result"
    }
   ],
   "source": [
    "superhero_info['Natasha Romanoff']"
   ]
  },
  {
   "cell_type": "code",
   "execution_count": 99,
   "id": "21675cb9-e2f0-490f-ba67-cfb4362da61d",
   "metadata": {},
   "outputs": [
    {
     "data": {
      "text/plain": [
       "'B'"
      ]
     },
     "execution_count": 99,
     "metadata": {},
     "output_type": "execute_result"
    }
   ],
   "source": [
    "superhero_info['Natasha Romanoff'][0]"
   ]
  },
  {
   "cell_type": "markdown",
   "id": "6bd83222-81e7-4f87-9eff-79498d5bcc51",
   "metadata": {},
   "source": [
    "# Need"
   ]
  },
  {
   "cell_type": "code",
   "execution_count": 100,
   "id": "1051d979-eaaf-4298-a6ff-e507203aa5fd",
   "metadata": {},
   "outputs": [],
   "source": [
    "py_list=[\"a1\", \"b2\", \"c3\", \"d4\", \"e5\",\n",
    "         \"f6\", \"g7\", \"h8\", \"i9\", \"j10\"]\n",
    "np_array=np.array(py_list)\n",
    "\n",
    "# Pick one\n",
    "x = py_list  # OR\n",
    "x = np_array"
   ]
  },
  {
   "cell_type": "code",
   "execution_count": 101,
   "id": "f8d8d591-b55d-497e-83a2-465f94b32961",
   "metadata": {},
   "outputs": [
    {
     "data": {
      "text/plain": [
       "'j10'"
      ]
     },
     "execution_count": 101,
     "metadata": {},
     "output_type": "execute_result"
    }
   ],
   "source": [
    "py_list[-1]"
   ]
  },
  {
   "cell_type": "code",
   "execution_count": 107,
   "id": "bb4b5a1f-cd02-41b4-b5e5-4ba6f62b93e8",
   "metadata": {},
   "outputs": [
    {
     "data": {
      "text/plain": [
       "['d4', 'e5', 'f6']"
      ]
     },
     "execution_count": 107,
     "metadata": {},
     "output_type": "execute_result"
    }
   ],
   "source": [
    "py_list[3:6]"
   ]
  },
  {
   "cell_type": "code",
   "execution_count": 113,
   "id": "c902f465-d706-475e-95aa-8a2c876d63a5",
   "metadata": {},
   "outputs": [
    {
     "data": {
      "text/plain": [
       "['j10']"
      ]
     },
     "execution_count": 113,
     "metadata": {},
     "output_type": "execute_result"
    }
   ],
   "source": [
    "py_list[-1::1]"
   ]
  },
  {
   "attachments": {},
   "cell_type": "markdown",
   "id": "c932c0f9",
   "metadata": {
    "jp-MarkdownHeadingCollapsed": true
   },
   "source": [
    "# What to expect in this chapter"
   ]
  },
  {
   "attachments": {},
   "cell_type": "markdown",
   "id": "a7e382e5",
   "metadata": {},
   "source": [
    "# 1 Lists, Arrays & Dictionaries"
   ]
  },
  {
   "attachments": {},
   "cell_type": "markdown",
   "id": "90387684",
   "metadata": {},
   "source": [
    "## 1.1 Let’s compare"
   ]
  },
  {
   "attachments": {},
   "cell_type": "markdown",
   "id": "a1753314",
   "metadata": {},
   "source": [
    "## 1.2 Accessing data from a list (or array)"
   ]
  },
  {
   "attachments": {},
   "cell_type": "markdown",
   "id": "ec2191f9",
   "metadata": {},
   "source": [
    "## 1.3 Accessing data from a dictionary"
   ]
  },
  {
   "attachments": {},
   "cell_type": "markdown",
   "id": "8ea050fc",
   "metadata": {},
   "source": [
    "## 1.4 Higher dimensional lists"
   ]
  },
  {
   "attachments": {},
   "cell_type": "markdown",
   "id": "818c0f97",
   "metadata": {},
   "source": [
    "# 2 Lists vs. Arrays"
   ]
  },
  {
   "attachments": {},
   "cell_type": "markdown",
   "id": "7b72b733",
   "metadata": {},
   "source": [
    "## 2.1 Size"
   ]
  },
  {
   "attachments": {},
   "cell_type": "markdown",
   "id": "5329d082",
   "metadata": {},
   "source": [
    "## 2.2 Arrays are fussy about type"
   ]
  },
  {
   "attachments": {},
   "cell_type": "markdown",
   "id": "f4704839",
   "metadata": {},
   "source": [
    "## 2.3 Adding a number"
   ]
  },
  {
   "attachments": {},
   "cell_type": "markdown",
   "id": "a207f573",
   "metadata": {},
   "source": [
    "## 2.4 Adding another list"
   ]
  },
  {
   "attachments": {},
   "cell_type": "markdown",
   "id": "5b2cfa31",
   "metadata": {},
   "source": [
    "## 2.5 Multiplying by a Number"
   ]
  },
  {
   "attachments": {},
   "cell_type": "markdown",
   "id": "85f4854d",
   "metadata": {},
   "source": [
    "## 2.6 Squaring"
   ]
  },
  {
   "attachments": {},
   "cell_type": "markdown",
   "id": "9f22a26e",
   "metadata": {},
   "source": [
    "## 2.7 Asking questions"
   ]
  },
  {
   "attachments": {},
   "cell_type": "markdown",
   "id": "1af9ea23",
   "metadata": {},
   "source": [
    "## 2.8 Mathematics"
   ]
  },
  {
   "attachments": {},
   "cell_type": "markdown",
   "id": "ee80cd1c",
   "metadata": {},
   "source": [
    "## Footnotes"
   ]
  }
 ],
 "metadata": {
  "kernelspec": {
   "display_name": "Python 3 (ipykernel)",
   "language": "python",
   "name": "python3"
  },
  "language_info": {
   "codemirror_mode": {
    "name": "ipython",
    "version": 3
   },
   "file_extension": ".py",
   "mimetype": "text/x-python",
   "name": "python",
   "nbconvert_exporter": "python",
   "pygments_lexer": "ipython3",
   "version": "3.12.3"
  },
  "toc": {
   "base_numbering": 1,
   "nav_menu": {},
   "number_sections": true,
   "sideBar": true,
   "skip_h1_title": false,
   "title_cell": "Table of Contents",
   "title_sidebar": "Contents",
   "toc_cell": false,
   "toc_position": {},
   "toc_section_display": true,
   "toc_window_display": false
  },
  "vscode": {
   "interpreter": {
    "hash": "31f2aee4e71d21fbe5cf8b01ff0e069b9275f58929596ceb00d14d90e3e16cd6"
   }
  }
 },
 "nbformat": 4,
 "nbformat_minor": 5
}
